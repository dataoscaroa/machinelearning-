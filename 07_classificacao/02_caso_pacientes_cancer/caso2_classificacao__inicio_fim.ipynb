{
 "cells": [
  {
   "cell_type": "markdown",
   "id": "4054d721",
   "metadata": {},
   "source": [
    "# Caso 2: Modelos de Classificação Supervisionados"
   ]
  },
  {
   "cell_type": "markdown",
   "id": "0e011e15",
   "metadata": {},
   "source": [
    "Versão Python:"
   ]
  },
  {
   "cell_type": "code",
   "execution_count": 1,
   "id": "e5f1c019",
   "metadata": {},
   "outputs": [
    {
     "name": "stdout",
     "output_type": "stream",
     "text": [
      "Versão de Python:  3.9.13\n"
     ]
    }
   ],
   "source": [
    "from platform import python_version\n",
    "print(\"Versão de Python: \", python_version())"
   ]
  },
  {
   "cell_type": "markdown",
   "id": "cd349287",
   "metadata": {},
   "source": [
    "Livrarias:"
   ]
  },
  {
   "cell_type": "code",
   "execution_count": 2,
   "id": "87507ba6",
   "metadata": {},
   "outputs": [],
   "source": [
    "import pandas as pd\n",
    "import numpy as np\n",
    "import matplotlib.pyplot as plt"
   ]
  },
  {
   "cell_type": "markdown",
   "id": "34319028",
   "metadata": {},
   "source": [
    "## Definição do Desafio\n",
    "\n",
    "- Considera-se o conjunto de dados de $683$ pacientes de um centro médico. Cada paciente é categorizado de acordo com sua condição médica ($2$ para \"tem câncer\" e $4$ para \"não tem câncer\").\n",
    "\n",
    "- Busca-se desenvolver um sistema capaz de prever a condição oncológica de futuros pacientes com base em nove ($9$) características específicas."
   ]
  },
  {
   "cell_type": "markdown",
   "id": "fa0dea72",
   "metadata": {},
   "source": [
    "## Quadro geral do desafio\n",
    "\n",
    "- Como se espera usar e se beneficiar desse modelo? A saida do modelo será a classificação de pacientes segundo sua condição de saúde. Este sistema determinará quais paciêntes devem ser encaminhados para tratamento. Não alimenta outro sistema. \n",
    "\n",
    "- Como é a solução atual? O especilista médica olha e determina quais pacientes e determinam a condição de saúde dos mesmos. O que implica bastantes regras e um alto valor. "
   ]
  },
  {
   "cell_type": "markdown",
   "id": "ecaecc94",
   "metadata": {},
   "source": [
    "## Sistema, tarefa e ténica de ML\n",
    "\n",
    "- Qual tipo de supervisão de treinamento será necessário para o modelo? Será necessário um sistema de *ML* supervisionado, uma vez que que os individus são rotulados por sua condição médica. \n",
    "\n",
    "- Qual será a tarefa desempenhada pelo modelo? Clasificação do estado de saúde dos paciente. \n",
    "\n",
    "- Deve-se utilizar técnicas de aprendizado em lote ou em tempo real? Por lote, uma vez que o banco de dados não é atualizado rápidamente. "
   ]
  },
  {
   "cell_type": "markdown",
   "id": "c7ded990",
   "metadata": {},
   "source": [
    "## Obter Dados"
   ]
  },
  {
   "cell_type": "code",
   "execution_count": 3,
   "id": "980fbb48",
   "metadata": {},
   "outputs": [],
   "source": [
    "# Carregar dados\n",
    "data_set = pd.read_csv(\"Data.csv\")"
   ]
  },
  {
   "cell_type": "code",
   "execution_count": 4,
   "id": "5f2a40a6",
   "metadata": {},
   "outputs": [],
   "source": [
    "# renomear colu\n",
    "data_set.columns = ['code_number', 'clump_thickness', 'uniformity_cell_size',\n",
    "       'uniformity_cell_shape', 'marginal_adhesion',\n",
    "       'single_epithelial_cell_size', 'bare_nuclei', 'bland_chromatin',\n",
    "       'normal_nucleoli', 'mitoses', 'class']"
   ]
  },
  {
   "cell_type": "code",
   "execution_count": 5,
   "id": "02ec98bf",
   "metadata": {
    "scrolled": true
   },
   "outputs": [
    {
     "data": {
      "text/html": [
       "<div>\n",
       "<style scoped>\n",
       "    .dataframe tbody tr th:only-of-type {\n",
       "        vertical-align: middle;\n",
       "    }\n",
       "\n",
       "    .dataframe tbody tr th {\n",
       "        vertical-align: top;\n",
       "    }\n",
       "\n",
       "    .dataframe thead th {\n",
       "        text-align: right;\n",
       "    }\n",
       "</style>\n",
       "<table border=\"1\" class=\"dataframe\">\n",
       "  <thead>\n",
       "    <tr style=\"text-align: right;\">\n",
       "      <th></th>\n",
       "      <th>code_number</th>\n",
       "      <th>clump_thickness</th>\n",
       "      <th>uniformity_cell_size</th>\n",
       "      <th>uniformity_cell_shape</th>\n",
       "      <th>marginal_adhesion</th>\n",
       "      <th>single_epithelial_cell_size</th>\n",
       "      <th>bare_nuclei</th>\n",
       "      <th>bland_chromatin</th>\n",
       "      <th>normal_nucleoli</th>\n",
       "      <th>mitoses</th>\n",
       "      <th>class</th>\n",
       "    </tr>\n",
       "  </thead>\n",
       "  <tbody>\n",
       "    <tr>\n",
       "      <th>0</th>\n",
       "      <td>1000025</td>\n",
       "      <td>5</td>\n",
       "      <td>1</td>\n",
       "      <td>1</td>\n",
       "      <td>1</td>\n",
       "      <td>2</td>\n",
       "      <td>1</td>\n",
       "      <td>3</td>\n",
       "      <td>1</td>\n",
       "      <td>1</td>\n",
       "      <td>2</td>\n",
       "    </tr>\n",
       "    <tr>\n",
       "      <th>1</th>\n",
       "      <td>1002945</td>\n",
       "      <td>5</td>\n",
       "      <td>4</td>\n",
       "      <td>4</td>\n",
       "      <td>5</td>\n",
       "      <td>7</td>\n",
       "      <td>10</td>\n",
       "      <td>3</td>\n",
       "      <td>2</td>\n",
       "      <td>1</td>\n",
       "      <td>2</td>\n",
       "    </tr>\n",
       "    <tr>\n",
       "      <th>2</th>\n",
       "      <td>1015425</td>\n",
       "      <td>3</td>\n",
       "      <td>1</td>\n",
       "      <td>1</td>\n",
       "      <td>1</td>\n",
       "      <td>2</td>\n",
       "      <td>2</td>\n",
       "      <td>3</td>\n",
       "      <td>1</td>\n",
       "      <td>1</td>\n",
       "      <td>2</td>\n",
       "    </tr>\n",
       "    <tr>\n",
       "      <th>3</th>\n",
       "      <td>1016277</td>\n",
       "      <td>6</td>\n",
       "      <td>8</td>\n",
       "      <td>8</td>\n",
       "      <td>1</td>\n",
       "      <td>3</td>\n",
       "      <td>4</td>\n",
       "      <td>3</td>\n",
       "      <td>7</td>\n",
       "      <td>1</td>\n",
       "      <td>2</td>\n",
       "    </tr>\n",
       "    <tr>\n",
       "      <th>4</th>\n",
       "      <td>1017023</td>\n",
       "      <td>4</td>\n",
       "      <td>1</td>\n",
       "      <td>1</td>\n",
       "      <td>3</td>\n",
       "      <td>2</td>\n",
       "      <td>1</td>\n",
       "      <td>3</td>\n",
       "      <td>1</td>\n",
       "      <td>1</td>\n",
       "      <td>2</td>\n",
       "    </tr>\n",
       "    <tr>\n",
       "      <th>5</th>\n",
       "      <td>1017122</td>\n",
       "      <td>8</td>\n",
       "      <td>10</td>\n",
       "      <td>10</td>\n",
       "      <td>8</td>\n",
       "      <td>7</td>\n",
       "      <td>10</td>\n",
       "      <td>9</td>\n",
       "      <td>7</td>\n",
       "      <td>1</td>\n",
       "      <td>4</td>\n",
       "    </tr>\n",
       "    <tr>\n",
       "      <th>6</th>\n",
       "      <td>1018099</td>\n",
       "      <td>1</td>\n",
       "      <td>1</td>\n",
       "      <td>1</td>\n",
       "      <td>1</td>\n",
       "      <td>2</td>\n",
       "      <td>10</td>\n",
       "      <td>3</td>\n",
       "      <td>1</td>\n",
       "      <td>1</td>\n",
       "      <td>2</td>\n",
       "    </tr>\n",
       "    <tr>\n",
       "      <th>7</th>\n",
       "      <td>1018561</td>\n",
       "      <td>2</td>\n",
       "      <td>1</td>\n",
       "      <td>2</td>\n",
       "      <td>1</td>\n",
       "      <td>2</td>\n",
       "      <td>1</td>\n",
       "      <td>3</td>\n",
       "      <td>1</td>\n",
       "      <td>1</td>\n",
       "      <td>2</td>\n",
       "    </tr>\n",
       "    <tr>\n",
       "      <th>8</th>\n",
       "      <td>1033078</td>\n",
       "      <td>2</td>\n",
       "      <td>1</td>\n",
       "      <td>1</td>\n",
       "      <td>1</td>\n",
       "      <td>2</td>\n",
       "      <td>1</td>\n",
       "      <td>1</td>\n",
       "      <td>1</td>\n",
       "      <td>5</td>\n",
       "      <td>2</td>\n",
       "    </tr>\n",
       "    <tr>\n",
       "      <th>9</th>\n",
       "      <td>1033078</td>\n",
       "      <td>4</td>\n",
       "      <td>2</td>\n",
       "      <td>1</td>\n",
       "      <td>1</td>\n",
       "      <td>2</td>\n",
       "      <td>1</td>\n",
       "      <td>2</td>\n",
       "      <td>1</td>\n",
       "      <td>1</td>\n",
       "      <td>2</td>\n",
       "    </tr>\n",
       "  </tbody>\n",
       "</table>\n",
       "</div>"
      ],
      "text/plain": [
       "   code_number  clump_thickness  uniformity_cell_size  uniformity_cell_shape  \\\n",
       "0      1000025                5                     1                      1   \n",
       "1      1002945                5                     4                      4   \n",
       "2      1015425                3                     1                      1   \n",
       "3      1016277                6                     8                      8   \n",
       "4      1017023                4                     1                      1   \n",
       "5      1017122                8                    10                     10   \n",
       "6      1018099                1                     1                      1   \n",
       "7      1018561                2                     1                      2   \n",
       "8      1033078                2                     1                      1   \n",
       "9      1033078                4                     2                      1   \n",
       "\n",
       "   marginal_adhesion  single_epithelial_cell_size  bare_nuclei  \\\n",
       "0                  1                            2            1   \n",
       "1                  5                            7           10   \n",
       "2                  1                            2            2   \n",
       "3                  1                            3            4   \n",
       "4                  3                            2            1   \n",
       "5                  8                            7           10   \n",
       "6                  1                            2           10   \n",
       "7                  1                            2            1   \n",
       "8                  1                            2            1   \n",
       "9                  1                            2            1   \n",
       "\n",
       "   bland_chromatin  normal_nucleoli  mitoses  class  \n",
       "0                3                1        1      2  \n",
       "1                3                2        1      2  \n",
       "2                3                1        1      2  \n",
       "3                3                7        1      2  \n",
       "4                3                1        1      2  \n",
       "5                9                7        1      4  \n",
       "6                3                1        1      2  \n",
       "7                3                1        1      2  \n",
       "8                1                1        5      2  \n",
       "9                2                1        1      2  "
      ]
     },
     "execution_count": 5,
     "metadata": {},
     "output_type": "execute_result"
    }
   ],
   "source": [
    "# Cabeçalho de dados\n",
    "data_set.head(n = 10)"
   ]
  },
  {
   "cell_type": "markdown",
   "id": "d14771ef",
   "metadata": {},
   "source": [
    "## Descritiva"
   ]
  },
  {
   "cell_type": "code",
   "execution_count": 6,
   "id": "099212ee",
   "metadata": {
    "scrolled": true
   },
   "outputs": [
    {
     "name": "stdout",
     "output_type": "stream",
     "text": [
      "<class 'pandas.core.frame.DataFrame'>\n",
      "RangeIndex: 683 entries, 0 to 682\n",
      "Data columns (total 11 columns):\n",
      " #   Column                       Non-Null Count  Dtype\n",
      "---  ------                       --------------  -----\n",
      " 0   code_number                  683 non-null    int64\n",
      " 1   clump_thickness              683 non-null    int64\n",
      " 2   uniformity_cell_size         683 non-null    int64\n",
      " 3   uniformity_cell_shape        683 non-null    int64\n",
      " 4   marginal_adhesion            683 non-null    int64\n",
      " 5   single_epithelial_cell_size  683 non-null    int64\n",
      " 6   bare_nuclei                  683 non-null    int64\n",
      " 7   bland_chromatin              683 non-null    int64\n",
      " 8   normal_nucleoli              683 non-null    int64\n",
      " 9   mitoses                      683 non-null    int64\n",
      " 10  class                        683 non-null    int64\n",
      "dtypes: int64(11)\n",
      "memory usage: 58.8 KB\n"
     ]
    }
   ],
   "source": [
    "# estrutura de dados \n",
    "data_set.info()"
   ]
  },
  {
   "cell_type": "code",
   "execution_count": 7,
   "id": "87f5f96c",
   "metadata": {},
   "outputs": [
    {
     "data": {
      "text/plain": [
       "code_number                    0\n",
       "clump_thickness                0\n",
       "uniformity_cell_size           0\n",
       "uniformity_cell_shape          0\n",
       "marginal_adhesion              0\n",
       "single_epithelial_cell_size    0\n",
       "bare_nuclei                    0\n",
       "bland_chromatin                0\n",
       "normal_nucleoli                0\n",
       "mitoses                        0\n",
       "class                          0\n",
       "dtype: int64"
      ]
     },
     "execution_count": 7,
     "metadata": {},
     "output_type": "execute_result"
    }
   ],
   "source": [
    "# total de valores ausentes\n",
    "data_set.isna().sum(axis = 0)"
   ]
  },
  {
   "cell_type": "markdown",
   "id": "7e173f11",
   "metadata": {},
   "source": [
    "Gráfico de barra: "
   ]
  },
  {
   "cell_type": "code",
   "execution_count": 8,
   "id": "e1d3e6ae",
   "metadata": {},
   "outputs": [
    {
     "data": {
      "image/png": "[encoded data removed]",
      "text/plain": [
       "<Figure size 2000x1000 with 9 Axes>"
      ]
     },
     "metadata": {},
     "output_type": "display_data"
    }
   ],
   "source": [
    "fig, axs = plt.subplots(nrows=3, ncols=3, figsize=(20, 10))\n",
    "fig.subplots_adjust(hspace=0.5)  # Adjust vertical spacing\n",
    "\n",
    "col_names = data_set.columns\n",
    "for c, ax in enumerate(axs.flat, start=1):\n",
    "    data_count = data_set.iloc[:, c].value_counts().sort_index()\n",
    "    data_index = data_count.index\n",
    "\n",
    "    ax.bar(data_index, data_count)\n",
    "    ax.set_title(col_names[c])\n",
    "    ax.set_xlabel('')\n",
    "    ax.set_ylabel('Frequency')\n",
    "plt.show()"
   ]
  },
  {
   "cell_type": "code",
   "execution_count": 9,
   "id": "8861f84c",
   "metadata": {
    "scrolled": true
   },
   "outputs": [
    {
     "name": "stdout",
     "output_type": "stream",
     "text": [
      "2    0.65\n",
      "4    0.35\n",
      "Name: class, dtype: float64\n"
     ]
    }
   ],
   "source": [
    "# Prevaçência variável de resposta\n",
    "counts = data_set.iloc[:,-1].value_counts()\n",
    "print((counts / counts.sum()).round(2))"
   ]
  },
  {
   "cell_type": "markdown",
   "id": "608977a4",
   "metadata": {},
   "source": [
    "Considerações: \n",
    "- Não existem valores ausentes. \n",
    "- Todas os recursos são variáveis ordinais.\n",
    "- A variável de resposta (target) é binária. \n",
    "- Existem níveis com poucos dados. \n",
    "- Existe prevalênça na deteção de câncer, maiormente as pessoas não tem câncer (65 %). "
   ]
  },
  {
   "cell_type": "markdown",
   "id": "1e138e6b",
   "metadata": {},
   "source": [
    "## Conjunto Treinamento e Teste"
   ]
  },
  {
   "cell_type": "markdown",
   "id": "b6db4691",
   "metadata": {},
   "source": [
    "Recursos e target:"
   ]
  },
  {
   "cell_type": "code",
   "execution_count": 10,
   "id": "99509da7",
   "metadata": {},
   "outputs": [],
   "source": [
    "X = data_set.copy().iloc[:, 1:-1]\n",
    "y = data_set.copy().iloc[:, -1]\n",
    "y = pd.DataFrame(np.where(y == 2, 0, 1), columns=[\"class\"], dtype=np.int16)"
   ]
  },
  {
   "cell_type": "markdown",
   "id": "93f18083",
   "metadata": {},
   "source": [
    "Dividir conjuntos: "
   ]
  },
  {
   "cell_type": "code",
   "execution_count": 11,
   "id": "32a96ddd",
   "metadata": {},
   "outputs": [],
   "source": [
    "from sklearn.model_selection import train_test_split "
   ]
  },
  {
   "cell_type": "code",
   "execution_count": 12,
   "id": "ae1cda1f",
   "metadata": {},
   "outputs": [],
   "source": [
    "X_train, X_test = train_test_split(X, test_size = 0.2, random_state = 42)\n",
    "y_train, y_test = train_test_split(y, test_size = 0.2, random_state = 42)"
   ]
  },
  {
   "cell_type": "markdown",
   "id": "cb5c655a",
   "metadata": {},
   "source": [
    "## Pré-processamento"
   ]
  },
  {
   "cell_type": "code",
   "execution_count": 13,
   "id": "63349866",
   "metadata": {},
   "outputs": [],
   "source": [
    "# Copia de conjunto de treinamento\n",
    "X_train_copy = X_train.copy()\n",
    "y_train_copy = y_train.copy()"
   ]
  },
  {
   "cell_type": "code",
   "execution_count": 14,
   "id": "5b28a6e7",
   "metadata": {},
   "outputs": [],
   "source": [
    "from sklearn.impute import SimpleImputer, KNNImputer\n",
    "from sklearn.preprocessing import StandardScaler, LabelEncoder, FunctionTransformer, OrdinalEncoder\n",
    "from sklearn.pipeline import Pipeline, make_pipeline\n",
    "from sklearn.compose import ColumnTransformer"
   ]
  },
  {
   "cell_type": "code",
   "execution_count": 15,
   "id": "e3f406f1",
   "metadata": {},
   "outputs": [],
   "source": [
    "#  Variável `Age` e `EstimatedSalary`: Imputar, transformação log, padronizar.\n",
    "ordinal_pipeline = make_pipeline(KNNImputer(n_neighbors=5, weights=\"uniform\"),\n",
    "                                 OrdinalEncoder(handle_unknown=\"use_encoded_value\",\n",
    "                                               unknown_value=10, # valor mais próximo e frequente\n",
    "                                               dtype=np.int64))\n",
    "\n",
    "# pré-processamento\n",
    "pre_processamento = ColumnTransformer([\n",
    "    (\"ordinal\", ordinal_pipeline, ['clump_thickness', 'uniformity_cell_size', 'uniformity_cell_shape',\n",
    "       'marginal_adhesion', 'single_epithelial_cell_size', 'bare_nuclei',\n",
    "       'bland_chromatin', 'normal_nucleoli', 'mitoses'])\n",
    "])\n"
   ]
  },
  {
   "cell_type": "code",
   "execution_count": 16,
   "id": "7922cdc7",
   "metadata": {
    "scrolled": false
   },
   "outputs": [
    {
     "data": {
      "text/html": [
       "<div>\n",
       "<style scoped>\n",
       "    .dataframe tbody tr th:only-of-type {\n",
       "        vertical-align: middle;\n",
       "    }\n",
       "\n",
       "    .dataframe tbody tr th {\n",
       "        vertical-align: top;\n",
       "    }\n",
       "\n",
       "    .dataframe thead th {\n",
       "        text-align: right;\n",
       "    }\n",
       "</style>\n",
       "<table border=\"1\" class=\"dataframe\">\n",
       "  <thead>\n",
       "    <tr style=\"text-align: right;\">\n",
       "      <th></th>\n",
       "      <th>ordinal__clump_thickness</th>\n",
       "      <th>ordinal__uniformity_cell_size</th>\n",
       "      <th>ordinal__uniformity_cell_shape</th>\n",
       "      <th>ordinal__marginal_adhesion</th>\n",
       "      <th>ordinal__single_epithelial_cell_size</th>\n",
       "      <th>ordinal__bare_nuclei</th>\n",
       "      <th>ordinal__bland_chromatin</th>\n",
       "      <th>ordinal__normal_nucleoli</th>\n",
       "      <th>ordinal__mitoses</th>\n",
       "    </tr>\n",
       "  </thead>\n",
       "  <tbody>\n",
       "    <tr>\n",
       "      <th>0</th>\n",
       "      <td>2</td>\n",
       "      <td>0</td>\n",
       "      <td>0</td>\n",
       "      <td>2</td>\n",
       "      <td>1</td>\n",
       "      <td>0</td>\n",
       "      <td>0</td>\n",
       "      <td>0</td>\n",
       "      <td>0</td>\n",
       "    </tr>\n",
       "    <tr>\n",
       "      <th>1</th>\n",
       "      <td>6</td>\n",
       "      <td>8</td>\n",
       "      <td>3</td>\n",
       "      <td>9</td>\n",
       "      <td>9</td>\n",
       "      <td>2</td>\n",
       "      <td>4</td>\n",
       "      <td>2</td>\n",
       "      <td>2</td>\n",
       "    </tr>\n",
       "    <tr>\n",
       "      <th>2</th>\n",
       "      <td>4</td>\n",
       "      <td>1</td>\n",
       "      <td>3</td>\n",
       "      <td>0</td>\n",
       "      <td>0</td>\n",
       "      <td>0</td>\n",
       "      <td>0</td>\n",
       "      <td>0</td>\n",
       "      <td>0</td>\n",
       "    </tr>\n",
       "    <tr>\n",
       "      <th>3</th>\n",
       "      <td>9</td>\n",
       "      <td>6</td>\n",
       "      <td>6</td>\n",
       "      <td>5</td>\n",
       "      <td>3</td>\n",
       "      <td>9</td>\n",
       "      <td>3</td>\n",
       "      <td>0</td>\n",
       "      <td>1</td>\n",
       "    </tr>\n",
       "    <tr>\n",
       "      <th>4</th>\n",
       "      <td>1</td>\n",
       "      <td>0</td>\n",
       "      <td>0</td>\n",
       "      <td>0</td>\n",
       "      <td>1</td>\n",
       "      <td>0</td>\n",
       "      <td>2</td>\n",
       "      <td>0</td>\n",
       "      <td>0</td>\n",
       "    </tr>\n",
       "    <tr>\n",
       "      <th>5</th>\n",
       "      <td>3</td>\n",
       "      <td>0</td>\n",
       "      <td>0</td>\n",
       "      <td>0</td>\n",
       "      <td>1</td>\n",
       "      <td>0</td>\n",
       "      <td>1</td>\n",
       "      <td>0</td>\n",
       "      <td>0</td>\n",
       "    </tr>\n",
       "    <tr>\n",
       "      <th>6</th>\n",
       "      <td>4</td>\n",
       "      <td>0</td>\n",
       "      <td>0</td>\n",
       "      <td>0</td>\n",
       "      <td>0</td>\n",
       "      <td>0</td>\n",
       "      <td>0</td>\n",
       "      <td>0</td>\n",
       "      <td>0</td>\n",
       "    </tr>\n",
       "    <tr>\n",
       "      <th>7</th>\n",
       "      <td>9</td>\n",
       "      <td>9</td>\n",
       "      <td>9</td>\n",
       "      <td>9</td>\n",
       "      <td>2</td>\n",
       "      <td>9</td>\n",
       "      <td>9</td>\n",
       "      <td>5</td>\n",
       "      <td>0</td>\n",
       "    </tr>\n",
       "    <tr>\n",
       "      <th>8</th>\n",
       "      <td>5</td>\n",
       "      <td>2</td>\n",
       "      <td>3</td>\n",
       "      <td>0</td>\n",
       "      <td>4</td>\n",
       "      <td>1</td>\n",
       "      <td>2</td>\n",
       "      <td>8</td>\n",
       "      <td>0</td>\n",
       "    </tr>\n",
       "    <tr>\n",
       "      <th>9</th>\n",
       "      <td>2</td>\n",
       "      <td>0</td>\n",
       "      <td>0</td>\n",
       "      <td>0</td>\n",
       "      <td>1</td>\n",
       "      <td>0</td>\n",
       "      <td>0</td>\n",
       "      <td>0</td>\n",
       "      <td>0</td>\n",
       "    </tr>\n",
       "  </tbody>\n",
       "</table>\n",
       "</div>"
      ],
      "text/plain": [
       "   ordinal__clump_thickness  ordinal__uniformity_cell_size  \\\n",
       "0                         2                              0   \n",
       "1                         6                              8   \n",
       "2                         4                              1   \n",
       "3                         9                              6   \n",
       "4                         1                              0   \n",
       "5                         3                              0   \n",
       "6                         4                              0   \n",
       "7                         9                              9   \n",
       "8                         5                              2   \n",
       "9                         2                              0   \n",
       "\n",
       "   ordinal__uniformity_cell_shape  ordinal__marginal_adhesion  \\\n",
       "0                               0                           2   \n",
       "1                               3                           9   \n",
       "2                               3                           0   \n",
       "3                               6                           5   \n",
       "4                               0                           0   \n",
       "5                               0                           0   \n",
       "6                               0                           0   \n",
       "7                               9                           9   \n",
       "8                               3                           0   \n",
       "9                               0                           0   \n",
       "\n",
       "   ordinal__single_epithelial_cell_size  ordinal__bare_nuclei  \\\n",
       "0                                     1                     0   \n",
       "1                                     9                     2   \n",
       "2                                     0                     0   \n",
       "3                                     3                     9   \n",
       "4                                     1                     0   \n",
       "5                                     1                     0   \n",
       "6                                     0                     0   \n",
       "7                                     2                     9   \n",
       "8                                     4                     1   \n",
       "9                                     1                     0   \n",
       "\n",
       "   ordinal__bland_chromatin  ordinal__normal_nucleoli  ordinal__mitoses  \n",
       "0                         0                         0                 0  \n",
       "1                         4                         2                 2  \n",
       "2                         0                         0                 0  \n",
       "3                         3                         0                 1  \n",
       "4                         2                         0                 0  \n",
       "5                         1                         0                 0  \n",
       "6                         0                         0                 0  \n",
       "7                         9                         5                 0  \n",
       "8                         2                         8                 0  \n",
       "9                         0                         0                 0  "
      ]
     },
     "execution_count": 16,
     "metadata": {},
     "output_type": "execute_result"
    }
   ],
   "source": [
    "# executar pré_processamento\n",
    "X_train_proce = pd.DataFrame(data = pre_processamento.fit_transform(X_train_copy), \n",
    "                      columns = pre_processamento.get_feature_names_out(),\n",
    "                      dtype = np.int64)\n",
    "\n",
    "X_train_proce.head(n = 10)"
   ]
  },
  {
   "cell_type": "code",
   "execution_count": 17,
   "id": "bf3fdce8",
   "metadata": {
    "scrolled": true
   },
   "outputs": [
    {
     "data": {
      "text/plain": [
       "array([0, 1, 0, 1, 0], dtype=int64)"
      ]
     },
     "execution_count": 17,
     "metadata": {},
     "output_type": "execute_result"
    }
   ],
   "source": [
    "# codificar variável de resposta\n",
    "le = LabelEncoder()\n",
    "y_train_encod = le.fit_transform(y_train_copy.values.ravel())\n",
    "y_train_encod[0:5]"
   ]
  },
  {
   "cell_type": "markdown",
   "id": "7f75f90b",
   "metadata": {},
   "source": [
    "## Selecionar um modelo"
   ]
  },
  {
   "cell_type": "markdown",
   "id": "f6487ea5",
   "metadata": {},
   "source": [
    "#### Modelo de Regressão Logística: "
   ]
  },
  {
   "cell_type": "code",
   "execution_count": 18,
   "id": "119851fb",
   "metadata": {
    "scrolled": true
   },
   "outputs": [
    {
     "data": {
      "text/html": [
       "<style>#sk-container-id-1 {color: black;background-color: white;}#sk-container-id-1 pre{padding: 0;}#sk-container-id-1 div.sk-toggleable {background-color: white;}#sk-container-id-1 label.sk-toggleable__label {cursor: pointer;display: block;width: 100%;margin-bottom: 0;padding: 0.3em;box-sizing: border-box;text-align: center;}#sk-container-id-1 label.sk-toggleable__label-arrow:before {content: \"▸\";float: left;margin-right: 0.25em;color: #696969;}#sk-container-id-1 label.sk-toggleable__label-arrow:hover:before {color: black;}#sk-container-id-1 div.sk-estimator:hover label.sk-toggleable__label-arrow:before {color: black;}#sk-container-id-1 div.sk-toggleable__content {max-height: 0;max-width: 0;overflow: hidden;text-align: left;background-color: #f0f8ff;}#sk-container-id-1 div.sk-toggleable__content pre {margin: 0.2em;color: black;border-radius: 0.25em;background-color: #f0f8ff;}#sk-container-id-1 input.sk-toggleable__control:checked~div.sk-toggleable__content {max-height: 200px;max-width: 100%;overflow: auto;}#sk-container-id-1 input.sk-toggleable__control:checked~label.sk-toggleable__label-arrow:before {content: \"▾\";}#sk-container-id-1 div.sk-estimator input.sk-toggleable__control:checked~label.sk-toggleable__label {background-color: #d4ebff;}#sk-container-id-1 div.sk-label input.sk-toggleable__control:checked~label.sk-toggleable__label {background-color: #d4ebff;}#sk-container-id-1 input.sk-hidden--visually {border: 0;clip: rect(1px 1px 1px 1px);clip: rect(1px, 1px, 1px, 1px);height: 1px;margin: -1px;overflow: hidden;padding: 0;position: absolute;width: 1px;}#sk-container-id-1 div.sk-estimator {font-family: monospace;background-color: #f0f8ff;border: 1px dotted black;border-radius: 0.25em;box-sizing: border-box;margin-bottom: 0.5em;}#sk-container-id-1 div.sk-estimator:hover {background-color: #d4ebff;}#sk-container-id-1 div.sk-parallel-item::after {content: \"\";width: 100%;border-bottom: 1px solid gray;flex-grow: 1;}#sk-container-id-1 div.sk-label:hover label.sk-toggleable__label {background-color: #d4ebff;}#sk-container-id-1 div.sk-serial::before {content: \"\";position: absolute;border-left: 1px solid gray;box-sizing: border-box;top: 0;bottom: 0;left: 50%;z-index: 0;}#sk-container-id-1 div.sk-serial {display: flex;flex-direction: column;align-items: center;background-color: white;padding-right: 0.2em;padding-left: 0.2em;position: relative;}#sk-container-id-1 div.sk-item {position: relative;z-index: 1;}#sk-container-id-1 div.sk-parallel {display: flex;align-items: stretch;justify-content: center;background-color: white;position: relative;}#sk-container-id-1 div.sk-item::before, #sk-container-id-1 div.sk-parallel-item::before {content: \"\";position: absolute;border-left: 1px solid gray;box-sizing: border-box;top: 0;bottom: 0;left: 50%;z-index: -1;}#sk-container-id-1 div.sk-parallel-item {display: flex;flex-direction: column;z-index: 1;position: relative;background-color: white;}#sk-container-id-1 div.sk-parallel-item:first-child::after {align-self: flex-end;width: 50%;}#sk-container-id-1 div.sk-parallel-item:last-child::after {align-self: flex-start;width: 50%;}#sk-container-id-1 div.sk-parallel-item:only-child::after {width: 0;}#sk-container-id-1 div.sk-dashed-wrapped {border: 1px dashed gray;margin: 0 0.4em 0.5em 0.4em;box-sizing: border-box;padding-bottom: 0.4em;background-color: white;}#sk-container-id-1 div.sk-label label {font-family: monospace;font-weight: bold;display: inline-block;line-height: 1.2em;}#sk-container-id-1 div.sk-label-container {text-align: center;}#sk-container-id-1 div.sk-container {/* jupyter's `normalize.less` sets `[hidden] { display: none; }` but bootstrap.min.css set `[hidden] { display: none !important; }` so we also need the `!important` here to be able to override the default hidden behavior on the sphinx rendered scikit-learn.org. See: https://github.com/scikit-learn/scikit-learn/issues/21755 */display: inline-block !important;position: relative;}#sk-container-id-1 div.sk-text-repr-fallback {display: none;}</style><div id=\"sk-container-id-1\" class=\"sk-top-container\"><div class=\"sk-text-repr-fallback\"><pre>Pipeline(steps=[(&#x27;columntransformer&#x27;,\n",
       "                 ColumnTransformer(transformers=[(&#x27;ordinal&#x27;,\n",
       "                                                  Pipeline(steps=[(&#x27;knnimputer&#x27;,\n",
       "                                                                   KNNImputer()),\n",
       "                                                                  (&#x27;ordinalencoder&#x27;,\n",
       "                                                                   OrdinalEncoder(dtype=&lt;class &#x27;numpy.int64&#x27;&gt;,\n",
       "                                                                                  handle_unknown=&#x27;use_encoded_value&#x27;,\n",
       "                                                                                  unknown_value=10))]),\n",
       "                                                  [&#x27;clump_thickness&#x27;,\n",
       "                                                   &#x27;uniformity_cell_size&#x27;,\n",
       "                                                   &#x27;uniformity_cell_shape&#x27;,\n",
       "                                                   &#x27;marginal_adhesion&#x27;,\n",
       "                                                   &#x27;single_epithelial_cell_size&#x27;,\n",
       "                                                   &#x27;bare_nuclei&#x27;,\n",
       "                                                   &#x27;bland_chromatin&#x27;,\n",
       "                                                   &#x27;normal_nucleoli&#x27;,\n",
       "                                                   &#x27;mitoses&#x27;])])),\n",
       "                (&#x27;logisticregression&#x27;, LogisticRegression())])</pre><b>In a Jupyter environment, please rerun this cell to show the HTML representation or trust the notebook. <br />On GitHub, the HTML representation is unable to render, please try loading this page with nbviewer.org.</b></div><div class=\"sk-container\" hidden><div class=\"sk-item sk-dashed-wrapped\"><div class=\"sk-label-container\"><div class=\"sk-label sk-toggleable\"><input class=\"sk-toggleable__control sk-hidden--visually\" id=\"sk-estimator-id-1\" type=\"checkbox\" ><label for=\"sk-estimator-id-1\" class=\"sk-toggleable__label sk-toggleable__label-arrow\">Pipeline</label><div class=\"sk-toggleable__content\"><pre>Pipeline(steps=[(&#x27;columntransformer&#x27;,\n",
       "                 ColumnTransformer(transformers=[(&#x27;ordinal&#x27;,\n",
       "                                                  Pipeline(steps=[(&#x27;knnimputer&#x27;,\n",
       "                                                                   KNNImputer()),\n",
       "                                                                  (&#x27;ordinalencoder&#x27;,\n",
       "                                                                   OrdinalEncoder(dtype=&lt;class &#x27;numpy.int64&#x27;&gt;,\n",
       "                                                                                  handle_unknown=&#x27;use_encoded_value&#x27;,\n",
       "                                                                                  unknown_value=10))]),\n",
       "                                                  [&#x27;clump_thickness&#x27;,\n",
       "                                                   &#x27;uniformity_cell_size&#x27;,\n",
       "                                                   &#x27;uniformity_cell_shape&#x27;,\n",
       "                                                   &#x27;marginal_adhesion&#x27;,\n",
       "                                                   &#x27;single_epithelial_cell_size&#x27;,\n",
       "                                                   &#x27;bare_nuclei&#x27;,\n",
       "                                                   &#x27;bland_chromatin&#x27;,\n",
       "                                                   &#x27;normal_nucleoli&#x27;,\n",
       "                                                   &#x27;mitoses&#x27;])])),\n",
       "                (&#x27;logisticregression&#x27;, LogisticRegression())])</pre></div></div></div><div class=\"sk-serial\"><div class=\"sk-item sk-dashed-wrapped\"><div class=\"sk-label-container\"><div class=\"sk-label sk-toggleable\"><input class=\"sk-toggleable__control sk-hidden--visually\" id=\"sk-estimator-id-2\" type=\"checkbox\" ><label for=\"sk-estimator-id-2\" class=\"sk-toggleable__label sk-toggleable__label-arrow\">columntransformer: ColumnTransformer</label><div class=\"sk-toggleable__content\"><pre>ColumnTransformer(transformers=[(&#x27;ordinal&#x27;,\n",
       "                                 Pipeline(steps=[(&#x27;knnimputer&#x27;, KNNImputer()),\n",
       "                                                 (&#x27;ordinalencoder&#x27;,\n",
       "                                                  OrdinalEncoder(dtype=&lt;class &#x27;numpy.int64&#x27;&gt;,\n",
       "                                                                 handle_unknown=&#x27;use_encoded_value&#x27;,\n",
       "                                                                 unknown_value=10))]),\n",
       "                                 [&#x27;clump_thickness&#x27;, &#x27;uniformity_cell_size&#x27;,\n",
       "                                  &#x27;uniformity_cell_shape&#x27;, &#x27;marginal_adhesion&#x27;,\n",
       "                                  &#x27;single_epithelial_cell_size&#x27;, &#x27;bare_nuclei&#x27;,\n",
       "                                  &#x27;bland_chromatin&#x27;, &#x27;normal_nucleoli&#x27;,\n",
       "                                  &#x27;mitoses&#x27;])])</pre></div></div></div><div class=\"sk-parallel\"><div class=\"sk-parallel-item\"><div class=\"sk-item\"><div class=\"sk-label-container\"><div class=\"sk-label sk-toggleable\"><input class=\"sk-toggleable__control sk-hidden--visually\" id=\"sk-estimator-id-3\" type=\"checkbox\" ><label for=\"sk-estimator-id-3\" class=\"sk-toggleable__label sk-toggleable__label-arrow\">ordinal</label><div class=\"sk-toggleable__content\"><pre>[&#x27;clump_thickness&#x27;, &#x27;uniformity_cell_size&#x27;, &#x27;uniformity_cell_shape&#x27;, &#x27;marginal_adhesion&#x27;, &#x27;single_epithelial_cell_size&#x27;, &#x27;bare_nuclei&#x27;, &#x27;bland_chromatin&#x27;, &#x27;normal_nucleoli&#x27;, &#x27;mitoses&#x27;]</pre></div></div></div><div class=\"sk-serial\"><div class=\"sk-item\"><div class=\"sk-serial\"><div class=\"sk-item\"><div class=\"sk-estimator sk-toggleable\"><input class=\"sk-toggleable__control sk-hidden--visually\" id=\"sk-estimator-id-4\" type=\"checkbox\" ><label for=\"sk-estimator-id-4\" class=\"sk-toggleable__label sk-toggleable__label-arrow\">KNNImputer</label><div class=\"sk-toggleable__content\"><pre>KNNImputer()</pre></div></div></div><div class=\"sk-item\"><div class=\"sk-estimator sk-toggleable\"><input class=\"sk-toggleable__control sk-hidden--visually\" id=\"sk-estimator-id-5\" type=\"checkbox\" ><label for=\"sk-estimator-id-5\" class=\"sk-toggleable__label sk-toggleable__label-arrow\">OrdinalEncoder</label><div class=\"sk-toggleable__content\"><pre>OrdinalEncoder(dtype=&lt;class &#x27;numpy.int64&#x27;&gt;, handle_unknown=&#x27;use_encoded_value&#x27;,\n",
       "               unknown_value=10)</pre></div></div></div></div></div></div></div></div></div></div><div class=\"sk-item\"><div class=\"sk-estimator sk-toggleable\"><input class=\"sk-toggleable__control sk-hidden--visually\" id=\"sk-estimator-id-6\" type=\"checkbox\" ><label for=\"sk-estimator-id-6\" class=\"sk-toggleable__label sk-toggleable__label-arrow\">LogisticRegression</label><div class=\"sk-toggleable__content\"><pre>LogisticRegression()</pre></div></div></div></div></div></div></div>"
      ],
      "text/plain": [
       "Pipeline(steps=[('columntransformer',\n",
       "                 ColumnTransformer(transformers=[('ordinal',\n",
       "                                                  Pipeline(steps=[('knnimputer',\n",
       "                                                                   KNNImputer()),\n",
       "                                                                  ('ordinalencoder',\n",
       "                                                                   OrdinalEncoder(dtype=<class 'numpy.int64'>,\n",
       "                                                                                  handle_unknown='use_encoded_value',\n",
       "                                                                                  unknown_value=10))]),\n",
       "                                                  ['clump_thickness',\n",
       "                                                   'uniformity_cell_size',\n",
       "                                                   'uniformity_cell_shape',\n",
       "                                                   'marginal_adhesion',\n",
       "                                                   'single_epithelial_cell_size',\n",
       "                                                   'bare_nuclei',\n",
       "                                                   'bland_chromatin',\n",
       "                                                   'normal_nucleoli',\n",
       "                                                   'mitoses'])])),\n",
       "                ('logisticregression', LogisticRegression())])"
      ]
     },
     "execution_count": 18,
     "metadata": {},
     "output_type": "execute_result"
    }
   ],
   "source": [
    "from sklearn.linear_model import LogisticRegression\n",
    "lin_logistic = make_pipeline(pre_processamento, LogisticRegression())\n",
    "lin_logistic.fit(X_train_copy, y_train_encod)"
   ]
  },
  {
   "cell_type": "markdown",
   "id": "2a487625",
   "metadata": {},
   "source": [
    "#### Modelo K-Nearest Neighbors (K-NN)"
   ]
  },
  {
   "cell_type": "code",
   "execution_count": 19,
   "id": "4f49d287",
   "metadata": {
    "scrolled": true
   },
   "outputs": [
    {
     "data": {
      "text/html": [
       "<style>#sk-container-id-2 {color: black;background-color: white;}#sk-container-id-2 pre{padding: 0;}#sk-container-id-2 div.sk-toggleable {background-color: white;}#sk-container-id-2 label.sk-toggleable__label {cursor: pointer;display: block;width: 100%;margin-bottom: 0;padding: 0.3em;box-sizing: border-box;text-align: center;}#sk-container-id-2 label.sk-toggleable__label-arrow:before {content: \"▸\";float: left;margin-right: 0.25em;color: #696969;}#sk-container-id-2 label.sk-toggleable__label-arrow:hover:before {color: black;}#sk-container-id-2 div.sk-estimator:hover label.sk-toggleable__label-arrow:before {color: black;}#sk-container-id-2 div.sk-toggleable__content {max-height: 0;max-width: 0;overflow: hidden;text-align: left;background-color: #f0f8ff;}#sk-container-id-2 div.sk-toggleable__content pre {margin: 0.2em;color: black;border-radius: 0.25em;background-color: #f0f8ff;}#sk-container-id-2 input.sk-toggleable__control:checked~div.sk-toggleable__content {max-height: 200px;max-width: 100%;overflow: auto;}#sk-container-id-2 input.sk-toggleable__control:checked~label.sk-toggleable__label-arrow:before {content: \"▾\";}#sk-container-id-2 div.sk-estimator input.sk-toggleable__control:checked~label.sk-toggleable__label {background-color: #d4ebff;}#sk-container-id-2 div.sk-label input.sk-toggleable__control:checked~label.sk-toggleable__label {background-color: #d4ebff;}#sk-container-id-2 input.sk-hidden--visually {border: 0;clip: rect(1px 1px 1px 1px);clip: rect(1px, 1px, 1px, 1px);height: 1px;margin: -1px;overflow: hidden;padding: 0;position: absolute;width: 1px;}#sk-container-id-2 div.sk-estimator {font-family: monospace;background-color: #f0f8ff;border: 1px dotted black;border-radius: 0.25em;box-sizing: border-box;margin-bottom: 0.5em;}#sk-container-id-2 div.sk-estimator:hover {background-color: #d4ebff;}#sk-container-id-2 div.sk-parallel-item::after {content: \"\";width: 100%;border-bottom: 1px solid gray;flex-grow: 1;}#sk-container-id-2 div.sk-label:hover label.sk-toggleable__label {background-color: #d4ebff;}#sk-container-id-2 div.sk-serial::before {content: \"\";position: absolute;border-left: 1px solid gray;box-sizing: border-box;top: 0;bottom: 0;left: 50%;z-index: 0;}#sk-container-id-2 div.sk-serial {display: flex;flex-direction: column;align-items: center;background-color: white;padding-right: 0.2em;padding-left: 0.2em;position: relative;}#sk-container-id-2 div.sk-item {position: relative;z-index: 1;}#sk-container-id-2 div.sk-parallel {display: flex;align-items: stretch;justify-content: center;background-color: white;position: relative;}#sk-container-id-2 div.sk-item::before, #sk-container-id-2 div.sk-parallel-item::before {content: \"\";position: absolute;border-left: 1px solid gray;box-sizing: border-box;top: 0;bottom: 0;left: 50%;z-index: -1;}#sk-container-id-2 div.sk-parallel-item {display: flex;flex-direction: column;z-index: 1;position: relative;background-color: white;}#sk-container-id-2 div.sk-parallel-item:first-child::after {align-self: flex-end;width: 50%;}#sk-container-id-2 div.sk-parallel-item:last-child::after {align-self: flex-start;width: 50%;}#sk-container-id-2 div.sk-parallel-item:only-child::after {width: 0;}#sk-container-id-2 div.sk-dashed-wrapped {border: 1px dashed gray;margin: 0 0.4em 0.5em 0.4em;box-sizing: border-box;padding-bottom: 0.4em;background-color: white;}#sk-container-id-2 div.sk-label label {font-family: monospace;font-weight: bold;display: inline-block;line-height: 1.2em;}#sk-container-id-2 div.sk-label-container {text-align: center;}#sk-container-id-2 div.sk-container {/* jupyter's `normalize.less` sets `[hidden] { display: none; }` but bootstrap.min.css set `[hidden] { display: none !important; }` so we also need the `!important` here to be able to override the default hidden behavior on the sphinx rendered scikit-learn.org. See: https://github.com/scikit-learn/scikit-learn/issues/21755 */display: inline-block !important;position: relative;}#sk-container-id-2 div.sk-text-repr-fallback {display: none;}</style><div id=\"sk-container-id-2\" class=\"sk-top-container\"><div class=\"sk-text-repr-fallback\"><pre>Pipeline(steps=[(&#x27;columntransformer&#x27;,\n",
       "                 ColumnTransformer(transformers=[(&#x27;ordinal&#x27;,\n",
       "                                                  Pipeline(steps=[(&#x27;knnimputer&#x27;,\n",
       "                                                                   KNNImputer()),\n",
       "                                                                  (&#x27;ordinalencoder&#x27;,\n",
       "                                                                   OrdinalEncoder(dtype=&lt;class &#x27;numpy.int64&#x27;&gt;,\n",
       "                                                                                  handle_unknown=&#x27;use_encoded_value&#x27;,\n",
       "                                                                                  unknown_value=10))]),\n",
       "                                                  [&#x27;clump_thickness&#x27;,\n",
       "                                                   &#x27;uniformity_cell_size&#x27;,\n",
       "                                                   &#x27;uniformity_cell_shape&#x27;,\n",
       "                                                   &#x27;marginal_adhesion&#x27;,\n",
       "                                                   &#x27;single_epithelial_cell_size&#x27;,\n",
       "                                                   &#x27;bare_nuclei&#x27;,\n",
       "                                                   &#x27;bland_chromatin&#x27;,\n",
       "                                                   &#x27;normal_nucleoli&#x27;,\n",
       "                                                   &#x27;mitoses&#x27;])])),\n",
       "                (&#x27;kneighborsclassifier&#x27;, KNeighborsClassifier())])</pre><b>In a Jupyter environment, please rerun this cell to show the HTML representation or trust the notebook. <br />On GitHub, the HTML representation is unable to render, please try loading this page with nbviewer.org.</b></div><div class=\"sk-container\" hidden><div class=\"sk-item sk-dashed-wrapped\"><div class=\"sk-label-container\"><div class=\"sk-label sk-toggleable\"><input class=\"sk-toggleable__control sk-hidden--visually\" id=\"sk-estimator-id-7\" type=\"checkbox\" ><label for=\"sk-estimator-id-7\" class=\"sk-toggleable__label sk-toggleable__label-arrow\">Pipeline</label><div class=\"sk-toggleable__content\"><pre>Pipeline(steps=[(&#x27;columntransformer&#x27;,\n",
       "                 ColumnTransformer(transformers=[(&#x27;ordinal&#x27;,\n",
       "                                                  Pipeline(steps=[(&#x27;knnimputer&#x27;,\n",
       "                                                                   KNNImputer()),\n",
       "                                                                  (&#x27;ordinalencoder&#x27;,\n",
       "                                                                   OrdinalEncoder(dtype=&lt;class &#x27;numpy.int64&#x27;&gt;,\n",
       "                                                                                  handle_unknown=&#x27;use_encoded_value&#x27;,\n",
       "                                                                                  unknown_value=10))]),\n",
       "                                                  [&#x27;clump_thickness&#x27;,\n",
       "                                                   &#x27;uniformity_cell_size&#x27;,\n",
       "                                                   &#x27;uniformity_cell_shape&#x27;,\n",
       "                                                   &#x27;marginal_adhesion&#x27;,\n",
       "                                                   &#x27;single_epithelial_cell_size&#x27;,\n",
       "                                                   &#x27;bare_nuclei&#x27;,\n",
       "                                                   &#x27;bland_chromatin&#x27;,\n",
       "                                                   &#x27;normal_nucleoli&#x27;,\n",
       "                                                   &#x27;mitoses&#x27;])])),\n",
       "                (&#x27;kneighborsclassifier&#x27;, KNeighborsClassifier())])</pre></div></div></div><div class=\"sk-serial\"><div class=\"sk-item sk-dashed-wrapped\"><div class=\"sk-label-container\"><div class=\"sk-label sk-toggleable\"><input class=\"sk-toggleable__control sk-hidden--visually\" id=\"sk-estimator-id-8\" type=\"checkbox\" ><label for=\"sk-estimator-id-8\" class=\"sk-toggleable__label sk-toggleable__label-arrow\">columntransformer: ColumnTransformer</label><div class=\"sk-toggleable__content\"><pre>ColumnTransformer(transformers=[(&#x27;ordinal&#x27;,\n",
       "                                 Pipeline(steps=[(&#x27;knnimputer&#x27;, KNNImputer()),\n",
       "                                                 (&#x27;ordinalencoder&#x27;,\n",
       "                                                  OrdinalEncoder(dtype=&lt;class &#x27;numpy.int64&#x27;&gt;,\n",
       "                                                                 handle_unknown=&#x27;use_encoded_value&#x27;,\n",
       "                                                                 unknown_value=10))]),\n",
       "                                 [&#x27;clump_thickness&#x27;, &#x27;uniformity_cell_size&#x27;,\n",
       "                                  &#x27;uniformity_cell_shape&#x27;, &#x27;marginal_adhesion&#x27;,\n",
       "                                  &#x27;single_epithelial_cell_size&#x27;, &#x27;bare_nuclei&#x27;,\n",
       "                                  &#x27;bland_chromatin&#x27;, &#x27;normal_nucleoli&#x27;,\n",
       "                                  &#x27;mitoses&#x27;])])</pre></div></div></div><div class=\"sk-parallel\"><div class=\"sk-parallel-item\"><div class=\"sk-item\"><div class=\"sk-label-container\"><div class=\"sk-label sk-toggleable\"><input class=\"sk-toggleable__control sk-hidden--visually\" id=\"sk-estimator-id-9\" type=\"checkbox\" ><label for=\"sk-estimator-id-9\" class=\"sk-toggleable__label sk-toggleable__label-arrow\">ordinal</label><div class=\"sk-toggleable__content\"><pre>[&#x27;clump_thickness&#x27;, &#x27;uniformity_cell_size&#x27;, &#x27;uniformity_cell_shape&#x27;, &#x27;marginal_adhesion&#x27;, &#x27;single_epithelial_cell_size&#x27;, &#x27;bare_nuclei&#x27;, &#x27;bland_chromatin&#x27;, &#x27;normal_nucleoli&#x27;, &#x27;mitoses&#x27;]</pre></div></div></div><div class=\"sk-serial\"><div class=\"sk-item\"><div class=\"sk-serial\"><div class=\"sk-item\"><div class=\"sk-estimator sk-toggleable\"><input class=\"sk-toggleable__control sk-hidden--visually\" id=\"sk-estimator-id-10\" type=\"checkbox\" ><label for=\"sk-estimator-id-10\" class=\"sk-toggleable__label sk-toggleable__label-arrow\">KNNImputer</label><div class=\"sk-toggleable__content\"><pre>KNNImputer()</pre></div></div></div><div class=\"sk-item\"><div class=\"sk-estimator sk-toggleable\"><input class=\"sk-toggleable__control sk-hidden--visually\" id=\"sk-estimator-id-11\" type=\"checkbox\" ><label for=\"sk-estimator-id-11\" class=\"sk-toggleable__label sk-toggleable__label-arrow\">OrdinalEncoder</label><div class=\"sk-toggleable__content\"><pre>OrdinalEncoder(dtype=&lt;class &#x27;numpy.int64&#x27;&gt;, handle_unknown=&#x27;use_encoded_value&#x27;,\n",
       "               unknown_value=10)</pre></div></div></div></div></div></div></div></div></div></div><div class=\"sk-item\"><div class=\"sk-estimator sk-toggleable\"><input class=\"sk-toggleable__control sk-hidden--visually\" id=\"sk-estimator-id-12\" type=\"checkbox\" ><label for=\"sk-estimator-id-12\" class=\"sk-toggleable__label sk-toggleable__label-arrow\">KNeighborsClassifier</label><div class=\"sk-toggleable__content\"><pre>KNeighborsClassifier()</pre></div></div></div></div></div></div></div>"
      ],
      "text/plain": [
       "Pipeline(steps=[('columntransformer',\n",
       "                 ColumnTransformer(transformers=[('ordinal',\n",
       "                                                  Pipeline(steps=[('knnimputer',\n",
       "                                                                   KNNImputer()),\n",
       "                                                                  ('ordinalencoder',\n",
       "                                                                   OrdinalEncoder(dtype=<class 'numpy.int64'>,\n",
       "                                                                                  handle_unknown='use_encoded_value',\n",
       "                                                                                  unknown_value=10))]),\n",
       "                                                  ['clump_thickness',\n",
       "                                                   'uniformity_cell_size',\n",
       "                                                   'uniformity_cell_shape',\n",
       "                                                   'marginal_adhesion',\n",
       "                                                   'single_epithelial_cell_size',\n",
       "                                                   'bare_nuclei',\n",
       "                                                   'bland_chromatin',\n",
       "                                                   'normal_nucleoli',\n",
       "                                                   'mitoses'])])),\n",
       "                ('kneighborsclassifier', KNeighborsClassifier())])"
      ]
     },
     "execution_count": 19,
     "metadata": {},
     "output_type": "execute_result"
    }
   ],
   "source": [
    "from sklearn.neighbors import KNeighborsClassifier\n",
    "class_neigh = make_pipeline(pre_processamento,\n",
    "                            KNeighborsClassifier(n_neighbors = 5, p = 2, metric = \"minkowski\"))\n",
    "class_neigh.fit(X_train_copy, y_train_encod)\n"
   ]
  },
  {
   "cell_type": "markdown",
   "id": "3255e91e",
   "metadata": {},
   "source": [
    "#### Modelo SVM Linear"
   ]
  },
  {
   "cell_type": "markdown",
   "id": "93af08c3",
   "metadata": {},
   "source": [
    "- Este modelo se suponhe que os dados são separáveis linearmente."
   ]
  },
  {
   "cell_type": "code",
   "execution_count": 20,
   "id": "35756a96",
   "metadata": {
    "scrolled": true
   },
   "outputs": [
    {
     "data": {
      "text/html": [
       "<style>#sk-container-id-3 {color: black;background-color: white;}#sk-container-id-3 pre{padding: 0;}#sk-container-id-3 div.sk-toggleable {background-color: white;}#sk-container-id-3 label.sk-toggleable__label {cursor: pointer;display: block;width: 100%;margin-bottom: 0;padding: 0.3em;box-sizing: border-box;text-align: center;}#sk-container-id-3 label.sk-toggleable__label-arrow:before {content: \"▸\";float: left;margin-right: 0.25em;color: #696969;}#sk-container-id-3 label.sk-toggleable__label-arrow:hover:before {color: black;}#sk-container-id-3 div.sk-estimator:hover label.sk-toggleable__label-arrow:before {color: black;}#sk-container-id-3 div.sk-toggleable__content {max-height: 0;max-width: 0;overflow: hidden;text-align: left;background-color: #f0f8ff;}#sk-container-id-3 div.sk-toggleable__content pre {margin: 0.2em;color: black;border-radius: 0.25em;background-color: #f0f8ff;}#sk-container-id-3 input.sk-toggleable__control:checked~div.sk-toggleable__content {max-height: 200px;max-width: 100%;overflow: auto;}#sk-container-id-3 input.sk-toggleable__control:checked~label.sk-toggleable__label-arrow:before {content: \"▾\";}#sk-container-id-3 div.sk-estimator input.sk-toggleable__control:checked~label.sk-toggleable__label {background-color: #d4ebff;}#sk-container-id-3 div.sk-label input.sk-toggleable__control:checked~label.sk-toggleable__label {background-color: #d4ebff;}#sk-container-id-3 input.sk-hidden--visually {border: 0;clip: rect(1px 1px 1px 1px);clip: rect(1px, 1px, 1px, 1px);height: 1px;margin: -1px;overflow: hidden;padding: 0;position: absolute;width: 1px;}#sk-container-id-3 div.sk-estimator {font-family: monospace;background-color: #f0f8ff;border: 1px dotted black;border-radius: 0.25em;box-sizing: border-box;margin-bottom: 0.5em;}#sk-container-id-3 div.sk-estimator:hover {background-color: #d4ebff;}#sk-container-id-3 div.sk-parallel-item::after {content: \"\";width: 100%;border-bottom: 1px solid gray;flex-grow: 1;}#sk-container-id-3 div.sk-label:hover label.sk-toggleable__label {background-color: #d4ebff;}#sk-container-id-3 div.sk-serial::before {content: \"\";position: absolute;border-left: 1px solid gray;box-sizing: border-box;top: 0;bottom: 0;left: 50%;z-index: 0;}#sk-container-id-3 div.sk-serial {display: flex;flex-direction: column;align-items: center;background-color: white;padding-right: 0.2em;padding-left: 0.2em;position: relative;}#sk-container-id-3 div.sk-item {position: relative;z-index: 1;}#sk-container-id-3 div.sk-parallel {display: flex;align-items: stretch;justify-content: center;background-color: white;position: relative;}#sk-container-id-3 div.sk-item::before, #sk-container-id-3 div.sk-parallel-item::before {content: \"\";position: absolute;border-left: 1px solid gray;box-sizing: border-box;top: 0;bottom: 0;left: 50%;z-index: -1;}#sk-container-id-3 div.sk-parallel-item {display: flex;flex-direction: column;z-index: 1;position: relative;background-color: white;}#sk-container-id-3 div.sk-parallel-item:first-child::after {align-self: flex-end;width: 50%;}#sk-container-id-3 div.sk-parallel-item:last-child::after {align-self: flex-start;width: 50%;}#sk-container-id-3 div.sk-parallel-item:only-child::after {width: 0;}#sk-container-id-3 div.sk-dashed-wrapped {border: 1px dashed gray;margin: 0 0.4em 0.5em 0.4em;box-sizing: border-box;padding-bottom: 0.4em;background-color: white;}#sk-container-id-3 div.sk-label label {font-family: monospace;font-weight: bold;display: inline-block;line-height: 1.2em;}#sk-container-id-3 div.sk-label-container {text-align: center;}#sk-container-id-3 div.sk-container {/* jupyter's `normalize.less` sets `[hidden] { display: none; }` but bootstrap.min.css set `[hidden] { display: none !important; }` so we also need the `!important` here to be able to override the default hidden behavior on the sphinx rendered scikit-learn.org. See: https://github.com/scikit-learn/scikit-learn/issues/21755 */display: inline-block !important;position: relative;}#sk-container-id-3 div.sk-text-repr-fallback {display: none;}</style><div id=\"sk-container-id-3\" class=\"sk-top-container\"><div class=\"sk-text-repr-fallback\"><pre>Pipeline(steps=[(&#x27;columntransformer&#x27;,\n",
       "                 ColumnTransformer(transformers=[(&#x27;ordinal&#x27;,\n",
       "                                                  Pipeline(steps=[(&#x27;knnimputer&#x27;,\n",
       "                                                                   KNNImputer()),\n",
       "                                                                  (&#x27;ordinalencoder&#x27;,\n",
       "                                                                   OrdinalEncoder(dtype=&lt;class &#x27;numpy.int64&#x27;&gt;,\n",
       "                                                                                  handle_unknown=&#x27;use_encoded_value&#x27;,\n",
       "                                                                                  unknown_value=10))]),\n",
       "                                                  [&#x27;clump_thickness&#x27;,\n",
       "                                                   &#x27;uniformity_cell_size&#x27;,\n",
       "                                                   &#x27;uniformity_cell_shape&#x27;,\n",
       "                                                   &#x27;marginal_adhesion&#x27;,\n",
       "                                                   &#x27;single_epithelial_cell_size&#x27;,\n",
       "                                                   &#x27;bare_nuclei&#x27;,\n",
       "                                                   &#x27;bland_chromatin&#x27;,\n",
       "                                                   &#x27;normal_nucleoli&#x27;,\n",
       "                                                   &#x27;mitoses&#x27;])])),\n",
       "                (&#x27;svc&#x27;, SVC(kernel=&#x27;linear&#x27;, random_state=42))])</pre><b>In a Jupyter environment, please rerun this cell to show the HTML representation or trust the notebook. <br />On GitHub, the HTML representation is unable to render, please try loading this page with nbviewer.org.</b></div><div class=\"sk-container\" hidden><div class=\"sk-item sk-dashed-wrapped\"><div class=\"sk-label-container\"><div class=\"sk-label sk-toggleable\"><input class=\"sk-toggleable__control sk-hidden--visually\" id=\"sk-estimator-id-13\" type=\"checkbox\" ><label for=\"sk-estimator-id-13\" class=\"sk-toggleable__label sk-toggleable__label-arrow\">Pipeline</label><div class=\"sk-toggleable__content\"><pre>Pipeline(steps=[(&#x27;columntransformer&#x27;,\n",
       "                 ColumnTransformer(transformers=[(&#x27;ordinal&#x27;,\n",
       "                                                  Pipeline(steps=[(&#x27;knnimputer&#x27;,\n",
       "                                                                   KNNImputer()),\n",
       "                                                                  (&#x27;ordinalencoder&#x27;,\n",
       "                                                                   OrdinalEncoder(dtype=&lt;class &#x27;numpy.int64&#x27;&gt;,\n",
       "                                                                                  handle_unknown=&#x27;use_encoded_value&#x27;,\n",
       "                                                                                  unknown_value=10))]),\n",
       "                                                  [&#x27;clump_thickness&#x27;,\n",
       "                                                   &#x27;uniformity_cell_size&#x27;,\n",
       "                                                   &#x27;uniformity_cell_shape&#x27;,\n",
       "                                                   &#x27;marginal_adhesion&#x27;,\n",
       "                                                   &#x27;single_epithelial_cell_size&#x27;,\n",
       "                                                   &#x27;bare_nuclei&#x27;,\n",
       "                                                   &#x27;bland_chromatin&#x27;,\n",
       "                                                   &#x27;normal_nucleoli&#x27;,\n",
       "                                                   &#x27;mitoses&#x27;])])),\n",
       "                (&#x27;svc&#x27;, SVC(kernel=&#x27;linear&#x27;, random_state=42))])</pre></div></div></div><div class=\"sk-serial\"><div class=\"sk-item sk-dashed-wrapped\"><div class=\"sk-label-container\"><div class=\"sk-label sk-toggleable\"><input class=\"sk-toggleable__control sk-hidden--visually\" id=\"sk-estimator-id-14\" type=\"checkbox\" ><label for=\"sk-estimator-id-14\" class=\"sk-toggleable__label sk-toggleable__label-arrow\">columntransformer: ColumnTransformer</label><div class=\"sk-toggleable__content\"><pre>ColumnTransformer(transformers=[(&#x27;ordinal&#x27;,\n",
       "                                 Pipeline(steps=[(&#x27;knnimputer&#x27;, KNNImputer()),\n",
       "                                                 (&#x27;ordinalencoder&#x27;,\n",
       "                                                  OrdinalEncoder(dtype=&lt;class &#x27;numpy.int64&#x27;&gt;,\n",
       "                                                                 handle_unknown=&#x27;use_encoded_value&#x27;,\n",
       "                                                                 unknown_value=10))]),\n",
       "                                 [&#x27;clump_thickness&#x27;, &#x27;uniformity_cell_size&#x27;,\n",
       "                                  &#x27;uniformity_cell_shape&#x27;, &#x27;marginal_adhesion&#x27;,\n",
       "                                  &#x27;single_epithelial_cell_size&#x27;, &#x27;bare_nuclei&#x27;,\n",
       "                                  &#x27;bland_chromatin&#x27;, &#x27;normal_nucleoli&#x27;,\n",
       "                                  &#x27;mitoses&#x27;])])</pre></div></div></div><div class=\"sk-parallel\"><div class=\"sk-parallel-item\"><div class=\"sk-item\"><div class=\"sk-label-container\"><div class=\"sk-label sk-toggleable\"><input class=\"sk-toggleable__control sk-hidden--visually\" id=\"sk-estimator-id-15\" type=\"checkbox\" ><label for=\"sk-estimator-id-15\" class=\"sk-toggleable__label sk-toggleable__label-arrow\">ordinal</label><div class=\"sk-toggleable__content\"><pre>[&#x27;clump_thickness&#x27;, &#x27;uniformity_cell_size&#x27;, &#x27;uniformity_cell_shape&#x27;, &#x27;marginal_adhesion&#x27;, &#x27;single_epithelial_cell_size&#x27;, &#x27;bare_nuclei&#x27;, &#x27;bland_chromatin&#x27;, &#x27;normal_nucleoli&#x27;, &#x27;mitoses&#x27;]</pre></div></div></div><div class=\"sk-serial\"><div class=\"sk-item\"><div class=\"sk-serial\"><div class=\"sk-item\"><div class=\"sk-estimator sk-toggleable\"><input class=\"sk-toggleable__control sk-hidden--visually\" id=\"sk-estimator-id-16\" type=\"checkbox\" ><label for=\"sk-estimator-id-16\" class=\"sk-toggleable__label sk-toggleable__label-arrow\">KNNImputer</label><div class=\"sk-toggleable__content\"><pre>KNNImputer()</pre></div></div></div><div class=\"sk-item\"><div class=\"sk-estimator sk-toggleable\"><input class=\"sk-toggleable__control sk-hidden--visually\" id=\"sk-estimator-id-17\" type=\"checkbox\" ><label for=\"sk-estimator-id-17\" class=\"sk-toggleable__label sk-toggleable__label-arrow\">OrdinalEncoder</label><div class=\"sk-toggleable__content\"><pre>OrdinalEncoder(dtype=&lt;class &#x27;numpy.int64&#x27;&gt;, handle_unknown=&#x27;use_encoded_value&#x27;,\n",
       "               unknown_value=10)</pre></div></div></div></div></div></div></div></div></div></div><div class=\"sk-item\"><div class=\"sk-estimator sk-toggleable\"><input class=\"sk-toggleable__control sk-hidden--visually\" id=\"sk-estimator-id-18\" type=\"checkbox\" ><label for=\"sk-estimator-id-18\" class=\"sk-toggleable__label sk-toggleable__label-arrow\">SVC</label><div class=\"sk-toggleable__content\"><pre>SVC(kernel=&#x27;linear&#x27;, random_state=42)</pre></div></div></div></div></div></div></div>"
      ],
      "text/plain": [
       "Pipeline(steps=[('columntransformer',\n",
       "                 ColumnTransformer(transformers=[('ordinal',\n",
       "                                                  Pipeline(steps=[('knnimputer',\n",
       "                                                                   KNNImputer()),\n",
       "                                                                  ('ordinalencoder',\n",
       "                                                                   OrdinalEncoder(dtype=<class 'numpy.int64'>,\n",
       "                                                                                  handle_unknown='use_encoded_value',\n",
       "                                                                                  unknown_value=10))]),\n",
       "                                                  ['clump_thickness',\n",
       "                                                   'uniformity_cell_size',\n",
       "                                                   'uniformity_cell_shape',\n",
       "                                                   'marginal_adhesion',\n",
       "                                                   'single_epithelial_cell_size',\n",
       "                                                   'bare_nuclei',\n",
       "                                                   'bland_chromatin',\n",
       "                                                   'normal_nucleoli',\n",
       "                                                   'mitoses'])])),\n",
       "                ('svc', SVC(kernel='linear', random_state=42))])"
      ]
     },
     "execution_count": 20,
     "metadata": {},
     "output_type": "execute_result"
    }
   ],
   "source": [
    "from sklearn.svm import SVC\n",
    "class_svm = make_pipeline(pre_processamento, SVC(kernel = \"linear\", random_state = 42))\n",
    "class_svm.fit(X_train_copy, y_train_encod)"
   ]
  },
  {
   "cell_type": "markdown",
   "id": "44335dee",
   "metadata": {},
   "source": [
    "#### Modelo SVM Não Linear"
   ]
  },
  {
   "cell_type": "code",
   "execution_count": 21,
   "id": "1ff3d381",
   "metadata": {},
   "outputs": [
    {
     "data": {
      "text/html": [
       "<style>#sk-container-id-4 {color: black;background-color: white;}#sk-container-id-4 pre{padding: 0;}#sk-container-id-4 div.sk-toggleable {background-color: white;}#sk-container-id-4 label.sk-toggleable__label {cursor: pointer;display: block;width: 100%;margin-bottom: 0;padding: 0.3em;box-sizing: border-box;text-align: center;}#sk-container-id-4 label.sk-toggleable__label-arrow:before {content: \"▸\";float: left;margin-right: 0.25em;color: #696969;}#sk-container-id-4 label.sk-toggleable__label-arrow:hover:before {color: black;}#sk-container-id-4 div.sk-estimator:hover label.sk-toggleable__label-arrow:before {color: black;}#sk-container-id-4 div.sk-toggleable__content {max-height: 0;max-width: 0;overflow: hidden;text-align: left;background-color: #f0f8ff;}#sk-container-id-4 div.sk-toggleable__content pre {margin: 0.2em;color: black;border-radius: 0.25em;background-color: #f0f8ff;}#sk-container-id-4 input.sk-toggleable__control:checked~div.sk-toggleable__content {max-height: 200px;max-width: 100%;overflow: auto;}#sk-container-id-4 input.sk-toggleable__control:checked~label.sk-toggleable__label-arrow:before {content: \"▾\";}#sk-container-id-4 div.sk-estimator input.sk-toggleable__control:checked~label.sk-toggleable__label {background-color: #d4ebff;}#sk-container-id-4 div.sk-label input.sk-toggleable__control:checked~label.sk-toggleable__label {background-color: #d4ebff;}#sk-container-id-4 input.sk-hidden--visually {border: 0;clip: rect(1px 1px 1px 1px);clip: rect(1px, 1px, 1px, 1px);height: 1px;margin: -1px;overflow: hidden;padding: 0;position: absolute;width: 1px;}#sk-container-id-4 div.sk-estimator {font-family: monospace;background-color: #f0f8ff;border: 1px dotted black;border-radius: 0.25em;box-sizing: border-box;margin-bottom: 0.5em;}#sk-container-id-4 div.sk-estimator:hover {background-color: #d4ebff;}#sk-container-id-4 div.sk-parallel-item::after {content: \"\";width: 100%;border-bottom: 1px solid gray;flex-grow: 1;}#sk-container-id-4 div.sk-label:hover label.sk-toggleable__label {background-color: #d4ebff;}#sk-container-id-4 div.sk-serial::before {content: \"\";position: absolute;border-left: 1px solid gray;box-sizing: border-box;top: 0;bottom: 0;left: 50%;z-index: 0;}#sk-container-id-4 div.sk-serial {display: flex;flex-direction: column;align-items: center;background-color: white;padding-right: 0.2em;padding-left: 0.2em;position: relative;}#sk-container-id-4 div.sk-item {position: relative;z-index: 1;}#sk-container-id-4 div.sk-parallel {display: flex;align-items: stretch;justify-content: center;background-color: white;position: relative;}#sk-container-id-4 div.sk-item::before, #sk-container-id-4 div.sk-parallel-item::before {content: \"\";position: absolute;border-left: 1px solid gray;box-sizing: border-box;top: 0;bottom: 0;left: 50%;z-index: -1;}#sk-container-id-4 div.sk-parallel-item {display: flex;flex-direction: column;z-index: 1;position: relative;background-color: white;}#sk-container-id-4 div.sk-parallel-item:first-child::after {align-self: flex-end;width: 50%;}#sk-container-id-4 div.sk-parallel-item:last-child::after {align-self: flex-start;width: 50%;}#sk-container-id-4 div.sk-parallel-item:only-child::after {width: 0;}#sk-container-id-4 div.sk-dashed-wrapped {border: 1px dashed gray;margin: 0 0.4em 0.5em 0.4em;box-sizing: border-box;padding-bottom: 0.4em;background-color: white;}#sk-container-id-4 div.sk-label label {font-family: monospace;font-weight: bold;display: inline-block;line-height: 1.2em;}#sk-container-id-4 div.sk-label-container {text-align: center;}#sk-container-id-4 div.sk-container {/* jupyter's `normalize.less` sets `[hidden] { display: none; }` but bootstrap.min.css set `[hidden] { display: none !important; }` so we also need the `!important` here to be able to override the default hidden behavior on the sphinx rendered scikit-learn.org. See: https://github.com/scikit-learn/scikit-learn/issues/21755 */display: inline-block !important;position: relative;}#sk-container-id-4 div.sk-text-repr-fallback {display: none;}</style><div id=\"sk-container-id-4\" class=\"sk-top-container\"><div class=\"sk-text-repr-fallback\"><pre>Pipeline(steps=[(&#x27;columntransformer&#x27;,\n",
       "                 ColumnTransformer(transformers=[(&#x27;ordinal&#x27;,\n",
       "                                                  Pipeline(steps=[(&#x27;knnimputer&#x27;,\n",
       "                                                                   KNNImputer()),\n",
       "                                                                  (&#x27;ordinalencoder&#x27;,\n",
       "                                                                   OrdinalEncoder(dtype=&lt;class &#x27;numpy.int64&#x27;&gt;,\n",
       "                                                                                  handle_unknown=&#x27;use_encoded_value&#x27;,\n",
       "                                                                                  unknown_value=10))]),\n",
       "                                                  [&#x27;clump_thickness&#x27;,\n",
       "                                                   &#x27;uniformity_cell_size&#x27;,\n",
       "                                                   &#x27;uniformity_cell_shape&#x27;,\n",
       "                                                   &#x27;marginal_adhesion&#x27;,\n",
       "                                                   &#x27;single_epithelial_cell_size&#x27;,\n",
       "                                                   &#x27;bare_nuclei&#x27;,\n",
       "                                                   &#x27;bland_chromatin&#x27;,\n",
       "                                                   &#x27;normal_nucleoli&#x27;,\n",
       "                                                   &#x27;mitoses&#x27;])])),\n",
       "                (&#x27;svc&#x27;, SVC(random_state=42))])</pre><b>In a Jupyter environment, please rerun this cell to show the HTML representation or trust the notebook. <br />On GitHub, the HTML representation is unable to render, please try loading this page with nbviewer.org.</b></div><div class=\"sk-container\" hidden><div class=\"sk-item sk-dashed-wrapped\"><div class=\"sk-label-container\"><div class=\"sk-label sk-toggleable\"><input class=\"sk-toggleable__control sk-hidden--visually\" id=\"sk-estimator-id-19\" type=\"checkbox\" ><label for=\"sk-estimator-id-19\" class=\"sk-toggleable__label sk-toggleable__label-arrow\">Pipeline</label><div class=\"sk-toggleable__content\"><pre>Pipeline(steps=[(&#x27;columntransformer&#x27;,\n",
       "                 ColumnTransformer(transformers=[(&#x27;ordinal&#x27;,\n",
       "                                                  Pipeline(steps=[(&#x27;knnimputer&#x27;,\n",
       "                                                                   KNNImputer()),\n",
       "                                                                  (&#x27;ordinalencoder&#x27;,\n",
       "                                                                   OrdinalEncoder(dtype=&lt;class &#x27;numpy.int64&#x27;&gt;,\n",
       "                                                                                  handle_unknown=&#x27;use_encoded_value&#x27;,\n",
       "                                                                                  unknown_value=10))]),\n",
       "                                                  [&#x27;clump_thickness&#x27;,\n",
       "                                                   &#x27;uniformity_cell_size&#x27;,\n",
       "                                                   &#x27;uniformity_cell_shape&#x27;,\n",
       "                                                   &#x27;marginal_adhesion&#x27;,\n",
       "                                                   &#x27;single_epithelial_cell_size&#x27;,\n",
       "                                                   &#x27;bare_nuclei&#x27;,\n",
       "                                                   &#x27;bland_chromatin&#x27;,\n",
       "                                                   &#x27;normal_nucleoli&#x27;,\n",
       "                                                   &#x27;mitoses&#x27;])])),\n",
       "                (&#x27;svc&#x27;, SVC(random_state=42))])</pre></div></div></div><div class=\"sk-serial\"><div class=\"sk-item sk-dashed-wrapped\"><div class=\"sk-label-container\"><div class=\"sk-label sk-toggleable\"><input class=\"sk-toggleable__control sk-hidden--visually\" id=\"sk-estimator-id-20\" type=\"checkbox\" ><label for=\"sk-estimator-id-20\" class=\"sk-toggleable__label sk-toggleable__label-arrow\">columntransformer: ColumnTransformer</label><div class=\"sk-toggleable__content\"><pre>ColumnTransformer(transformers=[(&#x27;ordinal&#x27;,\n",
       "                                 Pipeline(steps=[(&#x27;knnimputer&#x27;, KNNImputer()),\n",
       "                                                 (&#x27;ordinalencoder&#x27;,\n",
       "                                                  OrdinalEncoder(dtype=&lt;class &#x27;numpy.int64&#x27;&gt;,\n",
       "                                                                 handle_unknown=&#x27;use_encoded_value&#x27;,\n",
       "                                                                 unknown_value=10))]),\n",
       "                                 [&#x27;clump_thickness&#x27;, &#x27;uniformity_cell_size&#x27;,\n",
       "                                  &#x27;uniformity_cell_shape&#x27;, &#x27;marginal_adhesion&#x27;,\n",
       "                                  &#x27;single_epithelial_cell_size&#x27;, &#x27;bare_nuclei&#x27;,\n",
       "                                  &#x27;bland_chromatin&#x27;, &#x27;normal_nucleoli&#x27;,\n",
       "                                  &#x27;mitoses&#x27;])])</pre></div></div></div><div class=\"sk-parallel\"><div class=\"sk-parallel-item\"><div class=\"sk-item\"><div class=\"sk-label-container\"><div class=\"sk-label sk-toggleable\"><input class=\"sk-toggleable__control sk-hidden--visually\" id=\"sk-estimator-id-21\" type=\"checkbox\" ><label for=\"sk-estimator-id-21\" class=\"sk-toggleable__label sk-toggleable__label-arrow\">ordinal</label><div class=\"sk-toggleable__content\"><pre>[&#x27;clump_thickness&#x27;, &#x27;uniformity_cell_size&#x27;, &#x27;uniformity_cell_shape&#x27;, &#x27;marginal_adhesion&#x27;, &#x27;single_epithelial_cell_size&#x27;, &#x27;bare_nuclei&#x27;, &#x27;bland_chromatin&#x27;, &#x27;normal_nucleoli&#x27;, &#x27;mitoses&#x27;]</pre></div></div></div><div class=\"sk-serial\"><div class=\"sk-item\"><div class=\"sk-serial\"><div class=\"sk-item\"><div class=\"sk-estimator sk-toggleable\"><input class=\"sk-toggleable__control sk-hidden--visually\" id=\"sk-estimator-id-22\" type=\"checkbox\" ><label for=\"sk-estimator-id-22\" class=\"sk-toggleable__label sk-toggleable__label-arrow\">KNNImputer</label><div class=\"sk-toggleable__content\"><pre>KNNImputer()</pre></div></div></div><div class=\"sk-item\"><div class=\"sk-estimator sk-toggleable\"><input class=\"sk-toggleable__control sk-hidden--visually\" id=\"sk-estimator-id-23\" type=\"checkbox\" ><label for=\"sk-estimator-id-23\" class=\"sk-toggleable__label sk-toggleable__label-arrow\">OrdinalEncoder</label><div class=\"sk-toggleable__content\"><pre>OrdinalEncoder(dtype=&lt;class &#x27;numpy.int64&#x27;&gt;, handle_unknown=&#x27;use_encoded_value&#x27;,\n",
       "               unknown_value=10)</pre></div></div></div></div></div></div></div></div></div></div><div class=\"sk-item\"><div class=\"sk-estimator sk-toggleable\"><input class=\"sk-toggleable__control sk-hidden--visually\" id=\"sk-estimator-id-24\" type=\"checkbox\" ><label for=\"sk-estimator-id-24\" class=\"sk-toggleable__label sk-toggleable__label-arrow\">SVC</label><div class=\"sk-toggleable__content\"><pre>SVC(random_state=42)</pre></div></div></div></div></div></div></div>"
      ],
      "text/plain": [
       "Pipeline(steps=[('columntransformer',\n",
       "                 ColumnTransformer(transformers=[('ordinal',\n",
       "                                                  Pipeline(steps=[('knnimputer',\n",
       "                                                                   KNNImputer()),\n",
       "                                                                  ('ordinalencoder',\n",
       "                                                                   OrdinalEncoder(dtype=<class 'numpy.int64'>,\n",
       "                                                                                  handle_unknown='use_encoded_value',\n",
       "                                                                                  unknown_value=10))]),\n",
       "                                                  ['clump_thickness',\n",
       "                                                   'uniformity_cell_size',\n",
       "                                                   'uniformity_cell_shape',\n",
       "                                                   'marginal_adhesion',\n",
       "                                                   'single_epithelial_cell_size',\n",
       "                                                   'bare_nuclei',\n",
       "                                                   'bland_chromatin',\n",
       "                                                   'normal_nucleoli',\n",
       "                                                   'mitoses'])])),\n",
       "                ('svc', SVC(random_state=42))])"
      ]
     },
     "execution_count": 21,
     "metadata": {},
     "output_type": "execute_result"
    }
   ],
   "source": [
    "from sklearn.svm import SVC\n",
    "class_svm_rbf = make_pipeline(pre_processamento, SVC(kernel = \"rbf\", random_state = 42))\n",
    "class_svm_rbf.fit(X_train_copy, y_train_encod)"
   ]
  },
  {
   "cell_type": "code",
   "execution_count": 22,
   "id": "abbd7043",
   "metadata": {},
   "outputs": [
    {
     "data": {
      "text/html": [
       "<style>#sk-container-id-5 {color: black;background-color: white;}#sk-container-id-5 pre{padding: 0;}#sk-container-id-5 div.sk-toggleable {background-color: white;}#sk-container-id-5 label.sk-toggleable__label {cursor: pointer;display: block;width: 100%;margin-bottom: 0;padding: 0.3em;box-sizing: border-box;text-align: center;}#sk-container-id-5 label.sk-toggleable__label-arrow:before {content: \"▸\";float: left;margin-right: 0.25em;color: #696969;}#sk-container-id-5 label.sk-toggleable__label-arrow:hover:before {color: black;}#sk-container-id-5 div.sk-estimator:hover label.sk-toggleable__label-arrow:before {color: black;}#sk-container-id-5 div.sk-toggleable__content {max-height: 0;max-width: 0;overflow: hidden;text-align: left;background-color: #f0f8ff;}#sk-container-id-5 div.sk-toggleable__content pre {margin: 0.2em;color: black;border-radius: 0.25em;background-color: #f0f8ff;}#sk-container-id-5 input.sk-toggleable__control:checked~div.sk-toggleable__content {max-height: 200px;max-width: 100%;overflow: auto;}#sk-container-id-5 input.sk-toggleable__control:checked~label.sk-toggleable__label-arrow:before {content: \"▾\";}#sk-container-id-5 div.sk-estimator input.sk-toggleable__control:checked~label.sk-toggleable__label {background-color: #d4ebff;}#sk-container-id-5 div.sk-label input.sk-toggleable__control:checked~label.sk-toggleable__label {background-color: #d4ebff;}#sk-container-id-5 input.sk-hidden--visually {border: 0;clip: rect(1px 1px 1px 1px);clip: rect(1px, 1px, 1px, 1px);height: 1px;margin: -1px;overflow: hidden;padding: 0;position: absolute;width: 1px;}#sk-container-id-5 div.sk-estimator {font-family: monospace;background-color: #f0f8ff;border: 1px dotted black;border-radius: 0.25em;box-sizing: border-box;margin-bottom: 0.5em;}#sk-container-id-5 div.sk-estimator:hover {background-color: #d4ebff;}#sk-container-id-5 div.sk-parallel-item::after {content: \"\";width: 100%;border-bottom: 1px solid gray;flex-grow: 1;}#sk-container-id-5 div.sk-label:hover label.sk-toggleable__label {background-color: #d4ebff;}#sk-container-id-5 div.sk-serial::before {content: \"\";position: absolute;border-left: 1px solid gray;box-sizing: border-box;top: 0;bottom: 0;left: 50%;z-index: 0;}#sk-container-id-5 div.sk-serial {display: flex;flex-direction: column;align-items: center;background-color: white;padding-right: 0.2em;padding-left: 0.2em;position: relative;}#sk-container-id-5 div.sk-item {position: relative;z-index: 1;}#sk-container-id-5 div.sk-parallel {display: flex;align-items: stretch;justify-content: center;background-color: white;position: relative;}#sk-container-id-5 div.sk-item::before, #sk-container-id-5 div.sk-parallel-item::before {content: \"\";position: absolute;border-left: 1px solid gray;box-sizing: border-box;top: 0;bottom: 0;left: 50%;z-index: -1;}#sk-container-id-5 div.sk-parallel-item {display: flex;flex-direction: column;z-index: 1;position: relative;background-color: white;}#sk-container-id-5 div.sk-parallel-item:first-child::after {align-self: flex-end;width: 50%;}#sk-container-id-5 div.sk-parallel-item:last-child::after {align-self: flex-start;width: 50%;}#sk-container-id-5 div.sk-parallel-item:only-child::after {width: 0;}#sk-container-id-5 div.sk-dashed-wrapped {border: 1px dashed gray;margin: 0 0.4em 0.5em 0.4em;box-sizing: border-box;padding-bottom: 0.4em;background-color: white;}#sk-container-id-5 div.sk-label label {font-family: monospace;font-weight: bold;display: inline-block;line-height: 1.2em;}#sk-container-id-5 div.sk-label-container {text-align: center;}#sk-container-id-5 div.sk-container {/* jupyter's `normalize.less` sets `[hidden] { display: none; }` but bootstrap.min.css set `[hidden] { display: none !important; }` so we also need the `!important` here to be able to override the default hidden behavior on the sphinx rendered scikit-learn.org. See: https://github.com/scikit-learn/scikit-learn/issues/21755 */display: inline-block !important;position: relative;}#sk-container-id-5 div.sk-text-repr-fallback {display: none;}</style><div id=\"sk-container-id-5\" class=\"sk-top-container\"><div class=\"sk-text-repr-fallback\"><pre>Pipeline(steps=[(&#x27;columntransformer&#x27;,\n",
       "                 ColumnTransformer(transformers=[(&#x27;ordinal&#x27;,\n",
       "                                                  Pipeline(steps=[(&#x27;knnimputer&#x27;,\n",
       "                                                                   KNNImputer()),\n",
       "                                                                  (&#x27;ordinalencoder&#x27;,\n",
       "                                                                   OrdinalEncoder(dtype=&lt;class &#x27;numpy.int64&#x27;&gt;,\n",
       "                                                                                  handle_unknown=&#x27;use_encoded_value&#x27;,\n",
       "                                                                                  unknown_value=10))]),\n",
       "                                                  [&#x27;clump_thickness&#x27;,\n",
       "                                                   &#x27;uniformity_cell_size&#x27;,\n",
       "                                                   &#x27;uniformity_cell_shape&#x27;,\n",
       "                                                   &#x27;marginal_adhesion&#x27;,\n",
       "                                                   &#x27;single_epithelial_cell_size&#x27;,\n",
       "                                                   &#x27;bare_nuclei&#x27;,\n",
       "                                                   &#x27;bland_chromatin&#x27;,\n",
       "                                                   &#x27;normal_nucleoli&#x27;,\n",
       "                                                   &#x27;mitoses&#x27;])])),\n",
       "                (&#x27;svc&#x27;, SVC(kernel=&#x27;poly&#x27;, random_state=42))])</pre><b>In a Jupyter environment, please rerun this cell to show the HTML representation or trust the notebook. <br />On GitHub, the HTML representation is unable to render, please try loading this page with nbviewer.org.</b></div><div class=\"sk-container\" hidden><div class=\"sk-item sk-dashed-wrapped\"><div class=\"sk-label-container\"><div class=\"sk-label sk-toggleable\"><input class=\"sk-toggleable__control sk-hidden--visually\" id=\"sk-estimator-id-25\" type=\"checkbox\" ><label for=\"sk-estimator-id-25\" class=\"sk-toggleable__label sk-toggleable__label-arrow\">Pipeline</label><div class=\"sk-toggleable__content\"><pre>Pipeline(steps=[(&#x27;columntransformer&#x27;,\n",
       "                 ColumnTransformer(transformers=[(&#x27;ordinal&#x27;,\n",
       "                                                  Pipeline(steps=[(&#x27;knnimputer&#x27;,\n",
       "                                                                   KNNImputer()),\n",
       "                                                                  (&#x27;ordinalencoder&#x27;,\n",
       "                                                                   OrdinalEncoder(dtype=&lt;class &#x27;numpy.int64&#x27;&gt;,\n",
       "                                                                                  handle_unknown=&#x27;use_encoded_value&#x27;,\n",
       "                                                                                  unknown_value=10))]),\n",
       "                                                  [&#x27;clump_thickness&#x27;,\n",
       "                                                   &#x27;uniformity_cell_size&#x27;,\n",
       "                                                   &#x27;uniformity_cell_shape&#x27;,\n",
       "                                                   &#x27;marginal_adhesion&#x27;,\n",
       "                                                   &#x27;single_epithelial_cell_size&#x27;,\n",
       "                                                   &#x27;bare_nuclei&#x27;,\n",
       "                                                   &#x27;bland_chromatin&#x27;,\n",
       "                                                   &#x27;normal_nucleoli&#x27;,\n",
       "                                                   &#x27;mitoses&#x27;])])),\n",
       "                (&#x27;svc&#x27;, SVC(kernel=&#x27;poly&#x27;, random_state=42))])</pre></div></div></div><div class=\"sk-serial\"><div class=\"sk-item sk-dashed-wrapped\"><div class=\"sk-label-container\"><div class=\"sk-label sk-toggleable\"><input class=\"sk-toggleable__control sk-hidden--visually\" id=\"sk-estimator-id-26\" type=\"checkbox\" ><label for=\"sk-estimator-id-26\" class=\"sk-toggleable__label sk-toggleable__label-arrow\">columntransformer: ColumnTransformer</label><div class=\"sk-toggleable__content\"><pre>ColumnTransformer(transformers=[(&#x27;ordinal&#x27;,\n",
       "                                 Pipeline(steps=[(&#x27;knnimputer&#x27;, KNNImputer()),\n",
       "                                                 (&#x27;ordinalencoder&#x27;,\n",
       "                                                  OrdinalEncoder(dtype=&lt;class &#x27;numpy.int64&#x27;&gt;,\n",
       "                                                                 handle_unknown=&#x27;use_encoded_value&#x27;,\n",
       "                                                                 unknown_value=10))]),\n",
       "                                 [&#x27;clump_thickness&#x27;, &#x27;uniformity_cell_size&#x27;,\n",
       "                                  &#x27;uniformity_cell_shape&#x27;, &#x27;marginal_adhesion&#x27;,\n",
       "                                  &#x27;single_epithelial_cell_size&#x27;, &#x27;bare_nuclei&#x27;,\n",
       "                                  &#x27;bland_chromatin&#x27;, &#x27;normal_nucleoli&#x27;,\n",
       "                                  &#x27;mitoses&#x27;])])</pre></div></div></div><div class=\"sk-parallel\"><div class=\"sk-parallel-item\"><div class=\"sk-item\"><div class=\"sk-label-container\"><div class=\"sk-label sk-toggleable\"><input class=\"sk-toggleable__control sk-hidden--visually\" id=\"sk-estimator-id-27\" type=\"checkbox\" ><label for=\"sk-estimator-id-27\" class=\"sk-toggleable__label sk-toggleable__label-arrow\">ordinal</label><div class=\"sk-toggleable__content\"><pre>[&#x27;clump_thickness&#x27;, &#x27;uniformity_cell_size&#x27;, &#x27;uniformity_cell_shape&#x27;, &#x27;marginal_adhesion&#x27;, &#x27;single_epithelial_cell_size&#x27;, &#x27;bare_nuclei&#x27;, &#x27;bland_chromatin&#x27;, &#x27;normal_nucleoli&#x27;, &#x27;mitoses&#x27;]</pre></div></div></div><div class=\"sk-serial\"><div class=\"sk-item\"><div class=\"sk-serial\"><div class=\"sk-item\"><div class=\"sk-estimator sk-toggleable\"><input class=\"sk-toggleable__control sk-hidden--visually\" id=\"sk-estimator-id-28\" type=\"checkbox\" ><label for=\"sk-estimator-id-28\" class=\"sk-toggleable__label sk-toggleable__label-arrow\">KNNImputer</label><div class=\"sk-toggleable__content\"><pre>KNNImputer()</pre></div></div></div><div class=\"sk-item\"><div class=\"sk-estimator sk-toggleable\"><input class=\"sk-toggleable__control sk-hidden--visually\" id=\"sk-estimator-id-29\" type=\"checkbox\" ><label for=\"sk-estimator-id-29\" class=\"sk-toggleable__label sk-toggleable__label-arrow\">OrdinalEncoder</label><div class=\"sk-toggleable__content\"><pre>OrdinalEncoder(dtype=&lt;class &#x27;numpy.int64&#x27;&gt;, handle_unknown=&#x27;use_encoded_value&#x27;,\n",
       "               unknown_value=10)</pre></div></div></div></div></div></div></div></div></div></div><div class=\"sk-item\"><div class=\"sk-estimator sk-toggleable\"><input class=\"sk-toggleable__control sk-hidden--visually\" id=\"sk-estimator-id-30\" type=\"checkbox\" ><label for=\"sk-estimator-id-30\" class=\"sk-toggleable__label sk-toggleable__label-arrow\">SVC</label><div class=\"sk-toggleable__content\"><pre>SVC(kernel=&#x27;poly&#x27;, random_state=42)</pre></div></div></div></div></div></div></div>"
      ],
      "text/plain": [
       "Pipeline(steps=[('columntransformer',\n",
       "                 ColumnTransformer(transformers=[('ordinal',\n",
       "                                                  Pipeline(steps=[('knnimputer',\n",
       "                                                                   KNNImputer()),\n",
       "                                                                  ('ordinalencoder',\n",
       "                                                                   OrdinalEncoder(dtype=<class 'numpy.int64'>,\n",
       "                                                                                  handle_unknown='use_encoded_value',\n",
       "                                                                                  unknown_value=10))]),\n",
       "                                                  ['clump_thickness',\n",
       "                                                   'uniformity_cell_size',\n",
       "                                                   'uniformity_cell_shape',\n",
       "                                                   'marginal_adhesion',\n",
       "                                                   'single_epithelial_cell_size',\n",
       "                                                   'bare_nuclei',\n",
       "                                                   'bland_chromatin',\n",
       "                                                   'normal_nucleoli',\n",
       "                                                   'mitoses'])])),\n",
       "                ('svc', SVC(kernel='poly', random_state=42))])"
      ]
     },
     "execution_count": 22,
     "metadata": {},
     "output_type": "execute_result"
    }
   ],
   "source": [
    "from sklearn.svm import SVC\n",
    "class_svm_poly = make_pipeline(pre_processamento, SVC(kernel = \"poly\", random_state = 42))\n",
    "class_svm_poly.fit(X_train_copy, y_train_encod)"
   ]
  },
  {
   "cell_type": "code",
   "execution_count": 23,
   "id": "aebf1e02",
   "metadata": {
    "scrolled": true
   },
   "outputs": [
    {
     "data": {
      "text/html": [
       "<style>#sk-container-id-6 {color: black;background-color: white;}#sk-container-id-6 pre{padding: 0;}#sk-container-id-6 div.sk-toggleable {background-color: white;}#sk-container-id-6 label.sk-toggleable__label {cursor: pointer;display: block;width: 100%;margin-bottom: 0;padding: 0.3em;box-sizing: border-box;text-align: center;}#sk-container-id-6 label.sk-toggleable__label-arrow:before {content: \"▸\";float: left;margin-right: 0.25em;color: #696969;}#sk-container-id-6 label.sk-toggleable__label-arrow:hover:before {color: black;}#sk-container-id-6 div.sk-estimator:hover label.sk-toggleable__label-arrow:before {color: black;}#sk-container-id-6 div.sk-toggleable__content {max-height: 0;max-width: 0;overflow: hidden;text-align: left;background-color: #f0f8ff;}#sk-container-id-6 div.sk-toggleable__content pre {margin: 0.2em;color: black;border-radius: 0.25em;background-color: #f0f8ff;}#sk-container-id-6 input.sk-toggleable__control:checked~div.sk-toggleable__content {max-height: 200px;max-width: 100%;overflow: auto;}#sk-container-id-6 input.sk-toggleable__control:checked~label.sk-toggleable__label-arrow:before {content: \"▾\";}#sk-container-id-6 div.sk-estimator input.sk-toggleable__control:checked~label.sk-toggleable__label {background-color: #d4ebff;}#sk-container-id-6 div.sk-label input.sk-toggleable__control:checked~label.sk-toggleable__label {background-color: #d4ebff;}#sk-container-id-6 input.sk-hidden--visually {border: 0;clip: rect(1px 1px 1px 1px);clip: rect(1px, 1px, 1px, 1px);height: 1px;margin: -1px;overflow: hidden;padding: 0;position: absolute;width: 1px;}#sk-container-id-6 div.sk-estimator {font-family: monospace;background-color: #f0f8ff;border: 1px dotted black;border-radius: 0.25em;box-sizing: border-box;margin-bottom: 0.5em;}#sk-container-id-6 div.sk-estimator:hover {background-color: #d4ebff;}#sk-container-id-6 div.sk-parallel-item::after {content: \"\";width: 100%;border-bottom: 1px solid gray;flex-grow: 1;}#sk-container-id-6 div.sk-label:hover label.sk-toggleable__label {background-color: #d4ebff;}#sk-container-id-6 div.sk-serial::before {content: \"\";position: absolute;border-left: 1px solid gray;box-sizing: border-box;top: 0;bottom: 0;left: 50%;z-index: 0;}#sk-container-id-6 div.sk-serial {display: flex;flex-direction: column;align-items: center;background-color: white;padding-right: 0.2em;padding-left: 0.2em;position: relative;}#sk-container-id-6 div.sk-item {position: relative;z-index: 1;}#sk-container-id-6 div.sk-parallel {display: flex;align-items: stretch;justify-content: center;background-color: white;position: relative;}#sk-container-id-6 div.sk-item::before, #sk-container-id-6 div.sk-parallel-item::before {content: \"\";position: absolute;border-left: 1px solid gray;box-sizing: border-box;top: 0;bottom: 0;left: 50%;z-index: -1;}#sk-container-id-6 div.sk-parallel-item {display: flex;flex-direction: column;z-index: 1;position: relative;background-color: white;}#sk-container-id-6 div.sk-parallel-item:first-child::after {align-self: flex-end;width: 50%;}#sk-container-id-6 div.sk-parallel-item:last-child::after {align-self: flex-start;width: 50%;}#sk-container-id-6 div.sk-parallel-item:only-child::after {width: 0;}#sk-container-id-6 div.sk-dashed-wrapped {border: 1px dashed gray;margin: 0 0.4em 0.5em 0.4em;box-sizing: border-box;padding-bottom: 0.4em;background-color: white;}#sk-container-id-6 div.sk-label label {font-family: monospace;font-weight: bold;display: inline-block;line-height: 1.2em;}#sk-container-id-6 div.sk-label-container {text-align: center;}#sk-container-id-6 div.sk-container {/* jupyter's `normalize.less` sets `[hidden] { display: none; }` but bootstrap.min.css set `[hidden] { display: none !important; }` so we also need the `!important` here to be able to override the default hidden behavior on the sphinx rendered scikit-learn.org. See: https://github.com/scikit-learn/scikit-learn/issues/21755 */display: inline-block !important;position: relative;}#sk-container-id-6 div.sk-text-repr-fallback {display: none;}</style><div id=\"sk-container-id-6\" class=\"sk-top-container\"><div class=\"sk-text-repr-fallback\"><pre>Pipeline(steps=[(&#x27;columntransformer&#x27;,\n",
       "                 ColumnTransformer(transformers=[(&#x27;ordinal&#x27;,\n",
       "                                                  Pipeline(steps=[(&#x27;knnimputer&#x27;,\n",
       "                                                                   KNNImputer()),\n",
       "                                                                  (&#x27;ordinalencoder&#x27;,\n",
       "                                                                   OrdinalEncoder(dtype=&lt;class &#x27;numpy.int64&#x27;&gt;,\n",
       "                                                                                  handle_unknown=&#x27;use_encoded_value&#x27;,\n",
       "                                                                                  unknown_value=10))]),\n",
       "                                                  [&#x27;clump_thickness&#x27;,\n",
       "                                                   &#x27;uniformity_cell_size&#x27;,\n",
       "                                                   &#x27;uniformity_cell_shape&#x27;,\n",
       "                                                   &#x27;marginal_adhesion&#x27;,\n",
       "                                                   &#x27;single_epithelial_cell_size&#x27;,\n",
       "                                                   &#x27;bare_nuclei&#x27;,\n",
       "                                                   &#x27;bland_chromatin&#x27;,\n",
       "                                                   &#x27;normal_nucleoli&#x27;,\n",
       "                                                   &#x27;mitoses&#x27;])])),\n",
       "                (&#x27;svc&#x27;, SVC(kernel=&#x27;sigmoid&#x27;, random_state=42))])</pre><b>In a Jupyter environment, please rerun this cell to show the HTML representation or trust the notebook. <br />On GitHub, the HTML representation is unable to render, please try loading this page with nbviewer.org.</b></div><div class=\"sk-container\" hidden><div class=\"sk-item sk-dashed-wrapped\"><div class=\"sk-label-container\"><div class=\"sk-label sk-toggleable\"><input class=\"sk-toggleable__control sk-hidden--visually\" id=\"sk-estimator-id-31\" type=\"checkbox\" ><label for=\"sk-estimator-id-31\" class=\"sk-toggleable__label sk-toggleable__label-arrow\">Pipeline</label><div class=\"sk-toggleable__content\"><pre>Pipeline(steps=[(&#x27;columntransformer&#x27;,\n",
       "                 ColumnTransformer(transformers=[(&#x27;ordinal&#x27;,\n",
       "                                                  Pipeline(steps=[(&#x27;knnimputer&#x27;,\n",
       "                                                                   KNNImputer()),\n",
       "                                                                  (&#x27;ordinalencoder&#x27;,\n",
       "                                                                   OrdinalEncoder(dtype=&lt;class &#x27;numpy.int64&#x27;&gt;,\n",
       "                                                                                  handle_unknown=&#x27;use_encoded_value&#x27;,\n",
       "                                                                                  unknown_value=10))]),\n",
       "                                                  [&#x27;clump_thickness&#x27;,\n",
       "                                                   &#x27;uniformity_cell_size&#x27;,\n",
       "                                                   &#x27;uniformity_cell_shape&#x27;,\n",
       "                                                   &#x27;marginal_adhesion&#x27;,\n",
       "                                                   &#x27;single_epithelial_cell_size&#x27;,\n",
       "                                                   &#x27;bare_nuclei&#x27;,\n",
       "                                                   &#x27;bland_chromatin&#x27;,\n",
       "                                                   &#x27;normal_nucleoli&#x27;,\n",
       "                                                   &#x27;mitoses&#x27;])])),\n",
       "                (&#x27;svc&#x27;, SVC(kernel=&#x27;sigmoid&#x27;, random_state=42))])</pre></div></div></div><div class=\"sk-serial\"><div class=\"sk-item sk-dashed-wrapped\"><div class=\"sk-label-container\"><div class=\"sk-label sk-toggleable\"><input class=\"sk-toggleable__control sk-hidden--visually\" id=\"sk-estimator-id-32\" type=\"checkbox\" ><label for=\"sk-estimator-id-32\" class=\"sk-toggleable__label sk-toggleable__label-arrow\">columntransformer: ColumnTransformer</label><div class=\"sk-toggleable__content\"><pre>ColumnTransformer(transformers=[(&#x27;ordinal&#x27;,\n",
       "                                 Pipeline(steps=[(&#x27;knnimputer&#x27;, KNNImputer()),\n",
       "                                                 (&#x27;ordinalencoder&#x27;,\n",
       "                                                  OrdinalEncoder(dtype=&lt;class &#x27;numpy.int64&#x27;&gt;,\n",
       "                                                                 handle_unknown=&#x27;use_encoded_value&#x27;,\n",
       "                                                                 unknown_value=10))]),\n",
       "                                 [&#x27;clump_thickness&#x27;, &#x27;uniformity_cell_size&#x27;,\n",
       "                                  &#x27;uniformity_cell_shape&#x27;, &#x27;marginal_adhesion&#x27;,\n",
       "                                  &#x27;single_epithelial_cell_size&#x27;, &#x27;bare_nuclei&#x27;,\n",
       "                                  &#x27;bland_chromatin&#x27;, &#x27;normal_nucleoli&#x27;,\n",
       "                                  &#x27;mitoses&#x27;])])</pre></div></div></div><div class=\"sk-parallel\"><div class=\"sk-parallel-item\"><div class=\"sk-item\"><div class=\"sk-label-container\"><div class=\"sk-label sk-toggleable\"><input class=\"sk-toggleable__control sk-hidden--visually\" id=\"sk-estimator-id-33\" type=\"checkbox\" ><label for=\"sk-estimator-id-33\" class=\"sk-toggleable__label sk-toggleable__label-arrow\">ordinal</label><div class=\"sk-toggleable__content\"><pre>[&#x27;clump_thickness&#x27;, &#x27;uniformity_cell_size&#x27;, &#x27;uniformity_cell_shape&#x27;, &#x27;marginal_adhesion&#x27;, &#x27;single_epithelial_cell_size&#x27;, &#x27;bare_nuclei&#x27;, &#x27;bland_chromatin&#x27;, &#x27;normal_nucleoli&#x27;, &#x27;mitoses&#x27;]</pre></div></div></div><div class=\"sk-serial\"><div class=\"sk-item\"><div class=\"sk-serial\"><div class=\"sk-item\"><div class=\"sk-estimator sk-toggleable\"><input class=\"sk-toggleable__control sk-hidden--visually\" id=\"sk-estimator-id-34\" type=\"checkbox\" ><label for=\"sk-estimator-id-34\" class=\"sk-toggleable__label sk-toggleable__label-arrow\">KNNImputer</label><div class=\"sk-toggleable__content\"><pre>KNNImputer()</pre></div></div></div><div class=\"sk-item\"><div class=\"sk-estimator sk-toggleable\"><input class=\"sk-toggleable__control sk-hidden--visually\" id=\"sk-estimator-id-35\" type=\"checkbox\" ><label for=\"sk-estimator-id-35\" class=\"sk-toggleable__label sk-toggleable__label-arrow\">OrdinalEncoder</label><div class=\"sk-toggleable__content\"><pre>OrdinalEncoder(dtype=&lt;class &#x27;numpy.int64&#x27;&gt;, handle_unknown=&#x27;use_encoded_value&#x27;,\n",
       "               unknown_value=10)</pre></div></div></div></div></div></div></div></div></div></div><div class=\"sk-item\"><div class=\"sk-estimator sk-toggleable\"><input class=\"sk-toggleable__control sk-hidden--visually\" id=\"sk-estimator-id-36\" type=\"checkbox\" ><label for=\"sk-estimator-id-36\" class=\"sk-toggleable__label sk-toggleable__label-arrow\">SVC</label><div class=\"sk-toggleable__content\"><pre>SVC(kernel=&#x27;sigmoid&#x27;, random_state=42)</pre></div></div></div></div></div></div></div>"
      ],
      "text/plain": [
       "Pipeline(steps=[('columntransformer',\n",
       "                 ColumnTransformer(transformers=[('ordinal',\n",
       "                                                  Pipeline(steps=[('knnimputer',\n",
       "                                                                   KNNImputer()),\n",
       "                                                                  ('ordinalencoder',\n",
       "                                                                   OrdinalEncoder(dtype=<class 'numpy.int64'>,\n",
       "                                                                                  handle_unknown='use_encoded_value',\n",
       "                                                                                  unknown_value=10))]),\n",
       "                                                  ['clump_thickness',\n",
       "                                                   'uniformity_cell_size',\n",
       "                                                   'uniformity_cell_shape',\n",
       "                                                   'marginal_adhesion',\n",
       "                                                   'single_epithelial_cell_size',\n",
       "                                                   'bare_nuclei',\n",
       "                                                   'bland_chromatin',\n",
       "                                                   'normal_nucleoli',\n",
       "                                                   'mitoses'])])),\n",
       "                ('svc', SVC(kernel='sigmoid', random_state=42))])"
      ]
     },
     "execution_count": 23,
     "metadata": {},
     "output_type": "execute_result"
    }
   ],
   "source": [
    "from sklearn.svm import SVC\n",
    "class_svm_sigmoid = make_pipeline(pre_processamento, SVC(kernel = \"sigmoid\", random_state = 42))\n",
    "class_svm_sigmoid.fit(X_train_copy, y_train_encod)"
   ]
  },
  {
   "cell_type": "markdown",
   "id": "45453d0d",
   "metadata": {},
   "source": [
    "#### Modelo Naives Bayes"
   ]
  },
  {
   "cell_type": "markdown",
   "id": "6a70f27e",
   "metadata": {},
   "source": [
    "- Apresenta o suposto que as caraterísticas $(X_1, X_2, \\cdots, X_n)$ são independêntes. \n",
    "- Neste caso, o suposto é violado mesmo assim é aplicado por motivos de previsão e tenta-se encontrar alguma vantagem. "
   ]
  },
  {
   "cell_type": "code",
   "execution_count": 24,
   "id": "3e1f8c0c",
   "metadata": {
    "scrolled": true
   },
   "outputs": [
    {
     "data": {
      "text/html": [
       "<style>#sk-container-id-7 {color: black;background-color: white;}#sk-container-id-7 pre{padding: 0;}#sk-container-id-7 div.sk-toggleable {background-color: white;}#sk-container-id-7 label.sk-toggleable__label {cursor: pointer;display: block;width: 100%;margin-bottom: 0;padding: 0.3em;box-sizing: border-box;text-align: center;}#sk-container-id-7 label.sk-toggleable__label-arrow:before {content: \"▸\";float: left;margin-right: 0.25em;color: #696969;}#sk-container-id-7 label.sk-toggleable__label-arrow:hover:before {color: black;}#sk-container-id-7 div.sk-estimator:hover label.sk-toggleable__label-arrow:before {color: black;}#sk-container-id-7 div.sk-toggleable__content {max-height: 0;max-width: 0;overflow: hidden;text-align: left;background-color: #f0f8ff;}#sk-container-id-7 div.sk-toggleable__content pre {margin: 0.2em;color: black;border-radius: 0.25em;background-color: #f0f8ff;}#sk-container-id-7 input.sk-toggleable__control:checked~div.sk-toggleable__content {max-height: 200px;max-width: 100%;overflow: auto;}#sk-container-id-7 input.sk-toggleable__control:checked~label.sk-toggleable__label-arrow:before {content: \"▾\";}#sk-container-id-7 div.sk-estimator input.sk-toggleable__control:checked~label.sk-toggleable__label {background-color: #d4ebff;}#sk-container-id-7 div.sk-label input.sk-toggleable__control:checked~label.sk-toggleable__label {background-color: #d4ebff;}#sk-container-id-7 input.sk-hidden--visually {border: 0;clip: rect(1px 1px 1px 1px);clip: rect(1px, 1px, 1px, 1px);height: 1px;margin: -1px;overflow: hidden;padding: 0;position: absolute;width: 1px;}#sk-container-id-7 div.sk-estimator {font-family: monospace;background-color: #f0f8ff;border: 1px dotted black;border-radius: 0.25em;box-sizing: border-box;margin-bottom: 0.5em;}#sk-container-id-7 div.sk-estimator:hover {background-color: #d4ebff;}#sk-container-id-7 div.sk-parallel-item::after {content: \"\";width: 100%;border-bottom: 1px solid gray;flex-grow: 1;}#sk-container-id-7 div.sk-label:hover label.sk-toggleable__label {background-color: #d4ebff;}#sk-container-id-7 div.sk-serial::before {content: \"\";position: absolute;border-left: 1px solid gray;box-sizing: border-box;top: 0;bottom: 0;left: 50%;z-index: 0;}#sk-container-id-7 div.sk-serial {display: flex;flex-direction: column;align-items: center;background-color: white;padding-right: 0.2em;padding-left: 0.2em;position: relative;}#sk-container-id-7 div.sk-item {position: relative;z-index: 1;}#sk-container-id-7 div.sk-parallel {display: flex;align-items: stretch;justify-content: center;background-color: white;position: relative;}#sk-container-id-7 div.sk-item::before, #sk-container-id-7 div.sk-parallel-item::before {content: \"\";position: absolute;border-left: 1px solid gray;box-sizing: border-box;top: 0;bottom: 0;left: 50%;z-index: -1;}#sk-container-id-7 div.sk-parallel-item {display: flex;flex-direction: column;z-index: 1;position: relative;background-color: white;}#sk-container-id-7 div.sk-parallel-item:first-child::after {align-self: flex-end;width: 50%;}#sk-container-id-7 div.sk-parallel-item:last-child::after {align-self: flex-start;width: 50%;}#sk-container-id-7 div.sk-parallel-item:only-child::after {width: 0;}#sk-container-id-7 div.sk-dashed-wrapped {border: 1px dashed gray;margin: 0 0.4em 0.5em 0.4em;box-sizing: border-box;padding-bottom: 0.4em;background-color: white;}#sk-container-id-7 div.sk-label label {font-family: monospace;font-weight: bold;display: inline-block;line-height: 1.2em;}#sk-container-id-7 div.sk-label-container {text-align: center;}#sk-container-id-7 div.sk-container {/* jupyter's `normalize.less` sets `[hidden] { display: none; }` but bootstrap.min.css set `[hidden] { display: none !important; }` so we also need the `!important` here to be able to override the default hidden behavior on the sphinx rendered scikit-learn.org. See: https://github.com/scikit-learn/scikit-learn/issues/21755 */display: inline-block !important;position: relative;}#sk-container-id-7 div.sk-text-repr-fallback {display: none;}</style><div id=\"sk-container-id-7\" class=\"sk-top-container\"><div class=\"sk-text-repr-fallback\"><pre>Pipeline(steps=[(&#x27;columntransformer&#x27;,\n",
       "                 ColumnTransformer(transformers=[(&#x27;ordinal&#x27;,\n",
       "                                                  Pipeline(steps=[(&#x27;knnimputer&#x27;,\n",
       "                                                                   KNNImputer()),\n",
       "                                                                  (&#x27;ordinalencoder&#x27;,\n",
       "                                                                   OrdinalEncoder(dtype=&lt;class &#x27;numpy.int64&#x27;&gt;,\n",
       "                                                                                  handle_unknown=&#x27;use_encoded_value&#x27;,\n",
       "                                                                                  unknown_value=10))]),\n",
       "                                                  [&#x27;clump_thickness&#x27;,\n",
       "                                                   &#x27;uniformity_cell_size&#x27;,\n",
       "                                                   &#x27;uniformity_cell_shape&#x27;,\n",
       "                                                   &#x27;marginal_adhesion&#x27;,\n",
       "                                                   &#x27;single_epithelial_cell_size&#x27;,\n",
       "                                                   &#x27;bare_nuclei&#x27;,\n",
       "                                                   &#x27;bland_chromatin&#x27;,\n",
       "                                                   &#x27;normal_nucleoli&#x27;,\n",
       "                                                   &#x27;mitoses&#x27;])])),\n",
       "                (&#x27;gaussiannb&#x27;, GaussianNB())])</pre><b>In a Jupyter environment, please rerun this cell to show the HTML representation or trust the notebook. <br />On GitHub, the HTML representation is unable to render, please try loading this page with nbviewer.org.</b></div><div class=\"sk-container\" hidden><div class=\"sk-item sk-dashed-wrapped\"><div class=\"sk-label-container\"><div class=\"sk-label sk-toggleable\"><input class=\"sk-toggleable__control sk-hidden--visually\" id=\"sk-estimator-id-37\" type=\"checkbox\" ><label for=\"sk-estimator-id-37\" class=\"sk-toggleable__label sk-toggleable__label-arrow\">Pipeline</label><div class=\"sk-toggleable__content\"><pre>Pipeline(steps=[(&#x27;columntransformer&#x27;,\n",
       "                 ColumnTransformer(transformers=[(&#x27;ordinal&#x27;,\n",
       "                                                  Pipeline(steps=[(&#x27;knnimputer&#x27;,\n",
       "                                                                   KNNImputer()),\n",
       "                                                                  (&#x27;ordinalencoder&#x27;,\n",
       "                                                                   OrdinalEncoder(dtype=&lt;class &#x27;numpy.int64&#x27;&gt;,\n",
       "                                                                                  handle_unknown=&#x27;use_encoded_value&#x27;,\n",
       "                                                                                  unknown_value=10))]),\n",
       "                                                  [&#x27;clump_thickness&#x27;,\n",
       "                                                   &#x27;uniformity_cell_size&#x27;,\n",
       "                                                   &#x27;uniformity_cell_shape&#x27;,\n",
       "                                                   &#x27;marginal_adhesion&#x27;,\n",
       "                                                   &#x27;single_epithelial_cell_size&#x27;,\n",
       "                                                   &#x27;bare_nuclei&#x27;,\n",
       "                                                   &#x27;bland_chromatin&#x27;,\n",
       "                                                   &#x27;normal_nucleoli&#x27;,\n",
       "                                                   &#x27;mitoses&#x27;])])),\n",
       "                (&#x27;gaussiannb&#x27;, GaussianNB())])</pre></div></div></div><div class=\"sk-serial\"><div class=\"sk-item sk-dashed-wrapped\"><div class=\"sk-label-container\"><div class=\"sk-label sk-toggleable\"><input class=\"sk-toggleable__control sk-hidden--visually\" id=\"sk-estimator-id-38\" type=\"checkbox\" ><label for=\"sk-estimator-id-38\" class=\"sk-toggleable__label sk-toggleable__label-arrow\">columntransformer: ColumnTransformer</label><div class=\"sk-toggleable__content\"><pre>ColumnTransformer(transformers=[(&#x27;ordinal&#x27;,\n",
       "                                 Pipeline(steps=[(&#x27;knnimputer&#x27;, KNNImputer()),\n",
       "                                                 (&#x27;ordinalencoder&#x27;,\n",
       "                                                  OrdinalEncoder(dtype=&lt;class &#x27;numpy.int64&#x27;&gt;,\n",
       "                                                                 handle_unknown=&#x27;use_encoded_value&#x27;,\n",
       "                                                                 unknown_value=10))]),\n",
       "                                 [&#x27;clump_thickness&#x27;, &#x27;uniformity_cell_size&#x27;,\n",
       "                                  &#x27;uniformity_cell_shape&#x27;, &#x27;marginal_adhesion&#x27;,\n",
       "                                  &#x27;single_epithelial_cell_size&#x27;, &#x27;bare_nuclei&#x27;,\n",
       "                                  &#x27;bland_chromatin&#x27;, &#x27;normal_nucleoli&#x27;,\n",
       "                                  &#x27;mitoses&#x27;])])</pre></div></div></div><div class=\"sk-parallel\"><div class=\"sk-parallel-item\"><div class=\"sk-item\"><div class=\"sk-label-container\"><div class=\"sk-label sk-toggleable\"><input class=\"sk-toggleable__control sk-hidden--visually\" id=\"sk-estimator-id-39\" type=\"checkbox\" ><label for=\"sk-estimator-id-39\" class=\"sk-toggleable__label sk-toggleable__label-arrow\">ordinal</label><div class=\"sk-toggleable__content\"><pre>[&#x27;clump_thickness&#x27;, &#x27;uniformity_cell_size&#x27;, &#x27;uniformity_cell_shape&#x27;, &#x27;marginal_adhesion&#x27;, &#x27;single_epithelial_cell_size&#x27;, &#x27;bare_nuclei&#x27;, &#x27;bland_chromatin&#x27;, &#x27;normal_nucleoli&#x27;, &#x27;mitoses&#x27;]</pre></div></div></div><div class=\"sk-serial\"><div class=\"sk-item\"><div class=\"sk-serial\"><div class=\"sk-item\"><div class=\"sk-estimator sk-toggleable\"><input class=\"sk-toggleable__control sk-hidden--visually\" id=\"sk-estimator-id-40\" type=\"checkbox\" ><label for=\"sk-estimator-id-40\" class=\"sk-toggleable__label sk-toggleable__label-arrow\">KNNImputer</label><div class=\"sk-toggleable__content\"><pre>KNNImputer()</pre></div></div></div><div class=\"sk-item\"><div class=\"sk-estimator sk-toggleable\"><input class=\"sk-toggleable__control sk-hidden--visually\" id=\"sk-estimator-id-41\" type=\"checkbox\" ><label for=\"sk-estimator-id-41\" class=\"sk-toggleable__label sk-toggleable__label-arrow\">OrdinalEncoder</label><div class=\"sk-toggleable__content\"><pre>OrdinalEncoder(dtype=&lt;class &#x27;numpy.int64&#x27;&gt;, handle_unknown=&#x27;use_encoded_value&#x27;,\n",
       "               unknown_value=10)</pre></div></div></div></div></div></div></div></div></div></div><div class=\"sk-item\"><div class=\"sk-estimator sk-toggleable\"><input class=\"sk-toggleable__control sk-hidden--visually\" id=\"sk-estimator-id-42\" type=\"checkbox\" ><label for=\"sk-estimator-id-42\" class=\"sk-toggleable__label sk-toggleable__label-arrow\">GaussianNB</label><div class=\"sk-toggleable__content\"><pre>GaussianNB()</pre></div></div></div></div></div></div></div>"
      ],
      "text/plain": [
       "Pipeline(steps=[('columntransformer',\n",
       "                 ColumnTransformer(transformers=[('ordinal',\n",
       "                                                  Pipeline(steps=[('knnimputer',\n",
       "                                                                   KNNImputer()),\n",
       "                                                                  ('ordinalencoder',\n",
       "                                                                   OrdinalEncoder(dtype=<class 'numpy.int64'>,\n",
       "                                                                                  handle_unknown='use_encoded_value',\n",
       "                                                                                  unknown_value=10))]),\n",
       "                                                  ['clump_thickness',\n",
       "                                                   'uniformity_cell_size',\n",
       "                                                   'uniformity_cell_shape',\n",
       "                                                   'marginal_adhesion',\n",
       "                                                   'single_epithelial_cell_size',\n",
       "                                                   'bare_nuclei',\n",
       "                                                   'bland_chromatin',\n",
       "                                                   'normal_nucleoli',\n",
       "                                                   'mitoses'])])),\n",
       "                ('gaussiannb', GaussianNB())])"
      ]
     },
     "execution_count": 24,
     "metadata": {},
     "output_type": "execute_result"
    }
   ],
   "source": [
    "from sklearn.naive_bayes import GaussianNB\n",
    "class_bayes_gauss = make_pipeline(pre_processamento, GaussianNB())\n",
    "class_bayes_gauss.fit(X_train_copy, y_train_encod)"
   ]
  },
  {
   "cell_type": "markdown",
   "id": "31a04065",
   "metadata": {},
   "source": [
    "#### Modelo de Classificação de  Arvore de Desição "
   ]
  },
  {
   "cell_type": "markdown",
   "id": "3f3d594e",
   "metadata": {},
   "source": [
    "- Este modelo é muito velho, não são muito poderosos e simples pelo que seu uso está morrendo.\n",
    "- Tive um renacimento, sendo a base de outros modelos aproveitam sua simplicidade e são mais poderosos. "
   ]
  },
  {
   "cell_type": "code",
   "execution_count": 25,
   "id": "71896e9b",
   "metadata": {
    "scrolled": true
   },
   "outputs": [
    {
     "data": {
      "text/html": [
       "<style>#sk-container-id-8 {color: black;background-color: white;}#sk-container-id-8 pre{padding: 0;}#sk-container-id-8 div.sk-toggleable {background-color: white;}#sk-container-id-8 label.sk-toggleable__label {cursor: pointer;display: block;width: 100%;margin-bottom: 0;padding: 0.3em;box-sizing: border-box;text-align: center;}#sk-container-id-8 label.sk-toggleable__label-arrow:before {content: \"▸\";float: left;margin-right: 0.25em;color: #696969;}#sk-container-id-8 label.sk-toggleable__label-arrow:hover:before {color: black;}#sk-container-id-8 div.sk-estimator:hover label.sk-toggleable__label-arrow:before {color: black;}#sk-container-id-8 div.sk-toggleable__content {max-height: 0;max-width: 0;overflow: hidden;text-align: left;background-color: #f0f8ff;}#sk-container-id-8 div.sk-toggleable__content pre {margin: 0.2em;color: black;border-radius: 0.25em;background-color: #f0f8ff;}#sk-container-id-8 input.sk-toggleable__control:checked~div.sk-toggleable__content {max-height: 200px;max-width: 100%;overflow: auto;}#sk-container-id-8 input.sk-toggleable__control:checked~label.sk-toggleable__label-arrow:before {content: \"▾\";}#sk-container-id-8 div.sk-estimator input.sk-toggleable__control:checked~label.sk-toggleable__label {background-color: #d4ebff;}#sk-container-id-8 div.sk-label input.sk-toggleable__control:checked~label.sk-toggleable__label {background-color: #d4ebff;}#sk-container-id-8 input.sk-hidden--visually {border: 0;clip: rect(1px 1px 1px 1px);clip: rect(1px, 1px, 1px, 1px);height: 1px;margin: -1px;overflow: hidden;padding: 0;position: absolute;width: 1px;}#sk-container-id-8 div.sk-estimator {font-family: monospace;background-color: #f0f8ff;border: 1px dotted black;border-radius: 0.25em;box-sizing: border-box;margin-bottom: 0.5em;}#sk-container-id-8 div.sk-estimator:hover {background-color: #d4ebff;}#sk-container-id-8 div.sk-parallel-item::after {content: \"\";width: 100%;border-bottom: 1px solid gray;flex-grow: 1;}#sk-container-id-8 div.sk-label:hover label.sk-toggleable__label {background-color: #d4ebff;}#sk-container-id-8 div.sk-serial::before {content: \"\";position: absolute;border-left: 1px solid gray;box-sizing: border-box;top: 0;bottom: 0;left: 50%;z-index: 0;}#sk-container-id-8 div.sk-serial {display: flex;flex-direction: column;align-items: center;background-color: white;padding-right: 0.2em;padding-left: 0.2em;position: relative;}#sk-container-id-8 div.sk-item {position: relative;z-index: 1;}#sk-container-id-8 div.sk-parallel {display: flex;align-items: stretch;justify-content: center;background-color: white;position: relative;}#sk-container-id-8 div.sk-item::before, #sk-container-id-8 div.sk-parallel-item::before {content: \"\";position: absolute;border-left: 1px solid gray;box-sizing: border-box;top: 0;bottom: 0;left: 50%;z-index: -1;}#sk-container-id-8 div.sk-parallel-item {display: flex;flex-direction: column;z-index: 1;position: relative;background-color: white;}#sk-container-id-8 div.sk-parallel-item:first-child::after {align-self: flex-end;width: 50%;}#sk-container-id-8 div.sk-parallel-item:last-child::after {align-self: flex-start;width: 50%;}#sk-container-id-8 div.sk-parallel-item:only-child::after {width: 0;}#sk-container-id-8 div.sk-dashed-wrapped {border: 1px dashed gray;margin: 0 0.4em 0.5em 0.4em;box-sizing: border-box;padding-bottom: 0.4em;background-color: white;}#sk-container-id-8 div.sk-label label {font-family: monospace;font-weight: bold;display: inline-block;line-height: 1.2em;}#sk-container-id-8 div.sk-label-container {text-align: center;}#sk-container-id-8 div.sk-container {/* jupyter's `normalize.less` sets `[hidden] { display: none; }` but bootstrap.min.css set `[hidden] { display: none !important; }` so we also need the `!important` here to be able to override the default hidden behavior on the sphinx rendered scikit-learn.org. See: https://github.com/scikit-learn/scikit-learn/issues/21755 */display: inline-block !important;position: relative;}#sk-container-id-8 div.sk-text-repr-fallback {display: none;}</style><div id=\"sk-container-id-8\" class=\"sk-top-container\"><div class=\"sk-text-repr-fallback\"><pre>Pipeline(steps=[(&#x27;columntransformer&#x27;,\n",
       "                 ColumnTransformer(transformers=[(&#x27;ordinal&#x27;,\n",
       "                                                  Pipeline(steps=[(&#x27;knnimputer&#x27;,\n",
       "                                                                   KNNImputer()),\n",
       "                                                                  (&#x27;ordinalencoder&#x27;,\n",
       "                                                                   OrdinalEncoder(dtype=&lt;class &#x27;numpy.int64&#x27;&gt;,\n",
       "                                                                                  handle_unknown=&#x27;use_encoded_value&#x27;,\n",
       "                                                                                  unknown_value=10))]),\n",
       "                                                  [&#x27;clump_thickness&#x27;,\n",
       "                                                   &#x27;uniformity_cell_size&#x27;,\n",
       "                                                   &#x27;uniformity_cell_shape&#x27;,\n",
       "                                                   &#x27;marginal_adhesion&#x27;,\n",
       "                                                   &#x27;single_epithelial_cell_size&#x27;,\n",
       "                                                   &#x27;bare_nuclei&#x27;,\n",
       "                                                   &#x27;bland_chromatin&#x27;,\n",
       "                                                   &#x27;normal_nucleoli&#x27;,\n",
       "                                                   &#x27;mitoses&#x27;])])),\n",
       "                (&#x27;decisiontreeclassifier&#x27;,\n",
       "                 DecisionTreeClassifier(criterion=&#x27;entropy&#x27;, random_state=42))])</pre><b>In a Jupyter environment, please rerun this cell to show the HTML representation or trust the notebook. <br />On GitHub, the HTML representation is unable to render, please try loading this page with nbviewer.org.</b></div><div class=\"sk-container\" hidden><div class=\"sk-item sk-dashed-wrapped\"><div class=\"sk-label-container\"><div class=\"sk-label sk-toggleable\"><input class=\"sk-toggleable__control sk-hidden--visually\" id=\"sk-estimator-id-43\" type=\"checkbox\" ><label for=\"sk-estimator-id-43\" class=\"sk-toggleable__label sk-toggleable__label-arrow\">Pipeline</label><div class=\"sk-toggleable__content\"><pre>Pipeline(steps=[(&#x27;columntransformer&#x27;,\n",
       "                 ColumnTransformer(transformers=[(&#x27;ordinal&#x27;,\n",
       "                                                  Pipeline(steps=[(&#x27;knnimputer&#x27;,\n",
       "                                                                   KNNImputer()),\n",
       "                                                                  (&#x27;ordinalencoder&#x27;,\n",
       "                                                                   OrdinalEncoder(dtype=&lt;class &#x27;numpy.int64&#x27;&gt;,\n",
       "                                                                                  handle_unknown=&#x27;use_encoded_value&#x27;,\n",
       "                                                                                  unknown_value=10))]),\n",
       "                                                  [&#x27;clump_thickness&#x27;,\n",
       "                                                   &#x27;uniformity_cell_size&#x27;,\n",
       "                                                   &#x27;uniformity_cell_shape&#x27;,\n",
       "                                                   &#x27;marginal_adhesion&#x27;,\n",
       "                                                   &#x27;single_epithelial_cell_size&#x27;,\n",
       "                                                   &#x27;bare_nuclei&#x27;,\n",
       "                                                   &#x27;bland_chromatin&#x27;,\n",
       "                                                   &#x27;normal_nucleoli&#x27;,\n",
       "                                                   &#x27;mitoses&#x27;])])),\n",
       "                (&#x27;decisiontreeclassifier&#x27;,\n",
       "                 DecisionTreeClassifier(criterion=&#x27;entropy&#x27;, random_state=42))])</pre></div></div></div><div class=\"sk-serial\"><div class=\"sk-item sk-dashed-wrapped\"><div class=\"sk-label-container\"><div class=\"sk-label sk-toggleable\"><input class=\"sk-toggleable__control sk-hidden--visually\" id=\"sk-estimator-id-44\" type=\"checkbox\" ><label for=\"sk-estimator-id-44\" class=\"sk-toggleable__label sk-toggleable__label-arrow\">columntransformer: ColumnTransformer</label><div class=\"sk-toggleable__content\"><pre>ColumnTransformer(transformers=[(&#x27;ordinal&#x27;,\n",
       "                                 Pipeline(steps=[(&#x27;knnimputer&#x27;, KNNImputer()),\n",
       "                                                 (&#x27;ordinalencoder&#x27;,\n",
       "                                                  OrdinalEncoder(dtype=&lt;class &#x27;numpy.int64&#x27;&gt;,\n",
       "                                                                 handle_unknown=&#x27;use_encoded_value&#x27;,\n",
       "                                                                 unknown_value=10))]),\n",
       "                                 [&#x27;clump_thickness&#x27;, &#x27;uniformity_cell_size&#x27;,\n",
       "                                  &#x27;uniformity_cell_shape&#x27;, &#x27;marginal_adhesion&#x27;,\n",
       "                                  &#x27;single_epithelial_cell_size&#x27;, &#x27;bare_nuclei&#x27;,\n",
       "                                  &#x27;bland_chromatin&#x27;, &#x27;normal_nucleoli&#x27;,\n",
       "                                  &#x27;mitoses&#x27;])])</pre></div></div></div><div class=\"sk-parallel\"><div class=\"sk-parallel-item\"><div class=\"sk-item\"><div class=\"sk-label-container\"><div class=\"sk-label sk-toggleable\"><input class=\"sk-toggleable__control sk-hidden--visually\" id=\"sk-estimator-id-45\" type=\"checkbox\" ><label for=\"sk-estimator-id-45\" class=\"sk-toggleable__label sk-toggleable__label-arrow\">ordinal</label><div class=\"sk-toggleable__content\"><pre>[&#x27;clump_thickness&#x27;, &#x27;uniformity_cell_size&#x27;, &#x27;uniformity_cell_shape&#x27;, &#x27;marginal_adhesion&#x27;, &#x27;single_epithelial_cell_size&#x27;, &#x27;bare_nuclei&#x27;, &#x27;bland_chromatin&#x27;, &#x27;normal_nucleoli&#x27;, &#x27;mitoses&#x27;]</pre></div></div></div><div class=\"sk-serial\"><div class=\"sk-item\"><div class=\"sk-serial\"><div class=\"sk-item\"><div class=\"sk-estimator sk-toggleable\"><input class=\"sk-toggleable__control sk-hidden--visually\" id=\"sk-estimator-id-46\" type=\"checkbox\" ><label for=\"sk-estimator-id-46\" class=\"sk-toggleable__label sk-toggleable__label-arrow\">KNNImputer</label><div class=\"sk-toggleable__content\"><pre>KNNImputer()</pre></div></div></div><div class=\"sk-item\"><div class=\"sk-estimator sk-toggleable\"><input class=\"sk-toggleable__control sk-hidden--visually\" id=\"sk-estimator-id-47\" type=\"checkbox\" ><label for=\"sk-estimator-id-47\" class=\"sk-toggleable__label sk-toggleable__label-arrow\">OrdinalEncoder</label><div class=\"sk-toggleable__content\"><pre>OrdinalEncoder(dtype=&lt;class &#x27;numpy.int64&#x27;&gt;, handle_unknown=&#x27;use_encoded_value&#x27;,\n",
       "               unknown_value=10)</pre></div></div></div></div></div></div></div></div></div></div><div class=\"sk-item\"><div class=\"sk-estimator sk-toggleable\"><input class=\"sk-toggleable__control sk-hidden--visually\" id=\"sk-estimator-id-48\" type=\"checkbox\" ><label for=\"sk-estimator-id-48\" class=\"sk-toggleable__label sk-toggleable__label-arrow\">DecisionTreeClassifier</label><div class=\"sk-toggleable__content\"><pre>DecisionTreeClassifier(criterion=&#x27;entropy&#x27;, random_state=42)</pre></div></div></div></div></div></div></div>"
      ],
      "text/plain": [
       "Pipeline(steps=[('columntransformer',\n",
       "                 ColumnTransformer(transformers=[('ordinal',\n",
       "                                                  Pipeline(steps=[('knnimputer',\n",
       "                                                                   KNNImputer()),\n",
       "                                                                  ('ordinalencoder',\n",
       "                                                                   OrdinalEncoder(dtype=<class 'numpy.int64'>,\n",
       "                                                                                  handle_unknown='use_encoded_value',\n",
       "                                                                                  unknown_value=10))]),\n",
       "                                                  ['clump_thickness',\n",
       "                                                   'uniformity_cell_size',\n",
       "                                                   'uniformity_cell_shape',\n",
       "                                                   'marginal_adhesion',\n",
       "                                                   'single_epithelial_cell_size',\n",
       "                                                   'bare_nuclei',\n",
       "                                                   'bland_chromatin',\n",
       "                                                   'normal_nucleoli',\n",
       "                                                   'mitoses'])])),\n",
       "                ('decisiontreeclassifier',\n",
       "                 DecisionTreeClassifier(criterion='entropy', random_state=42))])"
      ]
     },
     "execution_count": 25,
     "metadata": {},
     "output_type": "execute_result"
    }
   ],
   "source": [
    "from sklearn.tree import DecisionTreeClassifier\n",
    "class_dtree = make_pipeline(pre_processamento, DecisionTreeClassifier(criterion=\"entropy\", random_state=42))\n",
    "class_dtree.fit(X_train_copy, y_train_encod)"
   ]
  },
  {
   "cell_type": "markdown",
   "id": "2ea48072",
   "metadata": {},
   "source": [
    "#### Modelo de Classificação de Foresta Aleatória "
   ]
  },
  {
   "cell_type": "markdown",
   "id": "5165ed36",
   "metadata": {},
   "source": [
    "A Floresta Aleatória é um exemplo de aprendizado conjunto homogêneo (`Same Type Ensemble`), pois é composta por várias árvores de decisão. Cada árvore é treinada de forma independente, e suas previsões são combinadas (geralmente por voto majoritário no caso de classificação ou média no caso de regressão) para formar a previsão final do modelo. Essa abordagem ajuda a reduzir a variância do modelo e a melhorar o desempenho geral, tornando a Floresta Aleatória uma escolha popular em muitas tarefas de aprendizado de máquina.."
   ]
  },
  {
   "cell_type": "code",
   "execution_count": null,
   "id": "8eb7fc75",
   "metadata": {},
   "outputs": [],
   "source": [
    "from sklearn.ensemble import RandomForestClassifier\n",
    "class_forest = make_pipeline(pre_processamento, RandomForestClassifier(n_estimators = 100, criterion = \"entropy\", random_state = 42))\n",
    "class_forest.fit(X_train_copy, y_train_encod)"
   ]
  },
  {
   "cell_type": "markdown",
   "id": "0560ffbc",
   "metadata": {},
   "source": [
    "Medidas de Precisão:"
   ]
  },
  {
   "cell_type": "markdown",
   "id": "1e1e2470",
   "metadata": {},
   "source": [
    "- Usando Validação Cruzada (CV): Requer um tempo computacional proporcional ao número de *k - fold* escolhidos para analises. Não existe uma regra para a seleção dos *k - fold* mas escolhas tipicas são $5$ ou $10$. Resulta conveniente quando o tamnho do conjunto de treinamento for menor do que $1.000$. \n",
    "\n",
    "- Usando Bootstrap: tende a haver menos variabilidade na medida do erro em comparação com o CV k-fold (Efron, 1983). No entanto, isso também pode aumentar o viés da sua estimativa de erro. Isto pode ser problemático com conjuntos de dados menores; no entanto, para a maioria dos conjuntos de dados médios a grandes (digamos 𝑛 ≥ 1.000) essa preocupação geralmente é insignificante. Sendo conveniente quando o conjunto de treinamento for maior ou igual a $1.000$.\n",
    "\n",
    "- Aqui se tem um tamanho de conjunto de treinamento $< 1.000$, assim se realizam as medidas de precisão através de *cv* com $k = 5$, i.e, um $20 \\%$ do conjunto para avaliação:"
   ]
  },
  {
   "cell_type": "markdown",
   "id": "ed63cdbd",
   "metadata": {},
   "source": [
    "## Selecionar e Treinar um Modelo"
   ]
  },
  {
   "cell_type": "code",
   "execution_count": null,
   "id": "05e74381",
   "metadata": {},
   "outputs": [],
   "source": [
    "# Previsão usando valodação cruzada\n",
    "from sklearn.model_selection import cross_val_predict\n",
    "y_train_pred_logic = cross_val_predict(lin_logistic, X_train_copy, y_train_encod, cv = 5)\n",
    "y_train_pred_neigh = cross_val_predict(class_neigh, X_train_copy, y_train_encod, cv = 5) \n",
    "y_train_pred_svm  = cross_val_predict(class_svm, X_train_copy, y_train_encod, cv = 5) \n",
    "y_train_pred_svm_rbf  = cross_val_predict(class_svm_rbf, X_train_copy, y_train_encod, cv = 5) \n",
    "y_train_pred_svm_poly  = cross_val_predict(class_svm_poly, X_train_copy, y_train_encod, cv = 5) \n",
    "y_train_pred_svm_sigmoid  = cross_val_predict(class_svm_sigmoid, X_train_copy, y_train_encod, cv = 5) \n",
    "y_train_pred_bayes_gauss = cross_val_predict(class_bayes_gauss, X_train_copy, y_train_encod, cv = 5) \n",
    "y_train_pred_dtree = cross_val_predict(class_dtree, X_train_copy, y_train_encod, cv = 5)\n",
    "y_train_pred_forest = cross_val_predict(class_forest, X_train_copy, y_train_encod, cv = 5)"
   ]
  },
  {
   "cell_type": "code",
   "execution_count": null,
   "id": "f84c89b5",
   "metadata": {},
   "outputs": [],
   "source": [
    "from sklearn.metrics import mean_squared_error, confusion_matrix, roc_curve, precision_recall_curve, f1_score"
   ]
  },
  {
   "cell_type": "code",
   "execution_count": null,
   "id": "26cc1379",
   "metadata": {
    "scrolled": true
   },
   "outputs": [],
   "source": [
    "# Matriz de confusão usando CV\n",
    "logic_cm = confusion_matrix(y_train_encod, y_train_pred_logic)\n",
    "neigh_cm = confusion_matrix(y_train_encod, y_train_pred_neigh)\n",
    "svm_cm = confusion_matrix(y_train_encod, y_train_pred_svm)\n",
    "svm_rbf_cm = confusion_matrix(y_train_encod, y_train_pred_svm_rbf)\n",
    "svm_poly_cm = confusion_matrix(y_train_encod, y_train_pred_svm_poly)\n",
    "svm_sigmoid_cm = confusion_matrix(y_train_encod, y_train_pred_svm_sigmoid)\n",
    "bayes_cm = confusion_matrix(y_train_encod, y_train_pred_bayes_gauss)\n",
    "dtree_cm = confusion_matrix(y_train_encod, y_train_pred_dtree)\n",
    "forest_cm = confusion_matrix(y_train_encod, y_train_pred_forest)\n",
    "\n",
    "print(\"Matriz de confusão do Linear Logística:\"); print(logic_cm)\n",
    "print(\"Matriz de confusão do KNN:\"); print(neigh_cm)\n",
    "print(\"Matriz de confusão do SVM Kernel Linear:\"); print(svm_cm)\n",
    "print(\"Matriz de confusão do SVM Kernel rbf:\"); print(svm_rbf_cm)\n",
    "print(\"Matriz de confusão do SVM Kernel poly:\"); print(svm_poly_cm)\n",
    "print(\"Matriz de confusão do SVM Kernel sigmoid:\"); print(svm_sigmoid_cm)\n",
    "print(\"Matriz de confusão do Naive Bayes:\"); print(bayes_cm)\n",
    "print(\"Matriz de confusão do Classification Tree:\"); print(dtree_cm)\n",
    "print(\"Matriz de confusão do Classification Random Forest:\"); print(forest_cm)"
   ]
  },
  {
   "cell_type": "markdown",
   "id": "1da4da1c",
   "metadata": {},
   "source": [
    "Curva ROC (Recall vs TFP) e Curva PR (Presição/Recall):\n",
    "\n",
    "- Como regra geral, se deve preferir a curva PR sempre que a classe positiva for rara (pouca frequência) ou quando você se importar mais com os falsos positivos do que com os falsos negativos. Caso contrário, use a curva ROC.\n",
    "\n",
    "- Para este caso se quer disminuir o número de falsos positivos, devido que a campanha de marketing vai ser em aqueles clientes que compraram os automóveis. Se calcula a curva ROC para aprendizado. "
   ]
  },
  {
   "cell_type": "code",
   "execution_count": null,
   "id": "dbf12441",
   "metadata": {},
   "outputs": [],
   "source": [
    "# Função score\n",
    "y_scores_logic = cross_val_predict(lin_logistic, X_train_copy, y_train_encod, cv = 5, method = \"decision_function\")\n",
    "\n",
    "model_neigh = class_neigh.named_steps[\"kneighborsclassifier\"]\n",
    "distance_neigh, distance_ind = model_neigh.kneighbors(X_train_copy.values)\n",
    "y_scores_neigh = distance_neigh.mean(axis=1)\n",
    "\n",
    "y_scores_svm = cross_val_predict(class_svm, X_train_copy, y_train_encod, cv = 5, method = \"decision_function\")\n",
    "y_scores_svm_rbf = cross_val_predict(class_svm_rbf, X_train_copy, y_train_encod, cv = 5, method = \"decision_function\")\n",
    "y_scores_svm_poly = cross_val_predict(class_svm_poly, X_train_copy, y_train_encod, cv = 5, method = \"decision_function\")\n",
    "y_scores_svm_sigmoid = cross_val_predict(class_svm_sigmoid, X_train_copy, y_train_encod, cv = 5, method = \"decision_function\")\n",
    "\n",
    "y_scores_bayes_gauss = cross_val_predict(class_bayes_gauss, X_train_copy, y_train_encod, cv = 5, method = \"predict_proba\")\n",
    "y_scores_bayes_gauss = y_scores_bayes_gauss.max(axis = 1)\n",
    "\n",
    "y_scores_dtree = cross_val_predict(class_dtree, X_train_copy, y_train_encod, cv = 5, method = \"predict_proba\")\n",
    "y_scores_forest = cross_val_predict(class_forest, X_train_copy, y_train_encod, cv = 5, method = \"predict_proba\")"
   ]
  },
  {
   "cell_type": "code",
   "execution_count": null,
   "id": "1170394e",
   "metadata": {},
   "outputs": [],
   "source": [
    "# Curva PR usando CV\n",
    "precisions_logic, recalls_logic, thresholds_logic = precision_recall_curve(y_train_encod, y_scores_logic)\n",
    "precisions_neigh, recalls_neigh, thresholds_neigh = precision_recall_curve(y_train_encod, y_scores_neigh)\n",
    "\n",
    "precisions_svm, recalls_svm, thresholds_svm = precision_recall_curve(y_train_encod, y_scores_svm)\n",
    "precisions_svm_rbf, recalls_svm_rbf, thresholds_svm_rbf = precision_recall_curve(y_train_encod, y_scores_svm_rbf)\n",
    "precisions_svm_poly, recalls_svm_poly, thresholds_svm_poly = precision_recall_curve(y_train_encod, y_scores_svm_poly)\n",
    "precisions_svm_sigmoid, recalls_svm_sigmoid, thresholds_svm_sigmoid = precision_recall_curve(y_train_encod, y_scores_svm_sigmoid)\n",
    "\n",
    "precisions_bayes, recalls_bayes, thresholds_bayes = precision_recall_curve(y_train_encod, y_scores_bayes_gauss)\n",
    "precisions_dtree, recalls_dtree, thresholds_dtree = precision_recall_curve(y_train_encod, y_scores_dtree.max(axis = 1))\n",
    "precisions_forest, recalls_forest, thresholds_forest = precision_recall_curve(y_train_encod, y_scores_forest.max(axis = 1))"
   ]
  },
  {
   "cell_type": "code",
   "execution_count": null,
   "id": "4d16a7db",
   "metadata": {},
   "outputs": [],
   "source": [
    "# difinindo o limear para uma presição maior ou igual ao 90% \n",
    "idx_for_90_precision_logic = (precisions_logic >= 0.90).argmax()\n",
    "threshold_for_90_precision_logic = thresholds_logic[idx_for_90_precision_logic]\n",
    "print(\"Limear de classificação do Logistic:\", threshold_for_90_precision_logic.round(2))\n",
    "print(\"-----------------------------\")\n",
    "print(\"Recall para a Precisão de 0.9 requerida do Logistic:\", recalls_logic[idx_for_90_precision_logic].round(2))"
   ]
  },
  {
   "cell_type": "code",
   "execution_count": null,
   "id": "987c7a00",
   "metadata": {},
   "outputs": [],
   "source": [
    "idx_for_90_precision_neigh = (precisions_neigh >= 0.90).argmax()\n",
    "threshold_for_90_precision_neigh = thresholds_neigh[idx_for_90_precision_neigh]\n",
    "print(\"Limear de classificação do Knn:\", threshold_for_90_precision_neigh.round(2))\n",
    "print(\"-----------------------------\")\n",
    "print(\"Recall para a Precisão de 0.9 requerida do Knn:\", recalls_neigh[idx_for_90_precision_neigh].round(2))"
   ]
  },
  {
   "cell_type": "code",
   "execution_count": null,
   "id": "a391d235",
   "metadata": {},
   "outputs": [],
   "source": [
    "idx_for_90_precision_svm = (precisions_svm >= 0.90).argmax()\n",
    "threshold_for_90_precision_svm = thresholds_svm[idx_for_90_precision_svm]\n",
    "print(\"Limear de classificação do SVM Linear:\", threshold_for_90_precision_svm.round(2))\n",
    "print(\"-----------------------------\")\n",
    "print(\"Recall para a Precisão de 0.9 requerida do SVM Kernel Linear:\", recalls_svm[idx_for_90_precision_svm].round(2))"
   ]
  },
  {
   "cell_type": "code",
   "execution_count": null,
   "id": "1a5c6cb1",
   "metadata": {},
   "outputs": [],
   "source": [
    "idx_for_90_precision_svm_rbf = (precisions_svm_rbf >= 0.90).argmax()\n",
    "threshold_for_90_precision_svm_rbf = thresholds_svm[idx_for_90_precision_svm_rbf]\n",
    "print(\"Limear de classificação do SVM rbf:\", threshold_for_90_precision_svm_rbf.round(2))\n",
    "print(\"-----------------------------\")\n",
    "print(\"Recall para a Precisão de 0.9 requerida do SVM Kernel rbf:\", recalls_svm_rbf[idx_for_90_precision_svm_rbf].round(2))"
   ]
  },
  {
   "cell_type": "code",
   "execution_count": null,
   "id": "cbf92a78",
   "metadata": {},
   "outputs": [],
   "source": [
    "idx_for_90_precision_svm_poly = (precisions_svm_poly >= 0.90).argmax()\n",
    "threshold_for_90_precision_svm_poly = thresholds_svm_poly[idx_for_90_precision_svm_poly]\n",
    "print(\"Limear de classificação do SVM poly:\", threshold_for_90_precision_svm_poly.round(2))\n",
    "print(\"-----------------------------\")\n",
    "print(\"Recall para a Precisão de 0.9 requerida do SVM Kernel poly:\", recalls_svm_poly[idx_for_90_precision_svm_poly].round(2))"
   ]
  },
  {
   "cell_type": "code",
   "execution_count": null,
   "id": "69e4498f",
   "metadata": {},
   "outputs": [],
   "source": [
    "idx_for_90_precision_svm_sigmoid = (precisions_svm_sigmoid  >= 0.90).argmax()\n",
    "threshold_for_90_precision_svm_sigmoid  = thresholds_svm_sigmoid [idx_for_90_precision_svm_sigmoid ]\n",
    "print(\"Limear de classificação do SVM sigmoid:\", threshold_for_90_precision_svm_sigmoid.round(2))\n",
    "print(\"-----------------------------\")\n",
    "print(\"Recall para a Precisão de 0.9 requerida do SVM Kernel sigmoid :\", recalls_svm_sigmoid [idx_for_90_precision_svm_sigmoid].round(2))"
   ]
  },
  {
   "cell_type": "code",
   "execution_count": null,
   "id": "5a7568d7",
   "metadata": {
    "scrolled": true
   },
   "outputs": [],
   "source": [
    "idx_for_90_precision_bayes = (precisions_bayes >= 0.90).argmax()\n",
    "threshold_for_90_precision_bayes  = thresholds_bayes[idx_for_90_precision_bayes - 1]\n",
    "print(\"Limear de classificação do Naive Bayes Guass\", threshold_for_90_precision_bayes.round(2))\n",
    "print(\"-----------------------------\")\n",
    "print(\"Recall para a Precisão de 0.9 requerida do Naive Bayes Guass :\", recalls_bayes[idx_for_90_precision_bayes].round(2))"
   ]
  },
  {
   "cell_type": "code",
   "execution_count": null,
   "id": "57dd458a",
   "metadata": {},
   "outputs": [],
   "source": [
    "idx_for_90_precision_dtree = (precisions_dtree >= 0.90).argmax()\n",
    "threshold_for_90_precision_dtree = thresholds_dtree[idx_for_90_precision_dtree - 1]\n",
    "print(\"Limear de classificação do Clasification Tree\", threshold_for_90_precision_dtree.round(2))\n",
    "print(\"-----------------------------\")\n",
    "print(\"Recall para a Precisão de 0.9 requerida do Clasification Tree :\", recalls_dtree[idx_for_90_precision_dtree].round(2))"
   ]
  },
  {
   "cell_type": "code",
   "execution_count": null,
   "id": "796b4a9a",
   "metadata": {},
   "outputs": [],
   "source": [
    "idx_for_90_precision_forest = (precisions_forest >= 0.90).argmax()\n",
    "threshold_for_90_precision_forest = thresholds_forest[idx_for_90_precision_forest - 1]\n",
    "print(\"Limear de classificação do Clasification Random Forest\", threshold_for_90_precision_forest.round(2))\n",
    "print(\"-----------------------------\")\n",
    "print(\"Recall para a Precisão de 0.9 requerida do Clasification Random Forest :\", recalls_forest[idx_for_90_precision_forest].round(2))"
   ]
  },
  {
   "cell_type": "code",
   "execution_count": null,
   "id": "045fde4f",
   "metadata": {
    "scrolled": true
   },
   "outputs": [],
   "source": [
    "import matplotlib.patches as patches \n",
    "\n",
    "plt.figure(figsize = (10, 7))  \n",
    "plt.plot(recalls_logic, precisions_logic, linewidth = 2, label = \"Curva Presicion / Recall Logic\")\n",
    "plt.plot(recalls_neigh, precisions_neigh, linewidth = 2, label = \"Curva Presicion / Recall Knn\")\n",
    "plt.plot(recalls_svm, precisions_svm, linewidth = 2, label = \"Curva Presicion / Recall SVM\")\n",
    "\n",
    "plt.plot([recalls_logic[idx_for_90_precision_logic], recalls_logic[idx_for_90_precision_logic]], [0., precisions_logic[idx_for_90_precision_logic]], \"k:\")\n",
    "plt.plot([0.0, recalls_logic[idx_for_90_precision_logic]], [precisions_logic[idx_for_90_precision_logic], precisions_logic[idx_for_90_precision_logic]], \"k:\")\n",
    "plt.plot([recalls_logic[idx_for_90_precision_logic]], [precisions_logic[idx_for_90_precision_logic]], \"ko\",\n",
    "         label=\"Ponto de limear Logic 1.16\")\n",
    "\n",
    "plt.plot([recalls_neigh[idx_for_90_precision_neigh], recalls_neigh[idx_for_90_precision_neigh]], [0., precisions_neigh[idx_for_90_precision_neigh]], \"k:\")\n",
    "plt.plot([0.0, recalls_neigh[idx_for_90_precision_neigh]], [precisions_neigh[idx_for_90_precision_neigh], precisions_neigh[idx_for_90_precision_neigh]], \"k:\")\n",
    "plt.plot([recalls_neigh[idx_for_90_precision_neigh]], [precisions_neigh[idx_for_90_precision_neigh]], \"o\",\n",
    "         label=\"Ponto de limear Knn 1.25\")\n",
    "\n",
    "plt.plot([recalls_svm[idx_for_90_precision_svm], recalls_svm[idx_for_90_precision_svm]], [0., precisions_svm[idx_for_90_precision_svm]], \"k:\")\n",
    "plt.plot([0.0, recalls_svm[idx_for_90_precision_svm]], [precisions_svm[idx_for_90_precision_svm], precisions_svm[idx_for_90_precision_svm]], \"k:\")\n",
    "plt.plot([recalls_svm[idx_for_90_precision_svm]], [precisions_svm[idx_for_90_precision_svm]], \"ko\",\n",
    "         label=\"Ponto de limear SVM Kernel Linear 0.05\")\n",
    "\n",
    "\n",
    "#plt.gca().add_patch(patches.FancyArrowPatch(\n",
    "#    (0.79, 0.60), (0.61, 0.78),\n",
    "#    connectionstyle=\"arc3, rad=.2\",\n",
    "#    arrowstyle=\"Simple, tail_width=1.5, head_width=8, head_length=10\",\n",
    "#    color=\"#444444\"))\n",
    "# plt.text(0.56, 0.62, \"Limite\\n Mais Alto\", color=\"#333333\")\n",
    "\n",
    "plt.xlabel(\"Recall\")\n",
    "plt.ylabel(\"Precision\")\n",
    "plt.axis([0, 1, 0, 1])\n",
    "plt.grid()\n",
    "plt.legend(loc=\"lower left\")\n",
    "# save_fig(\"precision_vs_recall_plot\")\n",
    "plt.show()"
   ]
  },
  {
   "cell_type": "code",
   "execution_count": null,
   "id": "83e162f8",
   "metadata": {},
   "outputs": [],
   "source": [
    "plt.figure(figsize = (10, 7))  \n",
    "\n",
    "plt.plot(recalls_svm_rbf, precisions_svm_rbf, linewidth = 2, label = \"Curva Presicion / Recall SVM RBF\")\n",
    "plt.plot(recalls_svm_poly, precisions_svm_poly, linewidth = 2, label = \"Curva Presicion / Recall SVM Poly\")\n",
    "plt.plot(recalls_svm_sigmoid, precisions_svm_sigmoid, linewidth = 2, label = \"Curva Presicion / Recall Sigmoid\")\n",
    "plt.plot(recalls_bayes, precisions_bayes, linewidth = 2, label = \"Curva Presicion / Recall Naives Bayes Gauss\")\n",
    "plt.plot(recalls_dtree, precisions_dtree, linewidth = 2, label = \"Curva Presicion / Recall Classifier Tree\")\n",
    "plt.plot(recalls_forest, precisions_forest, linewidth = 2, label = \"Curva Presicion / Recall Classifier Forest\")\n",
    "\n",
    "plt.plot([recalls_svm_rbf[idx_for_90_precision_svm_rbf], recalls_svm_rbf[idx_for_90_precision_svm_rbf]], [0., precisions_svm_rbf[idx_for_90_precision_svm_rbf]], \"k:\")\n",
    "plt.plot([0.0, recalls_svm_rbf[idx_for_90_precision_svm_rbf]], [precisions_svm_rbf[idx_for_90_precision_svm_rbf], precisions_svm_rbf[idx_for_90_precision_svm_rbf]], \"k:\")\n",
    "plt.plot([recalls_svm_rbf[idx_for_90_precision_svm_rbf]], [precisions_svm_rbf[idx_for_90_precision_svm_rbf]], \"ko\",\n",
    "         label=\"Ponto de limear svm Kernel rbf 1.16\")\n",
    "\n",
    "plt.plot([recalls_svm_poly[idx_for_90_precision_svm_poly], recalls_svm_poly[idx_for_90_precision_svm_poly]], [0., precisions_svm_poly[idx_for_90_precision_svm_poly]], \"k:\")\n",
    "plt.plot([0.0, recalls_svm_poly[idx_for_90_precision_svm_poly]], [precisions_svm_poly[idx_for_90_precision_svm_poly], precisions_svm_poly[idx_for_90_precision_svm_poly]], \"k:\")\n",
    "plt.plot([recalls_svm_poly[idx_for_90_precision_svm_poly]], [precisions_svm_poly[idx_for_90_precision_svm_poly]], \"ko\",\n",
    "         label=\"Ponto de limear svm Kernel poly -0.26\")\n",
    "\n",
    "plt.plot([recalls_svm_sigmoid[idx_for_90_precision_svm_sigmoid], recalls_svm_sigmoid[idx_for_90_precision_svm_sigmoid]], [0., precisions_svm_sigmoid[idx_for_90_precision_svm_sigmoid]], \"k:\")\n",
    "plt.plot([0.0, recalls_svm_sigmoid[idx_for_90_precision_svm_sigmoid]], [precisions_svm_sigmoid[idx_for_90_precision_svm_sigmoid], precisions_svm_sigmoid[idx_for_90_precision_svm_sigmoid]], \"k:\")\n",
    "plt.plot([recalls_svm_sigmoid[idx_for_90_precision_svm_sigmoid]], [precisions_svm_sigmoid[idx_for_90_precision_svm_sigmoid]], \"ko\",\n",
    "         label=\"Ponto de limear svm Kernel Linear sigmoid 5.24\")\n",
    "\n",
    "plt.plot([recalls_bayes[idx_for_90_precision_bayes], recalls_bayes[idx_for_90_precision_bayes]], [0., precisions_bayes[idx_for_90_precision_bayes]], \"k:\")\n",
    "plt.plot([0.0, recalls_bayes[idx_for_90_precision_bayes]], [precisions_bayes[idx_for_90_precision_bayes], precisions_bayes[idx_for_90_precision_bayes]], \"k:\")\n",
    "plt.plot([recalls_bayes[idx_for_90_precision_bayes]], [precisions_bayes[idx_for_90_precision_bayes]], \"ko\",\n",
    "         label=\"Ponto de limear Naives Bayes\")\n",
    "\n",
    "plt.plot([recalls_dtree[idx_for_90_precision_dtree], recalls_dtree[idx_for_90_precision_dtree]], [0., precisions_dtree[idx_for_90_precision_dtree]], \"k:\")\n",
    "plt.plot([0.0, recalls_dtree[idx_for_90_precision_dtree]], [precisions_dtree[idx_for_90_precision_dtree], precisions_dtree[idx_for_90_precision_dtree]], \"k:\")\n",
    "plt.plot([recalls_dtree[idx_for_90_precision_dtree]], [precisions_dtree[idx_for_90_precision_dtree]], \"ko\",\n",
    "         label=\"Ponto de limear Classifier Tree\")\n",
    "\n",
    "plt.plot([recalls_forest[idx_for_90_precision_forest], recalls_forest[idx_for_90_precision_forest]], [0., precisions_forest[idx_for_90_precision_forest]], \"k:\")\n",
    "plt.plot([0.0, recalls_forest[idx_for_90_precision_forest]], [precisions_forest[idx_for_90_precision_forest], precisions_forest[idx_for_90_precision_forest]], \"k:\")\n",
    "plt.plot([recalls_forest[idx_for_90_precision_forest]], [precisions_forest[idx_for_90_precision_forest]], \"ko\",\n",
    "         label=\"Ponto de limear Classifier Forest\")\n",
    "\n",
    "\n",
    "#plt.gca().add_patch(patches.FancyArrowPatch(\n",
    "#    (0.79, 0.60), (0.61, 0.78),\n",
    "#    connectionstyle=\"arc3, rad=.2\",\n",
    "#    arrowstyle=\"Simple, tail_width=1.5, head_width=8, head_length=10\",\n",
    "#    color=\"#444444\"))\n",
    "# plt.text(0.56, 0.62, \"Limite\\n Mais Alto\", color=\"#333333\")\n",
    "\n",
    "plt.xlabel(\"Recall\")\n",
    "plt.ylabel(\"Precision\")\n",
    "plt.axis([0, 1, 0, 1])\n",
    "plt.grid()\n",
    "plt.legend(loc=\"lower left\")\n",
    "# save_fig(\"precision_vs_recall_plot\")\n",
    "plt.show()"
   ]
  },
  {
   "cell_type": "markdown",
   "id": "3ccda6f9",
   "metadata": {},
   "source": [
    "- Um bom classificador fica mais próximo do canto superior direito. Neste caso o classificador SVM Kernel RBF é melhor do que os demais, mas tem espaços para melhoras. "
   ]
  },
  {
   "cell_type": "code",
   "execution_count": null,
   "id": "f0fbebab",
   "metadata": {},
   "outputs": [],
   "source": [
    "print(\"F1_score Modelo Logic:\", f1_score(y_train_copy, y_train_pred_logic).round(2))\n",
    "print(\"F1_score Modelo Knn:\", f1_score(y_train_copy, y_train_pred_neigh).round(2))\n",
    "print(\"F1_score Modelo SVM Kernel Linear:\", f1_score(y_train_copy, y_train_pred_svm).round(2))\n",
    "print(\"F1_score Modelo SVM Kernel rbf:\", f1_score(y_train_copy, y_train_pred_svm_rbf).round(2))\n",
    "print(\"F1_score Modelo SVM Kernel poly:\", f1_score(y_train_copy, y_train_pred_svm_poly).round(2))\n",
    "print(\"F1_score Modelo SVM Kernel sigmoid:\", f1_score(y_train_copy, y_train_pred_svm_sigmoid).round(2))\n",
    "print(\"F1_score Modelo Naves Bayes Gauss:\", f1_score(y_train_copy, y_train_pred_bayes_gauss).round(2))\n",
    "print(\"F1_score Modelo Random Forest:\", f1_score(y_train_copy, y_train_pred_forest).round(2))"
   ]
  },
  {
   "cell_type": "code",
   "execution_count": null,
   "id": "eac64fdf",
   "metadata": {},
   "outputs": [],
   "source": [
    "# Cruva ROC\n",
    "from sklearn.metrics import roc_curve\n",
    "fpr_logic, tpr_logic, thresholds_logic = roc_curve(y_train_encod, y_scores_logic)\n",
    "fpr_neigh, tpr_neigh, thresholds_neigh = roc_curve(y_train_encod, y_scores_neigh)\n",
    "fpr_svm, tpr_svm, thresholds_svm = roc_curve(y_train_encod, y_scores_svm)\n",
    "fpr_svm_rbf, tpr_svm_rbf, thresholds_svm_rbf = roc_curve(y_train_encod, y_scores_svm_rbf)\n",
    "fpr_svm_poly, tpr_svm_poly, thresholds_svm_poly = roc_curve(y_train_encod, y_scores_svm_poly)\n",
    "fpr_svm_sigmoid, tpr_svm_sigmoid, thresholds_svm_sigmoid = roc_curve(y_train_encod, y_scores_svm_sigmoid)\n",
    "fpr_bayes, tpr_bayes, thresholds_bayes = roc_curve(y_train_encod, y_scores_bayes_gauss)\n",
    "fpr_dtree, tpr_dtree, thresholds_dtree = roc_curve(y_train_encod, y_scores_dtree.max(axis = 1))\n",
    "fpr_forest, tpr_forest, thresholds_forest = roc_curve(y_train_encod, y_scores_forest.max(axis = 1))"
   ]
  },
  {
   "cell_type": "code",
   "execution_count": null,
   "id": "bbf23b56",
   "metadata": {
    "scrolled": true
   },
   "outputs": [],
   "source": [
    "idx_for_threshold_at_90_logic = (thresholds_logic <= threshold_for_90_precision_logic).argmax()\n",
    "tpr_90_logic, fpr_90_logic = tpr_logic[idx_for_threshold_at_90_logic], fpr_logic[idx_for_threshold_at_90_logic]\n",
    "\n",
    "idx_for_threshold_at_90_neigh = (thresholds_neigh <= threshold_for_90_precision_neigh).argmax()\n",
    "tpr_90_neigh, fpr_90_neigh = tpr_neigh[idx_for_threshold_at_90_neigh], fpr_neigh[idx_for_threshold_at_90_neigh]\n",
    "\n",
    "idx_for_threshold_at_90_svm = (thresholds_svm <= threshold_for_90_precision_svm).argmax()\n",
    "tpr_90_svm, fpr_90_svm = tpr_svm[idx_for_threshold_at_90_svm], fpr_svm[idx_for_threshold_at_90_svm]\n",
    "\n",
    "idx_for_threshold_at_90_svm_rbf = (thresholds_svm_rbf <= threshold_for_90_precision_svm_rbf).argmax()\n",
    "tpr_90_svm_rbf, fpr_90_svm_rbf = tpr_svm_rbf[idx_for_threshold_at_90_svm_rbf], fpr_svm_rbf[idx_for_threshold_at_90_svm_rbf]\n",
    "\n",
    "idx_for_threshold_at_90_svm_poly = (thresholds_svm_poly <= threshold_for_90_precision_svm_poly).argmax()\n",
    "tpr_90_svm_poly, fpr_90_svm_poly = tpr_svm_poly[idx_for_threshold_at_90_svm_poly], fpr_svm_poly[idx_for_threshold_at_90_svm_poly]\n",
    "\n",
    "idx_for_threshold_at_90_svm_sigmoid = (thresholds_svm_sigmoid <= threshold_for_90_precision_svm_sigmoid).argmax()\n",
    "tpr_90_svm_sigmoid, fpr_90_svm_sigmoid = tpr_svm_sigmoid[idx_for_threshold_at_90_svm_sigmoid], fpr_svm_sigmoid[idx_for_threshold_at_90_svm_sigmoid]\n",
    "\n",
    "idx_for_threshold_at_90_bayes = (thresholds_bayes <= threshold_for_90_precision_bayes).argmax()\n",
    "tpr_90_bayes, fpr_90_bayes = tpr_bayes[idx_for_threshold_at_90_bayes], fpr_bayes[idx_for_threshold_at_90_bayes]\n",
    "\n",
    "idx_for_threshold_at_90_dtree = (thresholds_dtree <= threshold_for_90_precision_dtree).argmax()\n",
    "tpr_90_dtree, fpr_90_dtree = tpr_dtree[idx_for_threshold_at_90_dtree], fpr_dtree[idx_for_threshold_at_90_dtree]\n",
    "\n",
    "idx_for_threshold_at_90_forest = (thresholds_forest <= threshold_for_90_precision_forest).argmax()\n",
    "tpr_90_forest, fpr_90_forest = tpr_forest[idx_for_threshold_at_90_forest], fpr_forest[idx_for_threshold_at_90_forest]\n",
    "\n"
   ]
  },
  {
   "cell_type": "code",
   "execution_count": null,
   "id": "172e4c02",
   "metadata": {},
   "outputs": [],
   "source": [
    "plt.figure(figsize=(8, 9)) \n",
    "plt.plot(fpr_logic, tpr_logic, linewidth=2, label=\"Curva ROC Logic\")\n",
    "plt.plot(fpr_neigh, tpr_neigh, linewidth=2, label=\"Curva ROC Knn\")\n",
    "plt.plot(fpr_svm, tpr_svm, linewidth=2, label=\"Curva ROC SVM Linear\")\n",
    "\n",
    "plt.plot([0, 1], [0, 1], 'k:', label=\"Curva ROC de Classificador Aleatório\")\n",
    "\n",
    "plt.plot([fpr_90_logic], [tpr_90_logic], \"ko\", label=\"Limear Logic para 90% de Precisão\")\n",
    "plt.plot([fpr_90_neigh], [tpr_90_neigh], \"ko\", label=\"Limear Knn para 90% de Precisão\")\n",
    "plt.plot([fpr_90_svm], [tpr_90_svm], \"ko\", label=\"Limear SVM Kernel Linear para 90% de Precisão\")\n",
    "\n",
    "# plt.gca().add_patch(patches.FancyArrowPatch(\n",
    "#    (0.20, 0.89), (0.07, 0.70),\n",
    "#    connectionstyle=\"arc3, rad=.4\",\n",
    "#    arrowstyle=\"Simple, tail_width=1.5, head_width=8, head_length=10\",\n",
    "#    color=\"#444444\"))\n",
    "# plt.text(0.01, 0.9, \"Limear \\n Mais Alto\", color=\"#333333\")\n",
    "\n",
    "plt.xlabel('Taxa Falsos Positivos (Fall-Out)')\n",
    "plt.ylabel('Taxa Verdadeiros Positivos (Recall)')\n",
    "plt.grid()\n",
    "plt.axis([0, 1, 0, 1])\n",
    "plt.legend(loc=\"lower right\", fontsize=13)\n",
    "\n",
    "# save_fig(\"roc_curve_plot\")\n",
    "\n",
    "plt.show()"
   ]
  },
  {
   "cell_type": "code",
   "execution_count": null,
   "id": "13f678f2",
   "metadata": {},
   "outputs": [],
   "source": [
    "plt.figure(figsize=(8, 9)) \n",
    "plt.plot(fpr_svm_rbf, tpr_svm_rbf, linewidth=2, label=\"Curva ROC SVM rbf\")\n",
    "plt.plot(fpr_svm_poly, tpr_svm_poly, linewidth=2, label=\"Curva ROC SVM poly\")\n",
    "plt.plot(fpr_svm_sigmoid, tpr_svm_sigmoid, linewidth=2, label=\"Curva ROC SVM sigmoid\")\n",
    "plt.plot(fpr_bayes, tpr_bayes, linewidth=2, label=\"Curva ROC Bayes Gauss \")\n",
    "plt.plot(fpr_dtree, tpr_dtree, linewidth=2, label=\"Curva ROC Classifier Tree \")\n",
    "plt.plot(fpr_forest, tpr_forest, linewidth=2, label=\"Curva ROC Classifier Forest \")\n",
    "\n",
    "plt.plot([0, 1], [0, 1], 'k:', label=\"Curva ROC de Classificador Aleatório\")\n",
    "\n",
    "plt.plot([fpr_90_svm_rbf], [tpr_90_svm_rbf], \"ko\", label=\"Limear SVM Kernel rbf para 90% de Precisão\")\n",
    "plt.plot([fpr_90_svm_poly], [tpr_90_svm_poly], \"ko\", label=\"Limear SVM Kernel Poly para 90% de Precisão\")\n",
    "plt.plot([fpr_90_svm_sigmoid], [tpr_90_svm_sigmoid], \"ko\", label=\"Limear SVM Kernel Sigmoid para 90% de Precisão\")\n",
    "plt.plot([fpr_90_bayes], [tpr_90_bayes], \"ko\", label=\"Limear Bayes Gauss para 90% de Precisão\")\n",
    "plt.plot([fpr_90_dtree], [tpr_90_dtree], \"ko\", label=\"Limear Classifier Tree para 90% de Precisão\")\n",
    "plt.plot([fpr_90_forest], [tpr_90_forest], \"ko\", label=\"Limear Classifier Forest para 90% de Precisão\")\n",
    "\n",
    "# plt.gca().add_patch(patches.FancyArrowPatch(\n",
    "#    (0.20, 0.89), (0.07, 0.70),\n",
    "#    connectionstyle=\"arc3, rad=.4\",\n",
    "#    arrowstyle=\"Simple, tail_width=1.5, head_width=8, head_length=10\",\n",
    "#    color=\"#444444\"))\n",
    "# plt.text(0.01, 0.9, \"Limear \\n Mais Alto\", color=\"#333333\")\n",
    "\n",
    "plt.xlabel('Taxa Falsos Positivos (Fall-Out)')\n",
    "plt.ylabel('Taxa Verdadeiros Positivos (Recall)')\n",
    "plt.grid()\n",
    "plt.axis([0, 1, 0, 1])\n",
    "plt.legend(loc=\"lower right\", fontsize=13)\n",
    "\n",
    "# save_fig(\"roc_curve_plot\")\n",
    "\n",
    "plt.show()"
   ]
  },
  {
   "cell_type": "code",
   "execution_count": null,
   "id": "8775fd22",
   "metadata": {},
   "outputs": [],
   "source": [
    "# area de comparação curva ROC\n",
    "from sklearn.metrics import roc_auc_score\n",
    "print(\"AUC do modelo Logic:\", roc_auc_score(y_train_encod, y_scores_logic).round(3))\n",
    "print(\"AUC do modelo KNN:\", roc_auc_score(y_train_encod, y_scores_neigh).round(3))\n",
    "print(\"AUC do modelo SVM Kernel Linear:\", roc_auc_score(y_train_encod, y_scores_svm).round(3))\n",
    "print(\"AUC do modelo Naive Bayes:\", roc_auc_score(y_train_encod, y_scores_bayes_gauss).round(3))\n",
    "print(\"AUC do modelo Classifier Tree:\", roc_auc_score(y_train_encod, y_scores_dtree.max(axis = 1)).round(3))\n",
    "print(\"AUC do modelo Classifier Forest:\", roc_auc_score(y_train_encod, y_scores_forest.max(axis = 1)).round(3))"
   ]
  },
  {
   "cell_type": "code",
   "execution_count": null,
   "id": "b3d5d679",
   "metadata": {},
   "outputs": [],
   "source": [
    "from sklearn.metrics import f1_score\n",
    "print(f1_score(y_train_encod, y_train_pred_logic).round(5))\n",
    "print(f1_score(y_train_encod, y_train_pred_neigh).round(5))\n",
    "print(f1_score(y_train_encod, y_train_pred_svm).round(5))\n",
    "print(f1_score(y_train_encod, y_train_pred_svm_poly).round(3))\n",
    "print(f1_score(y_train_encod, y_train_pred_svm_rbf).round(3))"
   ]
  },
  {
   "cell_type": "markdown",
   "id": "cdc73c00",
   "metadata": {},
   "source": [
    "- Um bom classificador fica o mais longe possível da linha pontilhada (em direção ao canto superior esquerdo).\n",
    "\n",
    "- Uma maneira de comparar classificadores é medir a área sob a curva (AUC). Um classificador perfeito terá um ROC AUC igual a $1$, enquanto um classificador puramente aleatório terá um ROC AUC igual a $0.5$.\n",
    "\n",
    "- Neste caso, o classificador SMV Kernel Linear é melhor do que o Logic e Knn, porém tem espaço para melhora. "
   ]
  }
 ],
 "metadata": {
  "kernelspec": {
   "display_name": "Python 3 (ipykernel)",
   "language": "python",
   "name": "python3"
  },
  "language_info": {
   "codemirror_mode": {
    "name": "ipython",
    "version": 3
   },
   "file_extension": ".py",
   "mimetype": "text/x-python",
   "name": "python",
   "nbconvert_exporter": "python",
   "pygments_lexer": "ipython3",
   "version": "3.9.13"
  }
 },
 "nbformat": 4,
 "nbformat_minor": 5
}
