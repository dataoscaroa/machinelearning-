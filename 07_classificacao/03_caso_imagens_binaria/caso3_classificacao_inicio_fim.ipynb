{
 "cells": [
  {
   "cell_type": "markdown",
   "id": "aed97929",
   "metadata": {},
   "source": [
    "# <font color = \"blue\"> Modelo de Classificação binário</font>"
   ]
  },
  {
   "cell_type": "markdown",
   "id": "d7101c60",
   "metadata": {},
   "source": [
    "Versão Python:"
   ]
  },
  {
   "cell_type": "code",
   "execution_count": 1,
   "id": "bd30a183",
   "metadata": {},
   "outputs": [
    {
     "name": "stdout",
     "output_type": "stream",
     "text": [
      "Python versão 3.9.13\n"
     ]
    }
   ],
   "source": [
    "from platform import python_version\n",
    "print(\"Python versão\", python_version())"
   ]
  },
  {
   "cell_type": "markdown",
   "id": "33e49cdd",
   "metadata": {},
   "source": [
    "Librarias e funções:"
   ]
  },
  {
   "cell_type": "code",
   "execution_count": 2,
   "id": "efab5d76",
   "metadata": {},
   "outputs": [],
   "source": [
    "import pandas as pd\n",
    "import numpy as np\n",
    "import matplotlib.pyplot as plt\n",
    "import sklearn\n",
    "import statsmodels\n",
    "import warnings\n",
    "warnings.filterwarnings(\"ignore\")\n",
    "%matplotlib inline"
   ]
  },
  {
   "cell_type": "markdown",
   "id": "02b08ff5",
   "metadata": {},
   "source": [
    "## 1. Desafio e Quadro Geral"
   ]
  },
  {
   "cell_type": "markdown",
   "id": "bac516a8",
   "metadata": {},
   "source": [
    "## 1.1 Definição do desafio: \n",
    "\n",
    "- Usam-se o conjunto de dados **MNIST**, que consiste em $70.000$ imagens pequenas de dígitos escritos à mão por estudantes do ensino médio e funcionários do *US Census Bureau*. Cada imagem é rotulada com o dígito que representa. \n",
    "\n",
    "- Este conjunto de dados foi estudado tanto que é frequentemente chamado de \"hello world\" do aprendizado de máquina: sempre que as pessoas desenvolvem um novo algoritmo de classificação, elas estão curiosas para ver como ele se sairá no MNIST, e qualquer pessoa que aprenda aprendizado de máquina aborda esse conjunto de dados mais cedo ou mais tarde."
   ]
  },
  {
   "cell_type": "markdown",
   "id": "81a93ced",
   "metadata": {},
   "source": [
    "## 1.2 Quadro Geral: \n",
    "\n",
    "- Como se espera usar e se beneficiar desse modelo? A saída do modelo será a classificação das imagens. O resultado permite a avaliação do conhecimento do cientísta de dados iniciante e não alimenta outros sistema.\n",
    "\n",
    "- Como é a solução atual (se houver)? Não existe uma solução atual entregada. No entanto, parece que abordagem tradicional implica muitos ajustes finos e complexos, o número de dados pode supor uma abordagem como Machine Learning."
   ]
  },
  {
   "cell_type": "markdown",
   "id": "27858de4",
   "metadata": {},
   "source": [
    "## 1.3 Sistema, tarefa e ténica de ML\n",
    "\n",
    "- Qual tipo de supervisão de treinamento será necessário para o modelo? Será necessário um sistema de *ML* supervisionado, uma vez que cada imagem é rotulada com o dígito que representa.\n",
    "\n",
    "- Qual será a tarefa desempenhada pelo modelo? A tarefa é de classificação das imagens.\n",
    "\n",
    "- Deve-se utilizar técnicas de aprendizado em lote ou em tempo real? Em lotes dado que o rótulo dos dígito não mudam rapidamente."
   ]
  },
  {
   "cell_type": "markdown",
   "id": "f386847b",
   "metadata": {},
   "source": [
    "## 2. Obter dados"
   ]
  },
  {
   "cell_type": "code",
   "execution_count": 3,
   "id": "40957d23",
   "metadata": {},
   "outputs": [],
   "source": [
    "from sklearn.datasets import fetch_openml\n",
    "mnist = fetch_openml('mnist_784', as_frame=False)"
   ]
  },
  {
   "cell_type": "code",
   "execution_count": 4,
   "id": "2e773591",
   "metadata": {},
   "outputs": [],
   "source": [
    "X, y = mnist.data, mnist.target"
   ]
  },
  {
   "cell_type": "code",
   "execution_count": 5,
   "id": "8f0ea4ca",
   "metadata": {},
   "outputs": [
    {
     "data": {
      "text/plain": [
       "(70000, 784)"
      ]
     },
     "execution_count": 5,
     "metadata": {},
     "output_type": "execute_result"
    }
   ],
   "source": [
    "X.shape"
   ]
  },
  {
   "cell_type": "code",
   "execution_count": 6,
   "id": "321df5a4",
   "metadata": {},
   "outputs": [
    {
     "data": {
      "text/plain": [
       "(70000,)"
      ]
     },
     "execution_count": 6,
     "metadata": {},
     "output_type": "execute_result"
    }
   ],
   "source": [
    "y.shape"
   ]
  },
  {
   "cell_type": "code",
   "execution_count": 7,
   "id": "856c79da",
   "metadata": {},
   "outputs": [],
   "source": [
    "nome_recurse = mnist.feature_names\n",
    "nome_target = mnist.target_names"
   ]
  },
  {
   "cell_type": "code",
   "execution_count": 8,
   "id": "45258a39",
   "metadata": {},
   "outputs": [
    {
     "data": {
      "image/png": "[encoded data removed]",
      "text/plain": [
       "<Figure size 640x480 with 1 Axes>"
      ]
     },
     "metadata": {},
     "output_type": "display_data"
    }
   ],
   "source": [
    "# Visualização de um registro\n",
    "def plot_digit(image_data):\n",
    "    image = image_data.reshape(28, 28)\n",
    "    plt.imshow(image, cmap=\"binary\")\n",
    "    plt.axis(\"off\")\n",
    "some_digit = X[0]\n",
    "plot_digit(some_digit)\n",
    "plt.show()"
   ]
  },
  {
   "cell_type": "code",
   "execution_count": 9,
   "id": "53fffa3e",
   "metadata": {},
   "outputs": [
    {
     "data": {
      "text/plain": [
       "'5'"
      ]
     },
     "execution_count": 9,
     "metadata": {},
     "output_type": "execute_result"
    }
   ],
   "source": [
    "y[0]"
   ]
  },
  {
   "cell_type": "markdown",
   "id": "96f1e8e4",
   "metadata": {},
   "source": [
    "- Observe que o número é o $5$."
   ]
  },
  {
   "cell_type": "markdown",
   "id": "1a35779f",
   "metadata": {},
   "source": [
    "## 3. Conjunto Treinamento e Teste"
   ]
  },
  {
   "cell_type": "code",
   "execution_count": 10,
   "id": "7498e1b5",
   "metadata": {},
   "outputs": [],
   "source": [
    "X_train, X_test, y_train, y_test = X[:60000], X[60000:], y[:60000], y[60000:]"
   ]
  },
  {
   "cell_type": "markdown",
   "id": "10587152",
   "metadata": {},
   "source": [
    "> **A continuação se apresentam as métricas para uma classificação binária**. Se considera o caso `True` se for $5$ ou `False` caso contrário."
   ]
  },
  {
   "cell_type": "markdown",
   "id": "0fea4d99",
   "metadata": {},
   "source": [
    "### 3.1 Treinando uma classificação binária"
   ]
  },
  {
   "cell_type": "code",
   "execution_count": 11,
   "id": "2a07f3e4",
   "metadata": {},
   "outputs": [],
   "source": [
    "# True se for '5' ou False c.c\n",
    "y_train_5 = (y_train == '5')\n",
    "y_test_5 = (y_test == '5')"
   ]
  },
  {
   "cell_type": "code",
   "execution_count": 12,
   "id": "3ac09b4f",
   "metadata": {},
   "outputs": [
    {
     "data": {
      "text/html": [
       "<style>#sk-container-id-1 {color: black;background-color: white;}#sk-container-id-1 pre{padding: 0;}#sk-container-id-1 div.sk-toggleable {background-color: white;}#sk-container-id-1 label.sk-toggleable__label {cursor: pointer;display: block;width: 100%;margin-bottom: 0;padding: 0.3em;box-sizing: border-box;text-align: center;}#sk-container-id-1 label.sk-toggleable__label-arrow:before {content: \"▸\";float: left;margin-right: 0.25em;color: #696969;}#sk-container-id-1 label.sk-toggleable__label-arrow:hover:before {color: black;}#sk-container-id-1 div.sk-estimator:hover label.sk-toggleable__label-arrow:before {color: black;}#sk-container-id-1 div.sk-toggleable__content {max-height: 0;max-width: 0;overflow: hidden;text-align: left;background-color: #f0f8ff;}#sk-container-id-1 div.sk-toggleable__content pre {margin: 0.2em;color: black;border-radius: 0.25em;background-color: #f0f8ff;}#sk-container-id-1 input.sk-toggleable__control:checked~div.sk-toggleable__content {max-height: 200px;max-width: 100%;overflow: auto;}#sk-container-id-1 input.sk-toggleable__control:checked~label.sk-toggleable__label-arrow:before {content: \"▾\";}#sk-container-id-1 div.sk-estimator input.sk-toggleable__control:checked~label.sk-toggleable__label {background-color: #d4ebff;}#sk-container-id-1 div.sk-label input.sk-toggleable__control:checked~label.sk-toggleable__label {background-color: #d4ebff;}#sk-container-id-1 input.sk-hidden--visually {border: 0;clip: rect(1px 1px 1px 1px);clip: rect(1px, 1px, 1px, 1px);height: 1px;margin: -1px;overflow: hidden;padding: 0;position: absolute;width: 1px;}#sk-container-id-1 div.sk-estimator {font-family: monospace;background-color: #f0f8ff;border: 1px dotted black;border-radius: 0.25em;box-sizing: border-box;margin-bottom: 0.5em;}#sk-container-id-1 div.sk-estimator:hover {background-color: #d4ebff;}#sk-container-id-1 div.sk-parallel-item::after {content: \"\";width: 100%;border-bottom: 1px solid gray;flex-grow: 1;}#sk-container-id-1 div.sk-label:hover label.sk-toggleable__label {background-color: #d4ebff;}#sk-container-id-1 div.sk-serial::before {content: \"\";position: absolute;border-left: 1px solid gray;box-sizing: border-box;top: 0;bottom: 0;left: 50%;z-index: 0;}#sk-container-id-1 div.sk-serial {display: flex;flex-direction: column;align-items: center;background-color: white;padding-right: 0.2em;padding-left: 0.2em;position: relative;}#sk-container-id-1 div.sk-item {position: relative;z-index: 1;}#sk-container-id-1 div.sk-parallel {display: flex;align-items: stretch;justify-content: center;background-color: white;position: relative;}#sk-container-id-1 div.sk-item::before, #sk-container-id-1 div.sk-parallel-item::before {content: \"\";position: absolute;border-left: 1px solid gray;box-sizing: border-box;top: 0;bottom: 0;left: 50%;z-index: -1;}#sk-container-id-1 div.sk-parallel-item {display: flex;flex-direction: column;z-index: 1;position: relative;background-color: white;}#sk-container-id-1 div.sk-parallel-item:first-child::after {align-self: flex-end;width: 50%;}#sk-container-id-1 div.sk-parallel-item:last-child::after {align-self: flex-start;width: 50%;}#sk-container-id-1 div.sk-parallel-item:only-child::after {width: 0;}#sk-container-id-1 div.sk-dashed-wrapped {border: 1px dashed gray;margin: 0 0.4em 0.5em 0.4em;box-sizing: border-box;padding-bottom: 0.4em;background-color: white;}#sk-container-id-1 div.sk-label label {font-family: monospace;font-weight: bold;display: inline-block;line-height: 1.2em;}#sk-container-id-1 div.sk-label-container {text-align: center;}#sk-container-id-1 div.sk-container {/* jupyter's `normalize.less` sets `[hidden] { display: none; }` but bootstrap.min.css set `[hidden] { display: none !important; }` so we also need the `!important` here to be able to override the default hidden behavior on the sphinx rendered scikit-learn.org. See: https://github.com/scikit-learn/scikit-learn/issues/21755 */display: inline-block !important;position: relative;}#sk-container-id-1 div.sk-text-repr-fallback {display: none;}</style><div id=\"sk-container-id-1\" class=\"sk-top-container\"><div class=\"sk-text-repr-fallback\"><pre>SGDClassifier(random_state=42)</pre><b>In a Jupyter environment, please rerun this cell to show the HTML representation or trust the notebook. <br />On GitHub, the HTML representation is unable to render, please try loading this page with nbviewer.org.</b></div><div class=\"sk-container\" hidden><div class=\"sk-item\"><div class=\"sk-estimator sk-toggleable\"><input class=\"sk-toggleable__control sk-hidden--visually\" id=\"sk-estimator-id-1\" type=\"checkbox\" checked><label for=\"sk-estimator-id-1\" class=\"sk-toggleable__label sk-toggleable__label-arrow\">SGDClassifier</label><div class=\"sk-toggleable__content\"><pre>SGDClassifier(random_state=42)</pre></div></div></div></div></div>"
      ],
      "text/plain": [
       "SGDClassifier(random_state=42)"
      ]
     },
     "execution_count": 12,
     "metadata": {},
     "output_type": "execute_result"
    }
   ],
   "source": [
    "# ajusta-se o modelo Stochastic Gradient Descent - SGD\n",
    "from sklearn.linear_model import SGDClassifier\n",
    "sgd_clf = SGDClassifier(random_state=42)\n",
    "sgd_clf.fit(X_train, y_train_5)"
   ]
  },
  {
   "cell_type": "code",
   "execution_count": 13,
   "id": "035c40fb",
   "metadata": {},
   "outputs": [
    {
     "data": {
      "text/plain": [
       "array([ True])"
      ]
     },
     "execution_count": 13,
     "metadata": {},
     "output_type": "execute_result"
    }
   ],
   "source": [
    "sgd_clf.predict([some_digit]) # some_digit representa o digito `5`"
   ]
  },
  {
   "cell_type": "code",
   "execution_count": 14,
   "id": "ae42282c",
   "metadata": {},
   "outputs": [
    {
     "data": {
      "text/plain": [
       "False    0.90965\n",
       "True     0.09035\n",
       "dtype: float64"
      ]
     },
     "execution_count": 14,
     "metadata": {},
     "output_type": "execute_result"
    }
   ],
   "source": [
    "# desequilibrado: prevalência do \"False\" em um 90.96% dos dados.\n",
    "pd.DataFrame(y_train_5).value_counts() / (54579 + 5421)"
   ]
  },
  {
   "cell_type": "markdown",
   "id": "220eb89d",
   "metadata": {},
   "source": [
    "### 3.2 Medindo a Precisão Geral  usando Cross-Validation\n"
   ]
  },
  {
   "cell_type": "markdown",
   "id": "a79edb11",
   "metadata": {},
   "source": [
    "O resultado mostra uma Precisão Geral maior ao $95\\%$, no entanto, isso se deve a prêvalencia da classe `False` nos dados:"
   ]
  },
  {
   "cell_type": "code",
   "execution_count": 15,
   "id": "cdc558e6",
   "metadata": {},
   "outputs": [
    {
     "data": {
      "text/plain": [
       "array([0.95035, 0.96035, 0.9604 ])"
      ]
     },
     "execution_count": 15,
     "metadata": {},
     "output_type": "execute_result"
    }
   ],
   "source": [
    "# precisão geral para 3-fold\n",
    "from sklearn.model_selection import cross_val_score\n",
    "cross_val_score(sgd_clf, X_train, y_train_5, cv=3, scoring=\"accuracy\")"
   ]
  },
  {
   "cell_type": "markdown",
   "id": "8bc1ced5",
   "metadata": {},
   "source": [
    "Porém a precisão geral não é uma medida de desempenho preferível para classificar, especificamente quando os dados estão muito desequilibrados (i.e, uma classe tem uma maior prevalência)."
   ]
  },
  {
   "cell_type": "markdown",
   "id": "b2220d65",
   "metadata": {},
   "source": [
    "### 3.3 Matrizes de Confusão"
   ]
  },
  {
   "cell_type": "markdown",
   "id": "6e18263b",
   "metadata": {},
   "source": [
    "Assim como a função `cross_val_score()`, a função `cross_val_predict()` realiza a validação cruzada k-fold, mas em vez de retornar os escores de avaliação, ela retorna as previsões feitas em cada dobra da avaliação. Isso significa que você obtém uma previsão \"limpa\" para cada instância no conjunto de treinamento (por \"limpa\", quero dizer \"fora da amostra\": o modelo faz previsões em dados que nunca viu durante o treinamento)."
   ]
  },
  {
   "cell_type": "code",
   "execution_count": 16,
   "id": "f21b71fc",
   "metadata": {},
   "outputs": [],
   "source": [
    "from sklearn.model_selection import cross_val_predict\n",
    "y_train_pred = cross_val_predict(sgd_clf, X_train, y_train_5, cv = 3)"
   ]
  },
  {
   "cell_type": "code",
   "execution_count": 17,
   "id": "a90bac69",
   "metadata": {},
   "outputs": [],
   "source": [
    "from sklearn.metrics import confusion_matrix\n",
    "cm = confusion_matrix(y_train_5, y_train_pred)"
   ]
  },
  {
   "cell_type": "code",
   "execution_count": 18,
   "id": "20dc86b1",
   "metadata": {},
   "outputs": [
    {
     "data": {
      "text/plain": [
       "array([[53892,   687],\n",
       "       [ 1891,  3530]], dtype=int64)"
      ]
     },
     "execution_count": 18,
     "metadata": {},
     "output_type": "execute_result"
    }
   ],
   "source": [
    "cm"
   ]
  },
  {
   "cell_type": "markdown",
   "id": "e773f345",
   "metadata": {},
   "source": [
    "Cada linha em uma matriz de confusão representa uma classe real, enquanto cada coluna representa uma classe prevista. A primeira linha desta matriz considera as imagens não-5 (a classe negativa): 53.892 delas foram classificadas corretamente como não-5 (verdadeiros negativos), enquanto as 687 restantes foram erroneamente classificadas como 5 (falsos positivos, também chamados de erros do tipo I). A segunda linha considera as imagens de 5 (a classe positiva): 1.891 foram erroneamente classificadas como não-5 (falsos negativos, também chamados de erros do tipo II), enquanto as 3.530 restantes foram classificadas corretamente como 5 (verdadeiros positivos). Um classificador perfeito teria apenas verdadeiros positivos e verdadeiros negativos, portanto, sua matriz de confusão teria valores diferentes de zero apenas em sua diagonal principal (do canto superior esquerdo para o canto inferior direito)."
   ]
  },
  {
   "cell_type": "code",
   "execution_count": 19,
   "id": "50a289fd",
   "metadata": {},
   "outputs": [
    {
     "data": {
      "text/plain": [
       "array([[54579,     0],\n",
       "       [    0,  5421]], dtype=int64)"
      ]
     },
     "execution_count": 19,
     "metadata": {},
     "output_type": "execute_result"
    }
   ],
   "source": [
    "# classificador perfeito (não no mundo real)\n",
    "y_train_perfect_predictions = y_train_5 # finja que alcançamos a perfeição\n",
    "confusion_matrix(y_train_5, y_train_perfect_predictions)\n"
   ]
  },
  {
   "cell_type": "markdown",
   "id": "5572c563",
   "metadata": {},
   "source": [
    "A matriz de confusão permite definições precisas de outras métricas de avaliação, normalmente possui quatro entradas. Logo, as formas de médidas de avaliação mais importantes são dadas por:"
   ]
  },
  {
   "cell_type": "markdown",
   "id": "d21ac596",
   "metadata": {},
   "source": [
    "$$Sensiblidade = recall = TPR = P(\\hat{Y} = 1 | Y = 1) = \\frac{PT}{PT + FN}$$"
   ]
  },
  {
   "cell_type": "markdown",
   "id": "c70f8542",
   "metadata": {},
   "source": [
    "$$Especificidade = TNR = 1 - FPR = P(\\hat{Y} = 0 | Y = 0) = \\frac{TN}{FP + TN}$$"
   ]
  },
  {
   "cell_type": "markdown",
   "id": "4f3d8da0",
   "metadata": {},
   "source": [
    "$$Precisão = PPV = P(Y = 1 | \\hat{Y} = 1) = \\frac{PT}{PT + FP}$$"
   ]
  },
  {
   "cell_type": "markdown",
   "id": "b81c33fe",
   "metadata": {},
   "source": [
    "## 3. 4 Precisão e Recall"
   ]
  },
  {
   "cell_type": "code",
   "execution_count": 20,
   "id": "e7799e8c",
   "metadata": {},
   "outputs": [
    {
     "data": {
      "text/plain": [
       "0.8370879772350012"
      ]
     },
     "execution_count": 20,
     "metadata": {},
     "output_type": "execute_result"
    }
   ],
   "source": [
    "from sklearn.metrics import precision_score, recall_score\n",
    "precision_score(y_train_5, y_train_pred).round(2)\n"
   ]
  },
  {
   "cell_type": "code",
   "execution_count": 21,
   "id": "9427713b",
   "metadata": {},
   "outputs": [
    {
     "data": {
      "text/plain": [
       "0.6511713705958311"
      ]
     },
     "execution_count": 21,
     "metadata": {},
     "output_type": "execute_result"
    }
   ],
   "source": [
    "recall_score(y_train_5, y_train_pred).round(2)"
   ]
  },
  {
   "cell_type": "markdown",
   "id": "c8be06f7",
   "metadata": {},
   "source": [
    "Agora, nosso detector de \"5\" não parece tão impressionante quanto parecia quando analisamos sua precisão geral. Quando ele afirma que uma imagem representa um \"5\", ele está correto apenas 83,7% das vezes. Além disso, ele detecta apenas 65,1% dos \"5\"s."
   ]
  },
  {
   "cell_type": "markdown",
   "id": "d600fa46",
   "metadata": {},
   "source": [
    "## 3. 5 Função $F_1$: Precisão equilibrada e pontuação"
   ]
  },
  {
   "cell_type": "markdown",
   "id": "91661096",
   "metadata": {},
   "source": [
    "- Esta é uma métrica preferida em relação a precisão geral, sendo a média harmônica de sensibilidade e precisão. \n",
    "\n",
    "- A função foi adaptada definindo um $\\beta$ para representar a\n",
    "importância da sensibilidade (recall) sobre a especificidade e esta dada por:\n",
    "\n",
    "$$F_1 = \\frac{1}{\\frac{\\beta}{1 + \\beta ^ 2} \\frac{1}{recall} + \\frac{1}{1 + \\beta ^ 2} \\frac{1}{Precisão}}$$\n",
    "\n",
    "- Por *default* $\\beta = 1$, pois o conceito por trás disso se refere ao fato de que muitas vezes há erros que custam mais do que outros. Por exemplo, em um caso de homicídio criminal, tomar uma decisão com base em um *falso positivo* levaria à execução de uma pessoa inocente. Portanto, é mais importante maximizar a precisão do que a sensibilidade.\n",
    "\n",
    "- Observe que $F_1$ aumenta quando *recall* e a *precisão* aumentam.\n"
   ]
  },
  {
   "cell_type": "code",
   "execution_count": 22,
   "id": "a5782446",
   "metadata": {},
   "outputs": [
    {
     "data": {
      "text/plain": [
       "0.7325171197343846"
      ]
     },
     "execution_count": 22,
     "metadata": {},
     "output_type": "execute_result"
    }
   ],
   "source": [
    "from sklearn.metrics import f1_score\n",
    "f1_score(y_train_5, y_train_pred)"
   ]
  },
  {
   "cell_type": "markdown",
   "id": "f38ea233",
   "metadata": {},
   "source": [
    "Em alguns contextos, você se preocupa principalmente com a precisão, e em outros contextos, você se preocupa muito com o recall. Infelizmente, você não pode ter tudo: aumentar a precisão reduz o recall e vice-versa em um classificador. Isso é chamado de trade-off entre precisão e recall. Depende do tipo de erro que você quer assumir."
   ]
  },
  {
   "cell_type": "markdown",
   "id": "a10a9007",
   "metadata": {},
   "source": [
    "## A Compensação (trade-off) entre Precisão e Recall"
   ]
  },
  {
   "cell_type": "markdown",
   "id": "44f04a2e",
   "metadata": {},
   "source": [
    "- Como dito anteriormente a maximização de alguma das medidas depende do tipo de erro que você quer mnimizar. Maximizar a *recall* minimiza o erro tipo II (FN), maximizar a *precisão* minimiza o erro tipo I (FP). \n",
    "\n",
    "- Observe que pelas definições das métricas acima, o *recall* aumenta quando disminuie o número de *FN* (o que implica aumentar a *TN*). Por outra parte a percisão aumenta quando disminuiem os *FP* (o que implica aumentar *TP*).\n",
    "\n",
    "- O anterior ajuda a entender que em geral quando se maximiza o *recall* dismunui a *precisão* devido a que o classificador está interessado em disminuir *FN* (erro tipo II) e não *FP* (erro tipo I). Mas quando aumenta a *precisão* disminuie sempre o *recall*, porque o classificador está interessado em disminuir *FP* (erro tipo I) e não *FN* (erro tipo II)."
   ]
  },
  {
   "cell_type": "markdown",
   "id": "a2b15d57",
   "metadata": {},
   "source": [
    "### <font color = \"green\"> O desafio é responder a pergunta: como decidir que limear (threshold) usar?"
   ]
  },
  {
   "cell_type": "markdown",
   "id": "41072f9a",
   "metadata": {},
   "source": [
    "O Scikit-Learn não permite definir o limite diretamente, mas ele fornece acesso aos escores de decisão que são usados para fazer as previsões. Em vez de chamar o método `predict()` do classificador, você pode chamar o método `decision_function()`, que retorna um escore para cada instância, e então usa qualquer limite que desejar para fazer previsões com base nesses escores:"
   ]
  },
  {
   "cell_type": "code",
   "execution_count": 23,
   "id": "29f357dc",
   "metadata": {},
   "outputs": [
    {
     "data": {
      "text/plain": [
       "array([2164.22030239])"
      ]
     },
     "execution_count": 23,
     "metadata": {},
     "output_type": "execute_result"
    }
   ],
   "source": [
    "y_scores = sgd_clf.decision_function([some_digit])\n",
    "y_scores"
   ]
  },
  {
   "cell_type": "code",
   "execution_count": 24,
   "id": "cc7023de",
   "metadata": {},
   "outputs": [
    {
     "data": {
      "text/plain": [
       "array([ True])"
      ]
     },
     "execution_count": 24,
     "metadata": {},
     "output_type": "execute_result"
    }
   ],
   "source": [
    "threshold = 0\n",
    "y_some_digit_pred = (y_scores > threshold)\n",
    "y_some_digit_pred"
   ]
  },
  {
   "cell_type": "markdown",
   "id": "b94af975",
   "metadata": {},
   "source": [
    "- O SGDClassifier usa o limear igual a 0 por padrão. \n",
    "- Considerando-se um limear igual a $3.000$ se tem o `False`, assim se tem que o *recall* disminuie. A imagem atualmente representa um $5$, e o classificador deteta isso quando o limear é $0$, mas falha quando o limear aumenta para $3.000$."
   ]
  },
  {
   "cell_type": "code",
   "execution_count": 25,
   "id": "2d4b6c87",
   "metadata": {},
   "outputs": [
    {
     "data": {
      "text/plain": [
       "array([False])"
      ]
     },
     "execution_count": 25,
     "metadata": {},
     "output_type": "execute_result"
    }
   ],
   "source": [
    "threshold = 3000\n",
    "y_some_digit_pred = (y_scores > threshold)\n",
    "y_some_digit_pred"
   ]
  },
  {
   "cell_type": "markdown",
   "id": "8b6405bd",
   "metadata": {},
   "source": [
    "Para resolver o desafio se faz:\n",
    "\n",
    "- Usar a função `cross_val_predict(method = \"desicion_function\")` para obter os scores de todas as instâncias do conjunto de treinamento. Esses scores refletem a \"pontuação\" que cada classe recebe, indicando o quão bem a imagem se encaixa naquela classe específica, quando maior o score maior é a confiança da classe pertencer a classe positiva. \n",
    "- Com esses scores, usar a `precision_recall_curve()` para calcular a precisão e recall para todos os possíveis limeares (a função adiciona a última precisão de 0 e o último recall de 1, correspondentes para um linear infinito).\n",
    "- Por último, use *Matplotlib* para plotar as funções da precisão e o recall dos valores limeares. "
   ]
  },
  {
   "cell_type": "code",
   "execution_count": 26,
   "id": "5f053924",
   "metadata": {},
   "outputs": [],
   "source": [
    "y_scores = cross_val_predict(sgd_clf, X_train, y_train_5, cv=3, method=\"decision_function\")"
   ]
  },
  {
   "cell_type": "code",
   "execution_count": 27,
   "id": "f9ba6440",
   "metadata": {},
   "outputs": [],
   "source": [
    "from sklearn.metrics import precision_recall_curve\n",
    "precisions, recalls, thresholds = precision_recall_curve(y_train_5, y_scores)"
   ]
  },
  {
   "cell_type": "code",
   "execution_count": 28,
   "id": "b288e52a",
   "metadata": {},
   "outputs": [
    {
     "data": {
      "image/png": "[encoded data removed]",
      "text/plain": [
       "<Figure size 640x480 with 1 Axes>"
      ]
     },
     "metadata": {},
     "output_type": "display_data"
    }
   ],
   "source": [
    "plt.plot(thresholds, precisions[:-1], \"b--\", label=\"Precision\", linewidth=2)\n",
    "plt.plot(thresholds, recalls[:-1], \"g-\", label=\"Recall\", linewidth=2)\n",
    "plt.vlines(threshold, 0, 1.0, \"k\", \"dotted\", label=\"threshold\")\n",
    "plt.grid()\n",
    "plt.xlabel(\"Threshold\")\n",
    "plt.xlim((-40000, 40000))\n",
    "plt.show()\n"
   ]
  },
  {
   "cell_type": "markdown",
   "id": "8affa704",
   "metadata": {},
   "source": [
    "- Na figura acima se vê a precisão cerca de $90\\%$ e o recall cerca de $50 \\%$. \n",
    "\n",
    "- Outra maneira para selecionar uma boa compensação presição/recall é plotando a precisão e recall diretamente. "
   ]
  },
  {
   "cell_type": "code",
   "execution_count": 29,
   "id": "c0db5244",
   "metadata": {},
   "outputs": [
    {
     "data": {
      "image/png": "[encoded data removed]",
      "text/plain": [
       "<Figure size 640x480 with 1 Axes>"
      ]
     },
     "metadata": {},
     "output_type": "display_data"
    }
   ],
   "source": [
    "plt.plot(recalls, precisions, linewidth = 2, label = \"Presicion/Recall curve\")\n",
    "plt.xlabel(\"Recall\")\n",
    "plt.ylabel(\"Precision\")\n",
    "plt.grid()\n",
    "plt.show()"
   ]
  },
  {
   "cell_type": "markdown",
   "id": "b83fe5fa",
   "metadata": {},
   "source": [
    "- Na figura acima, observe que a precisão começa a decair rápidamente alredor do $80\\%$. Logo, se quer uma precisão de pelo menos esse valor, mas isso depende do projeto. \n",
    "\n",
    "- Suponha que você decida alcançar 90% de precisão. Você poderia usar o primeiro gráfico (precisão, recall e threshold) para encontrar o limiar que precisa usar, mas isso não é muito preciso. Como alternativa, você pode procurar pelo limiar mais baixo que lhe dê pelo menos 90% de precisão.\n",
    "\n",
    "- Para isso, você pode usar o método argmax() de um array NumPy. Isso retorna o primeiro índice do valor máximo, o que neste caso significa o primeiro valor True:"
   ]
  },
  {
   "cell_type": "code",
   "execution_count": 30,
   "id": "fa17d5fb",
   "metadata": {},
   "outputs": [],
   "source": [
    "index_precision_chosse = (precisions >= 0.90).argmax()\n"
   ]
  },
  {
   "cell_type": "code",
   "execution_count": 31,
   "id": "5b69a8b0",
   "metadata": {},
   "outputs": [
    {
     "name": "stdout",
     "output_type": "stream",
     "text": [
      "\n",
      " Precisão escolhida: 0.9000345901072293 \n",
      " Recall escolhido: 0.4799852425751706 \n",
      " Threshold: 3370.0194991439557\n"
     ]
    }
   ],
   "source": [
    "print(\"\\n Precisão escolhida:\", precisions[index_precision_chosse],\n",
    "      \"\\n Recall escolhido:\", recalls[index_precision_chosse],\n",
    "      \"\\n Threshold:\", thresholds[index_precision_chosse])"
   ]
  },
  {
   "cell_type": "markdown",
   "id": "1219b634",
   "metadata": {},
   "source": [
    "- Logo, se podem fazer previsões para verificar:"
   ]
  },
  {
   "cell_type": "code",
   "execution_count": 32,
   "id": "dca387b8",
   "metadata": {},
   "outputs": [],
   "source": [
    "threshold_for_90_precision = thresholds[index_precision_chosse]\n",
    "y_train_pred_90 = (y_scores >= threshold_for_90_precision)"
   ]
  },
  {
   "cell_type": "code",
   "execution_count": 33,
   "id": "7d2f5914",
   "metadata": {},
   "outputs": [
    {
     "data": {
      "text/plain": [
       "0.9000345901072293"
      ]
     },
     "execution_count": 33,
     "metadata": {},
     "output_type": "execute_result"
    }
   ],
   "source": [
    " precision_score(y_train_5, y_train_pred_90)"
   ]
  },
  {
   "cell_type": "code",
   "execution_count": 34,
   "id": "aa71dd86",
   "metadata": {},
   "outputs": [
    {
     "data": {
      "text/plain": [
       "0.4799852425751706"
      ]
     },
     "execution_count": 34,
     "metadata": {},
     "output_type": "execute_result"
    }
   ],
   "source": [
    "recall_at_90_precision = recall_score(y_train_5, y_train_pred_90)\n",
    "recall_at_90_precision"
   ]
  },
  {
   "cell_type": "markdown",
   "id": "f50db667",
   "metadata": {},
   "source": [
    "-  <font color = \"green\"> Mas espere, nem tão rápido - um classificador de alta precisão não é muito útil se o seu recall for muito baixo! Para muitas aplicações, um recall de 48% não seria bom. </font>"
   ]
  },
  {
   "cell_type": "markdown",
   "id": "305ff12d",
   "metadata": {},
   "source": [
    "## A curva ROC"
   ]
  },
  {
   "cell_type": "markdown",
   "id": "854a93b3",
   "metadata": {},
   "source": [
    "- É outra ferramenta comum usada com classificadores binários. É muito semelhante à curva de precisão/recall, mas, em vez de plotar precisão versus recall, a curva ROC plota a taxa de verdadeiros positivos (também conhecida como recall ou sensibilidade) em relação à taxa de falsos positivos (FPR).\n",
    "- Para plotar a curva ROC você pode fazer:\n",
    "    - Usar a função `roc_curve()` para computar *TPR* e *FPR* para varios valores limeares (thresholds). \n",
    "    - Usar o Matplotlib.pyplot para plotar FPR vs TPR\n",
    "    - Econtrar o indice com a precisão desejada e plotar"
   ]
  },
  {
   "cell_type": "code",
   "execution_count": 35,
   "id": "eacd3f9c",
   "metadata": {},
   "outputs": [],
   "source": [
    "from sklearn.metrics import roc_curve\n",
    "fpr, tpr, thresholds = roc_curve(y_train_5, y_scores)"
   ]
  },
  {
   "cell_type": "code",
   "execution_count": 36,
   "id": "9020380a",
   "metadata": {},
   "outputs": [
    {
     "data": {
      "image/png": "[encoded data removed]",
      "text/plain": [
       "<Figure size 640x480 with 1 Axes>"
      ]
     },
     "metadata": {},
     "output_type": "display_data"
    }
   ],
   "source": [
    "idx_for_threshold_at_90 = (thresholds <= threshold_for_90_precision).argmax()\n",
    "tpr_90, fpr_90 = tpr[idx_for_threshold_at_90], fpr[idx_for_threshold_at_90]\n",
    "plt.plot(fpr, tpr, linewidth=2, label=\"ROC curve\")\n",
    "plt.plot([0, 1], [0, 1], 'k:', label=\"Random classifier's ROC curve\")\n",
    "plt.plot([fpr_90], [tpr_90], \"ko\", label=\"Threshold for 90% precision\")\n",
    "[...] # beautify the figure: add labels, grid, legend, arrow, and text\n",
    "plt.show()"
   ]
  },
  {
   "cell_type": "code",
   "execution_count": 37,
   "id": "d0a47ad1",
   "metadata": {},
   "outputs": [
    {
     "data": {
      "text/plain": [
       "3370.0194991439557"
      ]
     },
     "execution_count": 37,
     "metadata": {},
     "output_type": "execute_result"
    }
   ],
   "source": [
    "# limear para 90% de precisão\n",
    "threshold_for_90_precision"
   ]
  },
  {
   "cell_type": "markdown",
   "id": "7a2eb028",
   "metadata": {},
   "source": [
    "- Observe que quanto maior a sensibilidade (*recall*) maior a *FPR* o classificador produz. \n",
    "- A linha pontilhada representa a curva *ROC* de um classificador puramente aleatório, em bom classificador fica o mais distânte dessa linha quanto possivel (na direção do canto superior esquerdo). \n",
    "- Uma forma de compara o classificador é medindo a *area under the curve* (AUC). Um classificador perfecto terá a ROC AUC igual a $1$, enquanto um classificador puramente aleatório terá um AUC ROC igual a 0.5. Para estimar, a AUC RUC se pode fazer: "
   ]
  },
  {
   "cell_type": "code",
   "execution_count": 38,
   "id": "985b6a2c",
   "metadata": {},
   "outputs": [
    {
     "data": {
      "text/plain": [
       "0.9604938554008616"
      ]
     },
     "execution_count": 38,
     "metadata": {},
     "output_type": "execute_result"
    }
   ],
   "source": [
    "from sklearn.metrics import roc_auc_score\n",
    "roc_auc_score(y_train_5, y_scores)"
   ]
  },
  {
   "cell_type": "markdown",
   "id": "afa137ee",
   "metadata": {},
   "source": [
    "- O classificador esta apresentado um área sob a curva ROC de $96.05 \\%$.\n",
    "- Como a curva *ROC* é tão semelhante à curva de precisão/recall (PR), você pode se perguntar como decidir qual usar. Como regra geral, você deve preferir a curva PR sempre que a classe positiva é rara ou quando você se preocupa mais com os falsos positivos do que com os falsos negativos. Caso contrário, use a curva ROC. Por exemplo, olhando para a curva ROC anterior (e a pontuação ROC AUC), você pode pensar que o classificador é realmente bom. Mas isso é principalmente porque há poucos pontos positivos (5s) em comparação com os negativos (não-5s). Em por outro lado, a curva PR deixa claro que o classificador tem espaço para melhorias: o a curva poderia realmente estar mais próxima do canto superior direito (consulte a Figura 3-6 novamente).\n",
    "- Agora você sabe como treinar classificadores binários, escolher a métrica adequada para sua tarefa, avaliar seus classificadores usando validação cruzada, selecionar o equilíbrio entre precisão e recall que atenda às suas necessidades e usar várias métricas e curvas para comparar vários modelos. Você está pronto para tentar detectar mais do que apenas os 5s."
   ]
  },
  {
   "cell_type": "markdown",
   "id": "c29def56",
   "metadata": {},
   "source": [
    "## Muito obrigado por estar comigo\n",
    "\n",
    "### Oscar J. O. Ayala"
   ]
  }
 ],
 "metadata": {
  "kernelspec": {
   "display_name": "Python 3 (ipykernel)",
   "language": "python",
   "name": "python3"
  },
  "language_info": {
   "codemirror_mode": {
    "name": "ipython",
    "version": 3
   },
   "file_extension": ".py",
   "mimetype": "text/x-python",
   "name": "python",
   "nbconvert_exporter": "python",
   "pygments_lexer": "ipython3",
   "version": "3.9.13"
  }
 },
 "nbformat": 4,
 "nbformat_minor": 5
}
